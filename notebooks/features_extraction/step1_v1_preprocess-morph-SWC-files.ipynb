{
 "cells": [
  {
   "cell_type": "markdown",
   "metadata": {},
   "source": [
    "# Preprocess the SWC files\n",
    "\n",
    "The raw reconstructions are read in, the soma is reduced to one point and y and z direction are switched so that z corresponds to cortical depth. The reconstruction is resampled at a fistance of 1 micron and the y-direction (so the direction that is flattened during staining) is smoothed."
   ]
  },
  {
   "cell_type": "code",
   "execution_count": null,
   "metadata": {},
   "outputs": [],
   "source": [
    "import sys\n",
    "import pandas as pd\n",
    "import datetime\n",
    "import os\n",
    "\n",
    "from neurontree import NeuronTree as nt\n",
    "from neurontree.utils import get_standardized_swc"
   ]
  },
  {
   "cell_type": "code",
   "execution_count": null,
   "metadata": {},
   "outputs": [],
   "source": [
    "root_path='D:/mpinb/data/mouse_v1'\n",
    "\n",
    "file_path = root_path + '/raw/morph/200526/'\n",
    "saving_path = root_path + '/processed/morph/nt/'"
   ]
  },
  {
   "cell_type": "code",
   "execution_count": null,
   "metadata": {},
   "outputs": [],
   "source": [
    "meta_data_file_path = root_path + '/20200711_patchseq_metadata_mouse.csv'\n",
    "cells = pd.read_csv(meta_data_file_path, sep=',', index_col=1)\n",
    "cells = cells[cells['neuron_reconstruction_type'] == 'full']"
   ]
  },
  {
   "cell_type": "code",
   "execution_count": null,
   "metadata": {},
   "outputs": [],
   "source": [
    "for file_name in list(cells.index):\n",
    "    \n",
    "    input_file = file_path + str(file_name) + '_transformed.swc'\n",
    "    print('Preprocessing file %s ...'%input_file)\n",
    "    swc = pd.read_csv(input_file, delim_whitespace=True, comment='#',\n",
    "                      names=['n', 'type', 'x', 'y', 'z', 'radius', 'parent'], index_col=False, header=None)\n",
    "    # switch y and z since y corresponds to cortical depth\n",
    "    swc = swc.rename(columns={'y': 'z', 'z': 'y'})\n",
    "    print(swc.loc[0,\"z\"])\n",
    "    # soma center for standardization\n",
    "    rotated_swc = get_standardized_swc(swc, pca_rot=False)\n",
    "\n",
    "\n",
    "    N = nt.NeuronTree(swc=rotated_swc)\n",
    "    # Resample neuron at distance 1 micron\n",
    "    N = N.resample_tree(dist=1)\n",
    "    # Smooth neurites in y direction\n",
    "    N = N.smooth_neurites(dim=1, window_size=21)\n",
    "\n",
    "    N.write_to_swc(file_name=str(file_name), path=saving_path)"
   ]
  },
  {
   "cell_type": "code",
   "execution_count": null,
   "metadata": {},
   "outputs": [],
   "source": [
    "swc = pd.read_csv(input_file, delim_whitespace=True, comment='#',\n",
    "                      names=['n', 'type', 'x', 'y', 'z', 'radius', 'parent'], index_col=False, header=None)"
   ]
  },
  {
   "cell_type": "code",
   "execution_count": null,
   "metadata": {},
   "outputs": [],
   "source": []
  }
 ],
 "metadata": {
  "kernelspec": {
   "display_name": "Python 3 (ipykernel)",
   "language": "python",
   "name": "python3"
  },
  "language_info": {
   "codemirror_mode": {
    "name": "ipython",
    "version": 3
   },
   "file_extension": ".py",
   "mimetype": "text/x-python",
   "name": "python",
   "nbconvert_exporter": "python",
   "pygments_lexer": "ipython3",
   "version": "3.10.4"
  }
 },
 "nbformat": 4,
 "nbformat_minor": 4
}
