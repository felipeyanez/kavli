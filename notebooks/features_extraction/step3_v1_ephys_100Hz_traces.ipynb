{
 "cells": [
  {
   "cell_type": "code",
   "execution_count": 1,
   "metadata": {},
   "outputs": [],
   "source": [
    "import warnings\n",
    "warnings.filterwarnings('ignore')"
   ]
  },
  {
   "cell_type": "code",
   "execution_count": 2,
   "metadata": {},
   "outputs": [],
   "source": [
    "import pickle\n",
    "import numpy as np\n",
    "import pandas as pd\n",
    "import matplotlib.pyplot as plt\n",
    "import ipfx.spike_detector as spkd\n",
    "from ipfx.dataset.create import create_ephys_data_set\n",
    "from ipfx.utilities import drop_failed_sweeps\n",
    "from ipfx.epochs import get_stim_epoch\n",
    "from scipy.interpolate import interp1d\n",
    "from scipy.signal import find_peaks\n",
    "from scipy.io import savemat\n",
    "\n",
    "from helpers.features_100Hz_traces import extract_spike_features, get_cell_features"
   ]
  },
  {
   "cell_type": "code",
   "execution_count": 3,
   "metadata": {},
   "outputs": [],
   "source": [
    "root_path = 'D:/mpinb/data/mouse_v1'\n",
    "data_path = root_path + '/raw/ephys/'\n",
    "save_path = root_path + '/processed/ephys/'"
   ]
  },
  {
   "cell_type": "code",
   "execution_count": 4,
   "metadata": {},
   "outputs": [
    {
     "name": "stdout",
     "output_type": "stream",
     "text": [
      "Mouse GABAergic cells: 4299 (raw) 495 (MET)\n"
     ]
    }
   ],
   "source": [
    "file_manifest = pd.read_csv(root_path + \"/2021-09-13_mouse_file_manifest.csv\")\n",
    "metadata = pd.read_csv(root_path + \"/20200711_patchseq_metadata_mouse.csv\")\n",
    "metadata = metadata.loc[metadata['dendrite_type']!='spiny', :]\n",
    "met_types = pd.read_csv(root_path + \"/visp_met_cell_assignments_text_names.csv\")\n",
    "print(\"Mouse GABAergic cells: %d (raw) %d (MET)\" % (len(metadata), len(met_types)))"
   ]
  },
  {
   "cell_type": "code",
   "execution_count": 5,
   "metadata": {},
   "outputs": [
    {
     "data": {
      "text/html": [
       "<div>\n",
       "<style scoped>\n",
       "    .dataframe tbody tr th:only-of-type {\n",
       "        vertical-align: middle;\n",
       "    }\n",
       "\n",
       "    .dataframe tbody tr th {\n",
       "        vertical-align: top;\n",
       "    }\n",
       "\n",
       "    .dataframe thead th {\n",
       "        text-align: right;\n",
       "    }\n",
       "</style>\n",
       "<table border=\"1\" class=\"dataframe\">\n",
       "  <thead>\n",
       "    <tr style=\"text-align: right;\">\n",
       "      <th></th>\n",
       "      <th>project</th>\n",
       "      <th>cell_specimen_id</th>\n",
       "      <th>cell_specimen_name</th>\n",
       "      <th>hemisphere</th>\n",
       "      <th>structure</th>\n",
       "      <th>donor_id</th>\n",
       "      <th>donor_name</th>\n",
       "      <th>biological_sex</th>\n",
       "      <th>age</th>\n",
       "      <th>ethnicity</th>\n",
       "      <th>...</th>\n",
       "      <th>neuron_reconstruction_type</th>\n",
       "      <th>cell_soma_normalized_depth</th>\n",
       "      <th>depth_from_pia_um</th>\n",
       "      <th>ephys_session_id</th>\n",
       "      <th>transcriptomics_sample_id</th>\n",
       "      <th>transcriptomics_batch</th>\n",
       "      <th>Tree_first_cl_label</th>\n",
       "      <th>Unnamed: 21</th>\n",
       "      <th>specimen_id</th>\n",
       "      <th>met_type</th>\n",
       "    </tr>\n",
       "  </thead>\n",
       "  <tbody>\n",
       "    <tr>\n",
       "      <th>0</th>\n",
       "      <td>mIVSCC-MET</td>\n",
       "      <td>601506507</td>\n",
       "      <td>Vip-IRES-Cre;Ai14-331294.04.01.01</td>\n",
       "      <td>left</td>\n",
       "      <td>VISpm4</td>\n",
       "      <td>331294</td>\n",
       "      <td>Vip-IRES-Cre;Ai14-331294</td>\n",
       "      <td>M</td>\n",
       "      <td>P55</td>\n",
       "      <td>NaN</td>\n",
       "      <td>...</td>\n",
       "      <td>full</td>\n",
       "      <td>0.361015</td>\n",
       "      <td>NaN</td>\n",
       "      <td>601506492</td>\n",
       "      <td>PS0810_E1-50_S88</td>\n",
       "      <td>BT035</td>\n",
       "      <td>CS180626100018</td>\n",
       "      <td>Vip Gpc3 Slc18a3</td>\n",
       "      <td>601506507.0</td>\n",
       "      <td>Vip-MET-2</td>\n",
       "    </tr>\n",
       "    <tr>\n",
       "      <th>2</th>\n",
       "      <td>mIVSCC-MET</td>\n",
       "      <td>601803754</td>\n",
       "      <td>Sst-IRES-Cre;Ai14-331663.04.02.02</td>\n",
       "      <td>right</td>\n",
       "      <td>VISp2/3</td>\n",
       "      <td>331663</td>\n",
       "      <td>Sst-IRES-Cre;Ai14-331663</td>\n",
       "      <td>F</td>\n",
       "      <td>P57</td>\n",
       "      <td>NaN</td>\n",
       "      <td>...</td>\n",
       "      <td>full</td>\n",
       "      <td>0.164240</td>\n",
       "      <td>NaN</td>\n",
       "      <td>601803733</td>\n",
       "      <td>PS0817_E1-50_S25</td>\n",
       "      <td>BT036</td>\n",
       "      <td>CS180626100035</td>\n",
       "      <td>Sst Calb2 Pdlim5</td>\n",
       "      <td>601803754.0</td>\n",
       "      <td>Sst-MET-3</td>\n",
       "    </tr>\n",
       "    <tr>\n",
       "      <th>3</th>\n",
       "      <td>mIVSCC-MET</td>\n",
       "      <td>601808698</td>\n",
       "      <td>Sst-IRES-Cre;Ai14-331663.04.02.03</td>\n",
       "      <td>right</td>\n",
       "      <td>VISp5</td>\n",
       "      <td>331663</td>\n",
       "      <td>Sst-IRES-Cre;Ai14-331663</td>\n",
       "      <td>F</td>\n",
       "      <td>P57</td>\n",
       "      <td>NaN</td>\n",
       "      <td>...</td>\n",
       "      <td>full</td>\n",
       "      <td>0.483030</td>\n",
       "      <td>NaN</td>\n",
       "      <td>601808619</td>\n",
       "      <td>PS0817_E1-50_S26</td>\n",
       "      <td>BT036</td>\n",
       "      <td>CS180626100043</td>\n",
       "      <td>Sst Hpse Cbln4</td>\n",
       "      <td>601808698.0</td>\n",
       "      <td>Sst-MET-8</td>\n",
       "    </tr>\n",
       "    <tr>\n",
       "      <th>4</th>\n",
       "      <td>mIVSCC-MET</td>\n",
       "      <td>601810307</td>\n",
       "      <td>Sst-IRES-Cre;Ai14-331663.04.02.04</td>\n",
       "      <td>right</td>\n",
       "      <td>VISp2/3</td>\n",
       "      <td>331663</td>\n",
       "      <td>Sst-IRES-Cre;Ai14-331663</td>\n",
       "      <td>F</td>\n",
       "      <td>P57</td>\n",
       "      <td>NaN</td>\n",
       "      <td>...</td>\n",
       "      <td>full</td>\n",
       "      <td>0.295656</td>\n",
       "      <td>NaN</td>\n",
       "      <td>601810292</td>\n",
       "      <td>PS0817_E1-50_S27</td>\n",
       "      <td>BT036</td>\n",
       "      <td>CS180626100034</td>\n",
       "      <td>Sst Calb2 Necab1</td>\n",
       "      <td>601810307.0</td>\n",
       "      <td>Sst-MET-3</td>\n",
       "    </tr>\n",
       "    <tr>\n",
       "      <th>5</th>\n",
       "      <td>mIVSCC-MET</td>\n",
       "      <td>601811091</td>\n",
       "      <td>Sst-IRES-Cre;Ai14-331663.03.01.01</td>\n",
       "      <td>left</td>\n",
       "      <td>VISp6a</td>\n",
       "      <td>331663</td>\n",
       "      <td>Sst-IRES-Cre;Ai14-331663</td>\n",
       "      <td>F</td>\n",
       "      <td>P57</td>\n",
       "      <td>NaN</td>\n",
       "      <td>...</td>\n",
       "      <td>full</td>\n",
       "      <td>0.766595</td>\n",
       "      <td>NaN</td>\n",
       "      <td>601811076</td>\n",
       "      <td>PS0817_E1-50_S28</td>\n",
       "      <td>BT036</td>\n",
       "      <td>CS180626100046</td>\n",
       "      <td>Sst Esm1</td>\n",
       "      <td>601811091.0</td>\n",
       "      <td>Sst-MET-13</td>\n",
       "    </tr>\n",
       "    <tr>\n",
       "      <th>...</th>\n",
       "      <td>...</td>\n",
       "      <td>...</td>\n",
       "      <td>...</td>\n",
       "      <td>...</td>\n",
       "      <td>...</td>\n",
       "      <td>...</td>\n",
       "      <td>...</td>\n",
       "      <td>...</td>\n",
       "      <td>...</td>\n",
       "      <td>...</td>\n",
       "      <td>...</td>\n",
       "      <td>...</td>\n",
       "      <td>...</td>\n",
       "      <td>...</td>\n",
       "      <td>...</td>\n",
       "      <td>...</td>\n",
       "      <td>...</td>\n",
       "      <td>...</td>\n",
       "      <td>...</td>\n",
       "      <td>...</td>\n",
       "      <td>...</td>\n",
       "    </tr>\n",
       "    <tr>\n",
       "      <th>4263</th>\n",
       "      <td>mIVSCC-MET</td>\n",
       "      <td>992268582</td>\n",
       "      <td>Vipr2-IRES2-Cre;Slc32a1-IRES2-FlpO;Ai65-499514...</td>\n",
       "      <td>right</td>\n",
       "      <td>VISp2/3</td>\n",
       "      <td>499514</td>\n",
       "      <td>Vipr2-IRES2-Cre;Slc32a1-IRES2-FlpO;Ai65-499514</td>\n",
       "      <td>M</td>\n",
       "      <td>P57</td>\n",
       "      <td>NaN</td>\n",
       "      <td>...</td>\n",
       "      <td>full</td>\n",
       "      <td>0.222557</td>\n",
       "      <td>NaN</td>\n",
       "      <td>992268560</td>\n",
       "      <td>SM-J39ZH_S506_E1-50</td>\n",
       "      <td>RSC-240</td>\n",
       "      <td>CS180626100060</td>\n",
       "      <td>Pvalb Vipr2</td>\n",
       "      <td>992268582.0</td>\n",
       "      <td>Pvalb-MET-5</td>\n",
       "    </tr>\n",
       "    <tr>\n",
       "      <th>4266</th>\n",
       "      <td>mIVSCC-MET</td>\n",
       "      <td>992386952</td>\n",
       "      <td>Sncg-IRES2-FlpO-neo;Ai65F-499189.04.02.02</td>\n",
       "      <td>right</td>\n",
       "      <td>VISl1</td>\n",
       "      <td>499189</td>\n",
       "      <td>Sncg-IRES2-FlpO-neo;Ai65F-499189</td>\n",
       "      <td>F</td>\n",
       "      <td>P60</td>\n",
       "      <td>NaN</td>\n",
       "      <td>...</td>\n",
       "      <td>full</td>\n",
       "      <td>0.143579</td>\n",
       "      <td>NaN</td>\n",
       "      <td>992386928</td>\n",
       "      <td>SM-J39ZH_S505_E1-50</td>\n",
       "      <td>RSC-240</td>\n",
       "      <td>CS180626100011</td>\n",
       "      <td>Sncg Vip Itih5</td>\n",
       "      <td>992386952.0</td>\n",
       "      <td>Sncg-MET-1</td>\n",
       "    </tr>\n",
       "    <tr>\n",
       "      <th>4277</th>\n",
       "      <td>mIVSCC-MET</td>\n",
       "      <td>992830261</td>\n",
       "      <td>Sncg-IRES2-FlpO-neo;Ai65F-499191.05.02.02</td>\n",
       "      <td>right</td>\n",
       "      <td>VISp5</td>\n",
       "      <td>499191</td>\n",
       "      <td>Sncg-IRES2-FlpO-neo;Ai65F-499191</td>\n",
       "      <td>F</td>\n",
       "      <td>P62</td>\n",
       "      <td>NaN</td>\n",
       "      <td>...</td>\n",
       "      <td>full</td>\n",
       "      <td>0.691884</td>\n",
       "      <td>NaN</td>\n",
       "      <td>992830126</td>\n",
       "      <td>SM-J39ZH_S566_E1-50</td>\n",
       "      <td>RSC-240</td>\n",
       "      <td>CS180626100008</td>\n",
       "      <td>Sncg Slc17a8</td>\n",
       "      <td>992830261.0</td>\n",
       "      <td>Sncg-MET-3</td>\n",
       "    </tr>\n",
       "    <tr>\n",
       "      <th>4279</th>\n",
       "      <td>mIVSCC-MET</td>\n",
       "      <td>993245688</td>\n",
       "      <td>Sncg-IRES2-FlpO-neo;Ai65F-500414.05.01.01</td>\n",
       "      <td>left</td>\n",
       "      <td>VISp2/3</td>\n",
       "      <td>500414</td>\n",
       "      <td>Sncg-IRES2-FlpO-neo;Ai65F-500414</td>\n",
       "      <td>M</td>\n",
       "      <td>P55</td>\n",
       "      <td>NaN</td>\n",
       "      <td>...</td>\n",
       "      <td>full</td>\n",
       "      <td>0.270298</td>\n",
       "      <td>NaN</td>\n",
       "      <td>993245664</td>\n",
       "      <td>SM-J39TJ_S275_E1-50</td>\n",
       "      <td>RSC-242</td>\n",
       "      <td>CS180626100010</td>\n",
       "      <td>Sncg Gpr50</td>\n",
       "      <td>993245688.0</td>\n",
       "      <td>Sncg-MET-1</td>\n",
       "    </tr>\n",
       "    <tr>\n",
       "      <th>4287</th>\n",
       "      <td>mIVSCC-MET</td>\n",
       "      <td>993283588</td>\n",
       "      <td>Sncg-IRES2-FlpO-neo;Ai65F-500415.03.02.01</td>\n",
       "      <td>right</td>\n",
       "      <td>VISp2/3</td>\n",
       "      <td>500415</td>\n",
       "      <td>Sncg-IRES2-FlpO-neo;Ai65F-500415</td>\n",
       "      <td>M</td>\n",
       "      <td>P55</td>\n",
       "      <td>NaN</td>\n",
       "      <td>...</td>\n",
       "      <td>full</td>\n",
       "      <td>0.207759</td>\n",
       "      <td>NaN</td>\n",
       "      <td>993283569</td>\n",
       "      <td>SM-J39TJ_S273_E1-50</td>\n",
       "      <td>RSC-242</td>\n",
       "      <td>CS180626100010</td>\n",
       "      <td>Sncg Gpr50</td>\n",
       "      <td>993283588.0</td>\n",
       "      <td>Sncg-MET-1</td>\n",
       "    </tr>\n",
       "  </tbody>\n",
       "</table>\n",
       "<p>495 rows × 24 columns</p>\n",
       "</div>"
      ],
      "text/plain": [
       "         project  cell_specimen_id  \\\n",
       "0     mIVSCC-MET         601506507   \n",
       "2     mIVSCC-MET         601803754   \n",
       "3     mIVSCC-MET         601808698   \n",
       "4     mIVSCC-MET         601810307   \n",
       "5     mIVSCC-MET         601811091   \n",
       "...          ...               ...   \n",
       "4263  mIVSCC-MET         992268582   \n",
       "4266  mIVSCC-MET         992386952   \n",
       "4277  mIVSCC-MET         992830261   \n",
       "4279  mIVSCC-MET         993245688   \n",
       "4287  mIVSCC-MET         993283588   \n",
       "\n",
       "                                     cell_specimen_name hemisphere structure  \\\n",
       "0                     Vip-IRES-Cre;Ai14-331294.04.01.01       left    VISpm4   \n",
       "2                     Sst-IRES-Cre;Ai14-331663.04.02.02      right   VISp2/3   \n",
       "3                     Sst-IRES-Cre;Ai14-331663.04.02.03      right     VISp5   \n",
       "4                     Sst-IRES-Cre;Ai14-331663.04.02.04      right   VISp2/3   \n",
       "5                     Sst-IRES-Cre;Ai14-331663.03.01.01       left    VISp6a   \n",
       "...                                                 ...        ...       ...   \n",
       "4263  Vipr2-IRES2-Cre;Slc32a1-IRES2-FlpO;Ai65-499514...      right   VISp2/3   \n",
       "4266          Sncg-IRES2-FlpO-neo;Ai65F-499189.04.02.02      right     VISl1   \n",
       "4277          Sncg-IRES2-FlpO-neo;Ai65F-499191.05.02.02      right     VISp5   \n",
       "4279          Sncg-IRES2-FlpO-neo;Ai65F-500414.05.01.01       left   VISp2/3   \n",
       "4287          Sncg-IRES2-FlpO-neo;Ai65F-500415.03.02.01      right   VISp2/3   \n",
       "\n",
       "      donor_id                                      donor_name biological_sex  \\\n",
       "0       331294                        Vip-IRES-Cre;Ai14-331294              M   \n",
       "2       331663                        Sst-IRES-Cre;Ai14-331663              F   \n",
       "3       331663                        Sst-IRES-Cre;Ai14-331663              F   \n",
       "4       331663                        Sst-IRES-Cre;Ai14-331663              F   \n",
       "5       331663                        Sst-IRES-Cre;Ai14-331663              F   \n",
       "...        ...                                             ...            ...   \n",
       "4263    499514  Vipr2-IRES2-Cre;Slc32a1-IRES2-FlpO;Ai65-499514              M   \n",
       "4266    499189                Sncg-IRES2-FlpO-neo;Ai65F-499189              F   \n",
       "4277    499191                Sncg-IRES2-FlpO-neo;Ai65F-499191              F   \n",
       "4279    500414                Sncg-IRES2-FlpO-neo;Ai65F-500414              M   \n",
       "4287    500415                Sncg-IRES2-FlpO-neo;Ai65F-500415              M   \n",
       "\n",
       "      age  ethnicity  ...  neuron_reconstruction_type  \\\n",
       "0     P55        NaN  ...                        full   \n",
       "2     P57        NaN  ...                        full   \n",
       "3     P57        NaN  ...                        full   \n",
       "4     P57        NaN  ...                        full   \n",
       "5     P57        NaN  ...                        full   \n",
       "...   ...        ...  ...                         ...   \n",
       "4263  P57        NaN  ...                        full   \n",
       "4266  P60        NaN  ...                        full   \n",
       "4277  P62        NaN  ...                        full   \n",
       "4279  P55        NaN  ...                        full   \n",
       "4287  P55        NaN  ...                        full   \n",
       "\n",
       "     cell_soma_normalized_depth depth_from_pia_um ephys_session_id  \\\n",
       "0                      0.361015               NaN        601506492   \n",
       "2                      0.164240               NaN        601803733   \n",
       "3                      0.483030               NaN        601808619   \n",
       "4                      0.295656               NaN        601810292   \n",
       "5                      0.766595               NaN        601811076   \n",
       "...                         ...               ...              ...   \n",
       "4263                   0.222557               NaN        992268560   \n",
       "4266                   0.143579               NaN        992386928   \n",
       "4277                   0.691884               NaN        992830126   \n",
       "4279                   0.270298               NaN        993245664   \n",
       "4287                   0.207759               NaN        993283569   \n",
       "\n",
       "     transcriptomics_sample_id  transcriptomics_batch  Tree_first_cl_label  \\\n",
       "0             PS0810_E1-50_S88                  BT035       CS180626100018   \n",
       "2             PS0817_E1-50_S25                  BT036       CS180626100035   \n",
       "3             PS0817_E1-50_S26                  BT036       CS180626100043   \n",
       "4             PS0817_E1-50_S27                  BT036       CS180626100034   \n",
       "5             PS0817_E1-50_S28                  BT036       CS180626100046   \n",
       "...                        ...                    ...                  ...   \n",
       "4263       SM-J39ZH_S506_E1-50                RSC-240       CS180626100060   \n",
       "4266       SM-J39ZH_S505_E1-50                RSC-240       CS180626100011   \n",
       "4277       SM-J39ZH_S566_E1-50                RSC-240       CS180626100008   \n",
       "4279       SM-J39TJ_S275_E1-50                RSC-242       CS180626100010   \n",
       "4287       SM-J39TJ_S273_E1-50                RSC-242       CS180626100010   \n",
       "\n",
       "           Unnamed: 21  specimen_id     met_type  \n",
       "0     Vip Gpc3 Slc18a3  601506507.0    Vip-MET-2  \n",
       "2     Sst Calb2 Pdlim5  601803754.0    Sst-MET-3  \n",
       "3       Sst Hpse Cbln4  601808698.0    Sst-MET-8  \n",
       "4     Sst Calb2 Necab1  601810307.0    Sst-MET-3  \n",
       "5             Sst Esm1  601811091.0   Sst-MET-13  \n",
       "...                ...          ...          ...  \n",
       "4263       Pvalb Vipr2  992268582.0  Pvalb-MET-5  \n",
       "4266    Sncg Vip Itih5  992386952.0   Sncg-MET-1  \n",
       "4277      Sncg Slc17a8  992830261.0   Sncg-MET-3  \n",
       "4279        Sncg Gpr50  993245688.0   Sncg-MET-1  \n",
       "4287        Sncg Gpr50  993283588.0   Sncg-MET-1  \n",
       "\n",
       "[495 rows x 24 columns]"
      ]
     },
     "execution_count": 5,
     "metadata": {},
     "output_type": "execute_result"
    }
   ],
   "source": [
    "metadata = metadata.merge(met_types, how='outer', left_on='cell_specimen_id', right_on='specimen_id')\n",
    "metadata = metadata.loc[metadata['met_type'].notna(), :]\n",
    "metadata"
   ]
  },
  {
   "cell_type": "code",
   "execution_count": 6,
   "metadata": {},
   "outputs": [
    {
     "name": "stdout",
     "output_type": "stream",
     "text": [
      "   0 Specimen ID: 601506507 | VISpm4 | Vip-MET-2 | Sweep ID: 19 | Init. freq.: 98.81 Hz\n"
     ]
    },
    {
     "name": "stderr",
     "output_type": "stream",
     "text": [
      "WARNING:root:sweep 11: ['stim epoch is missing', 'experiment epoch is missing']\n"
     ]
    },
    {
     "name": "stdout",
     "output_type": "stream",
     "text": [
      "   1 Specimen ID: 601803754 | VISp2/3 | Sst-MET-3 | Sweep ID: 7 | Init. freq.: 84.60 Hz\n",
      "   2 Specimen ID: 601808698 | VISp5 | Sst-MET-8 | Sweep ID: 20 | Init. freq.: 106.38 Hz\n",
      "   3 Specimen ID: 601810307 | VISp2/3 | Sst-MET-3 | Sweep ID: 31 | Init. freq.: 104.60 Hz\n",
      "   4 Specimen ID: 601811091 | VISp6a | Sst-MET-13 | Sweep ID: 23 | Init. freq.: 84.89 Hz\n",
      "   5 Specimen ID: 602231708 | VISp5 | Sst-MET-4 | Sweep ID: 20 | Init. freq.: 107.76 Hz\n",
      "   6 Specimen ID: 602535278 | VISp2/3 | Sst-MET-3 | Sweep ID: 27 | Init. freq.: 102.25 Hz\n",
      "   7 Specimen ID: 604646725 | VISp2/3 | Vip-MET-1 | Sweep ID: 21 | Init. freq.: 90.58 Hz\n",
      "   8 Specimen ID: 605060256 | VISal4 | Vip-MET-4 | Sweep ID: 29 | Init. freq.: 69.16 Hz\n",
      "   9 Specimen ID: 605160536 | VISp2/3 | Vip-MET-5 | Sweep ID: 5 | Init. freq.: 105.26 Hz\n",
      "  10 Specimen ID: 606098116 | VISp2/3 | Pvalb-MET-4 | Sweep ID: 16 | Init. freq.: 51.65 Hz\n",
      "  11 Specimen ID: 606271263 | VISp2/3 | Pvalb-MET-5 | Sweep ID: 26 | Init. freq.: 108.70 Hz\n",
      "  12 Specimen ID: 606308411 | VISam2/3 | Pvalb-MET-5 | Sweep ID: 31 | Init. freq.: 107.99 Hz\n",
      "  13 Specimen ID: 614728680 | VISp5 | Pvalb-MET-4 | Sweep ID: 14 | Init. freq.: 101.42 Hz\n",
      "  14 Specimen ID: 623326230 | VISp2/3 | Sst-MET-2 | Sweep ID: 34 | Init. freq.: 56.37 Hz\n",
      "  15 Specimen ID: 623415197 | VISp2/3 | Pvalb-MET-4 | Sweep ID: 31 | Init. freq.: 104.82 Hz\n"
     ]
    },
    {
     "name": "stderr",
     "output_type": "stream",
     "text": [
      "WARNING:root:sweep 10: ['stim epoch is missing', 'experiment epoch is missing']\n"
     ]
    },
    {
     "name": "stdout",
     "output_type": "stream",
     "text": [
      "  16 Specimen ID: 623434306 | VISp2/3 | Sst-MET-2 | Sweep ID: 24 | Init. freq.: 99.01 Hz\n",
      "  17 Specimen ID: 626153003 | VISp5 | Sst-MET-12 | Sweep ID: 26 | Init. freq.: 108.23 Hz\n"
     ]
    },
    {
     "name": "stderr",
     "output_type": "stream",
     "text": [
      "WARNING:root:sweep 47: ['stim epoch is missing', 'experiment epoch is missing']\n"
     ]
    },
    {
     "name": "stdout",
     "output_type": "stream",
     "text": [
      "  18 Specimen ID: 627881581 | VISp4 | Sst-MET-8 | Sweep ID: 27 | Init. freq.: 105.93 Hz\n"
     ]
    },
    {
     "name": "stderr",
     "output_type": "stream",
     "text": [
      "WARNING:root:sweep 61: ['stim epoch is missing', 'experiment epoch is missing']\n"
     ]
    },
    {
     "name": "stdout",
     "output_type": "stream",
     "text": [
      "  19 Specimen ID: 637846989 | VISp2/3 | Lamp5-MET-1 | Sweep ID: 33 | Init. freq.: 55.49 Hz\n",
      "  20 Specimen ID: 639004612 | VISpm2/3 | Vip-MET-1 | Sweep ID: 17 | Init. freq.: 103.73 Hz\n"
     ]
    },
    {
     "name": "stderr",
     "output_type": "stream",
     "text": [
      "WARNING:root:sweep 44: ['Recording stopped before completing the experiment epoch']\n"
     ]
    },
    {
     "name": "stdout",
     "output_type": "stream",
     "text": [
      "  21 Specimen ID: 639013022 | VISp2/3 | Vip-MET-1 | Sweep ID: 5 | Init. freq.: 86.36 Hz\n",
      "  22 Specimen ID: 639674270 | VISp5 | Vip-MET-3 | Sweep ID: 7 | Init. freq.: 72.89 Hz\n"
     ]
    },
    {
     "name": "stderr",
     "output_type": "stream",
     "text": [
      "WARNING:root:sweep 16: ['stim epoch is missing', 'experiment epoch is missing']\n"
     ]
    },
    {
     "name": "stdout",
     "output_type": "stream",
     "text": [
      "  23 Specimen ID: 639708328 | VISp5 | Sst-MET-12 | Sweep ID: 7 | Init. freq.: 52.80 Hz\n",
      "  24 Specimen ID: 639797308 | VISp2/3 | Pvalb-MET-4 | Sweep ID: 3 | Init. freq.: 82.78 Hz\n",
      "  25 Specimen ID: 639809582 | VISp6a | Sst-MET-12 | Sweep ID: 8 | Init. freq.: 56.18 Hz\n",
      "  26 Specimen ID: 639841063 | VISp4 | Sst-MET-8 | Sweep ID: 7 | Init. freq.: 62.89 Hz\n",
      "  27 Specimen ID: 639862877 | VISp5 | Sst-MET-8 | Sweep ID: 6 | Init. freq.: 61.27 Hz\n",
      "  28 Specimen ID: 639881631 | VISp5 | Sst-MET-5 | Sweep ID: 5 | Init. freq.: 141.64 Hz\n",
      "  29 Specimen ID: 639893239 | VISp6a | Sst-MET-12 | Sweep ID: 6 | Init. freq.: 120.19 Hz\n",
      "  30 Specimen ID: 639962984 | VISp2/3 | Sst-MET-2 | Sweep ID: 7 | Init. freq.: 78.37 Hz\n",
      "  31 Specimen ID: 640061596 | VISp5 | Sst-MET-1 | Sweep ID: 6 | Init. freq.: 28.85 Hz\n",
      "  32 Specimen ID: 640111844 | VISp6a | Sst-MET-12 | Sweep ID: 8 | Init. freq.: 66.76 Hz\n",
      "  33 Specimen ID: 640280740 | VISp2/3 | Vip-MET-4 | Sweep ID: 7 | Init. freq.: 76.80 Hz\n",
      "  34 Specimen ID: 642124659 | VISp2/3 | Lamp5-MET-1 | Sweep ID: 7 | Init. freq.: 30.18 Hz\n",
      "  35 Specimen ID: 643021973 | VISp2/3 | Vip-MET-4 | Sweep ID: 7 | Init. freq.: 125.63 Hz\n",
      "  36 Specimen ID: 643536919 | VISpm5 | Sncg-MET-1 | Sweep ID: 4 | Init. freq.: 195.31 Hz\n",
      "  37 Specimen ID: 643727497 | VISp6a | Sst-MET-1 | Sweep ID: 7 | Init. freq.: 71.94 Hz\n",
      "  38 Specimen ID: 643754730 | VISp5 | Sst-MET-1 | Sweep ID: 6 | Init. freq.: 34.89 Hz\n",
      "  39 Specimen ID: 644571405 | VISp6a | Pvalb-MET-2 | Sweep ID: 13 | Init. freq.: 122.55 Hz\n",
      "  40 Specimen ID: 644920227 | VISl2/3 | Vip-MET-5 | Sweep ID: 7 | Init. freq.: 145.77 Hz\n"
     ]
    },
    {
     "name": "stderr",
     "output_type": "stream",
     "text": [
      "WARNING:root:sweep 18: ['stim epoch is missing', 'experiment epoch is missing']\n",
      "WARNING:root:sweep 30: ['stim epoch is missing', 'experiment epoch is missing']\n"
     ]
    },
    {
     "name": "stdout",
     "output_type": "stream",
     "text": [
      "  41 Specimen ID: 644994103 | VISp5 | Lamp5-MET-1 | Sweep ID: 6 | Init. freq.: 25.77 Hz\n",
      "  42 Specimen ID: 645012440 | VISp5 | Sst-MET-6 | Sweep ID: 8 | Init. freq.: 103.31 Hz\n",
      "  43 Specimen ID: 645057881 | VISp5 | Sst-MET-4 | Sweep ID: 8 | Init. freq.: 75.76 Hz\n",
      "  44 Specimen ID: 645169930 | VISp1 | Lamp5-MET-1 | Sweep ID: 9 | Init. freq.: 29.67 Hz\n",
      "  45 Specimen ID: 645322005 | VISp5 | Sst-MET-12 | Sweep ID: 8 | Init. freq.: 166.67 Hz\n",
      "  46 Specimen ID: 645355846 | VISpl6a | Pvalb-MET-2 | Sweep ID: 9 | Init. freq.: 109.89 Hz\n",
      "  47 Specimen ID: 646805498 | VISpor5 | Pvalb-MET-4 | Sweep ID: 10 | Init. freq.: 115.21 Hz\n",
      "  48 Specimen ID: 646852171 | VISp5 | Pvalb-MET-4 | Sweep ID: 12 | Init. freq.: 120.19 Hz\n",
      "  49 Specimen ID: 648139266 | VISp2/3 | Vip-MET-2 | Sweep ID: 9 | Init. freq.: 51.60 Hz\n",
      "  50 Specimen ID: 648582997 | VISp1 | Lamp5-MET-1 | Sweep ID: 11 | Init. freq.: 65.53 Hz\n",
      "  51 Specimen ID: 649387261 | VISp5 | Sst-MET-5 | Sweep ID: 5 | Init. freq.: 81.57 Hz\n",
      "  52 Specimen ID: 652299236 | VISp2/3 | Pvalb-MET-4 | Sweep ID: 10 | Init. freq.: 99.80 Hz\n",
      "  53 Specimen ID: 652300499 | VISl2/3 | Lamp5-MET-1 | Sweep ID: 8 | Init. freq.: 18.93 Hz\n",
      "  54 Specimen ID: 652305423 | VISp6a | Lamp5-MET-1 | Sweep ID: 7 | Init. freq.: 23.17 Hz\n",
      "  56 Specimen ID: 652516963 | VISal2/3 | Sncg-MET-2 | Sweep ID: 5 | Init. freq.: 181.82 Hz\n",
      "  57 Specimen ID: 652533530 | VISli5 | Sst-MET-12 | Sweep ID: 9 | Init. freq.: 42.92 Hz\n",
      "  58 Specimen ID: 652812484 | VISp2/3 | Lamp5-MET-1 | Sweep ID: 14 | Init. freq.: 22.48 Hz\n",
      "  59 Specimen ID: 652958762 | VISl5 | Sst-MET-8 | Sweep ID: 15 | Init. freq.: 56.43 Hz\n"
     ]
    },
    {
     "name": "stderr",
     "output_type": "stream",
     "text": [
      "WARNING:root:sweep 26: ['Recording stopped before completing the experiment epoch']\n",
      "WARNING:root:sweep 27: ['Recording stopped before completing the experiment epoch']\n",
      "WARNING:root:sweep 28: ['Recording stopped before completing the experiment epoch']\n",
      "WARNING:root:sweep 29: ['Recording stopped before completing the experiment epoch']\n",
      "WARNING:root:sweep 30: ['Recording stopped before completing the experiment epoch']\n",
      "WARNING:root:sweep 31: ['Recording stopped before completing the experiment epoch']\n",
      "WARNING:root:sweep 32: ['Recording stopped before completing the experiment epoch']\n"
     ]
    },
    {
     "name": "stdout",
     "output_type": "stream",
     "text": [
      "  60 Specimen ID: 653327513 | VISp6a | Pvalb-MET-2 | Sweep ID: 12 | Init. freq.: 3.52 Hz\n",
      "  61 Specimen ID: 653699672 | VISpm5 | Sst-MET-8 | Sweep ID: 9 | Init. freq.: 75.08 Hz\n",
      "  62 Specimen ID: 656156755 | VISp5 | Sst-MET-8 | Sweep ID: 12 | Init. freq.: 78.74 Hz\n",
      "  63 Specimen ID: 656705176 | VISp2/3 | Sst-MET-1 | Sweep ID: 20 | Init. freq.: 20.78 Hz\n"
     ]
    },
    {
     "name": "stderr",
     "output_type": "stream",
     "text": [
      "WARNING:root:sweep 12: ['stim epoch is missing', 'experiment epoch is missing']\n"
     ]
    },
    {
     "name": "stdout",
     "output_type": "stream",
     "text": [
      "  64 Specimen ID: 656706125 | VISp2/3 | Pvalb-MET-4 | Sweep ID: 13 | Init. freq.: 77.16 Hz\n",
      "  65 Specimen ID: 656901554 | VISl5 | Sst-MET-7 | Sweep ID: 6 | Init. freq.: 60.02 Hz\n"
     ]
    },
    {
     "name": "stderr",
     "output_type": "stream",
     "text": [
      "WARNING:root:sweep 18: ['Recording stopped before completing the experiment epoch']\n",
      "WARNING:root:sweep 19: ['Recording stopped before completing the experiment epoch']\n",
      "WARNING:root:sweep 20: ['Recording stopped before completing the experiment epoch']\n",
      "WARNING:root:sweep 21: ['Recording stopped before completing the experiment epoch']\n",
      "WARNING:root:sweep 22: ['Recording stopped before completing the experiment epoch']\n"
     ]
    },
    {
     "name": "stdout",
     "output_type": "stream",
     "text": [
      "  66 Specimen ID: 657184390 | VISp4 | Vip-MET-2 | Sweep ID: 8 | Init. freq.: 125.00 Hz\n",
      "  67 Specimen ID: 657185355 | VISal2/3 | Vip-MET-2 | Sweep ID: 10 | Init. freq.: 97.85 Hz\n",
      "  68 Specimen ID: 657442490 | VISp5 | Sst-MET-7 | Sweep ID: 7 | Init. freq.: 108.70 Hz\n",
      "  69 Specimen ID: 657454163 | VISp4 | Sst-MET-8 | Sweep ID: 14 | Init. freq.: 96.71 Hz\n"
     ]
    },
    {
     "name": "stderr",
     "output_type": "stream",
     "text": [
      "WARNING:root:sweep 22: ['Recording stopped before completing the experiment epoch']\n",
      "WARNING:root:sweep 23: ['Recording stopped before completing the experiment epoch']\n",
      "WARNING:root:sweep 24: ['Recording stopped before completing the experiment epoch']\n",
      "WARNING:root:sweep 25: ['Recording stopped before completing the experiment epoch']\n",
      "WARNING:root:sweep 26: ['Recording stopped before completing the experiment epoch']\n"
     ]
    },
    {
     "name": "stdout",
     "output_type": "stream",
     "text": [
      "  70 Specimen ID: 657661669 | VISp6a | Sst-MET-12 | Sweep ID: 8 | Init. freq.: 103.31 Hz\n",
      "  71 Specimen ID: 657661984 | VISp5 | Sst-MET-8 | Sweep ID: 8 | Init. freq.: 94.34 Hz\n"
     ]
    },
    {
     "name": "stderr",
     "output_type": "stream",
     "text": [
      "WARNING:root:sweep 19: ['Recording stopped before completing the experiment epoch']\n",
      "WARNING:root:sweep 20: ['Recording stopped before completing the experiment epoch']\n",
      "WARNING:root:sweep 21: ['Recording stopped before completing the experiment epoch']\n",
      "WARNING:root:sweep 22: ['Recording stopped before completing the experiment epoch']\n",
      "WARNING:root:sweep 23: ['Recording stopped before completing the experiment epoch']\n"
     ]
    },
    {
     "name": "stdout",
     "output_type": "stream",
     "text": [
      "  72 Specimen ID: 657675492 | VISp2/3 | Sst-MET-3 | Sweep ID: 8 | Init. freq.: 122.25 Hz\n"
     ]
    },
    {
     "name": "stderr",
     "output_type": "stream",
     "text": [
      "WARNING:root:sweep 24: ['Recording stopped before completing the experiment epoch']\n",
      "WARNING:root:sweep 25: ['Recording stopped before completing the experiment epoch']\n",
      "WARNING:root:sweep 26: ['Recording stopped before completing the experiment epoch']\n",
      "WARNING:root:sweep 27: ['Recording stopped before completing the experiment epoch']\n",
      "WARNING:root:sweep 28: ['Recording stopped before completing the experiment epoch']\n",
      "WARNING:root:sweep 29: ['Recording stopped before completing the experiment epoch']\n"
     ]
    },
    {
     "name": "stdout",
     "output_type": "stream",
     "text": [
      "  73 Specimen ID: 657857340 | VISl5 | Sst-MET-4 | Sweep ID: 7 | Init. freq.: 75.99 Hz\n"
     ]
    },
    {
     "name": "stderr",
     "output_type": "stream",
     "text": [
      "WARNING:root:sweep 26: ['Recording stopped before completing the experiment epoch']\n",
      "WARNING:root:sweep 27: ['Recording stopped before completing the experiment epoch']\n",
      "WARNING:root:sweep 28: ['Recording stopped before completing the experiment epoch']\n",
      "WARNING:root:sweep 29: ['Recording stopped before completing the experiment epoch']\n",
      "WARNING:root:sweep 30: ['Recording stopped before completing the experiment epoch']\n",
      "WARNING:root:sweep 31: ['Recording stopped before completing the experiment epoch']\n"
     ]
    },
    {
     "name": "stdout",
     "output_type": "stream",
     "text": [
      "  74 Specimen ID: 657858349 | VISli5 | Sst-MET-6 | Sweep ID: 7 | Init. freq.: 120.48 Hz\n",
      "  75 Specimen ID: 657983207 | VISpm6a | Sst-MET-12 | Sweep ID: 11 | Init. freq.: 73.86 Hz\n"
     ]
    },
    {
     "name": "stderr",
     "output_type": "stream",
     "text": [
      "WARNING:root:sweep 20: ['Recording stopped before completing the experiment epoch']\n",
      "WARNING:root:sweep 21: ['Recording stopped before completing the experiment epoch']\n",
      "WARNING:root:sweep 22: ['Recording stopped before completing the experiment epoch']\n",
      "WARNING:root:sweep 23: ['Recording stopped before completing the experiment epoch']\n",
      "WARNING:root:sweep 24: ['Recording stopped before completing the experiment epoch']\n"
     ]
    },
    {
     "name": "stdout",
     "output_type": "stream",
     "text": [
      "  76 Specimen ID: 657984709 | VISpm6a | Pvalb-MET-2 | Sweep ID: 7 | Init. freq.: 108.46 Hz\n"
     ]
    },
    {
     "name": "stderr",
     "output_type": "stream",
     "text": [
      "WARNING:root:sweep 20: ['Recording stopped before completing the experiment epoch']\n",
      "WARNING:root:sweep 21: ['Recording stopped before completing the experiment epoch']\n",
      "WARNING:root:sweep 22: ['Recording stopped before completing the experiment epoch']\n",
      "WARNING:root:sweep 23: ['Recording stopped before completing the experiment epoch']\n",
      "WARNING:root:sweep 24: ['Recording stopped before completing the experiment epoch']\n"
     ]
    },
    {
     "name": "stdout",
     "output_type": "stream",
     "text": [
      "  77 Specimen ID: 657985196 | VISp6a | Sst-MET-12 | Sweep ID: 8 | Init. freq.: 110.38 Hz\n"
     ]
    },
    {
     "name": "stderr",
     "output_type": "stream",
     "text": [
      "WARNING:root:sweep 20: ['Recording stopped before completing the experiment epoch']\n",
      "WARNING:root:sweep 21: ['Recording stopped before completing the experiment epoch']\n",
      "WARNING:root:sweep 22: ['Recording stopped before completing the experiment epoch']\n",
      "WARNING:root:sweep 23: ['Recording stopped before completing the experiment epoch']\n",
      "WARNING:root:sweep 24: ['Recording stopped before completing the experiment epoch']\n"
     ]
    },
    {
     "name": "stdout",
     "output_type": "stream",
     "text": [
      "  78 Specimen ID: 657999088 | VISpm2/3 | Sst-MET-3 | Sweep ID: 8 | Init. freq.: 88.18 Hz\n"
     ]
    },
    {
     "name": "stderr",
     "output_type": "stream",
     "text": [
      "WARNING:root:sweep 25: ['Recording stopped before completing the experiment epoch']\n",
      "WARNING:root:sweep 26: ['Recording stopped before completing the experiment epoch']\n",
      "WARNING:root:sweep 27: ['Recording stopped before completing the experiment epoch']\n",
      "WARNING:root:sweep 28: ['Recording stopped before completing the experiment epoch']\n",
      "WARNING:root:sweep 29: ['Recording stopped before completing the experiment epoch']\n"
     ]
    },
    {
     "name": "stdout",
     "output_type": "stream",
     "text": [
      "  79 Specimen ID: 658012080 | VISp6a | Sst-MET-12 | Sweep ID: 10 | Init. freq.: 132.28 Hz\n"
     ]
    },
    {
     "name": "stderr",
     "output_type": "stream",
     "text": [
      "WARNING:root:sweep 18: ['Recording stopped before completing the experiment epoch']\n",
      "WARNING:root:sweep 19: ['Recording stopped before completing the experiment epoch']\n",
      "WARNING:root:sweep 20: ['Recording stopped before completing the experiment epoch']\n",
      "WARNING:root:sweep 21: ['Recording stopped before completing the experiment epoch']\n",
      "WARNING:root:sweep 22: ['Recording stopped before completing the experiment epoch']\n"
     ]
    },
    {
     "name": "stdout",
     "output_type": "stream",
     "text": [
      "  80 Specimen ID: 658447323 | VISp2/3 | Vip-MET-5 | Sweep ID: 7 | Init. freq.: 103.09 Hz\n",
      "  81 Specimen ID: 659012847 | VISp6a | Pvalb-MET-2 | Sweep ID: 15 | Init. freq.: 86.66 Hz\n",
      "  82 Specimen ID: 659405820 | VISp5 | Sst-MET-12 | Sweep ID: 11 | Init. freq.: 120.19 Hz\n",
      "  83 Specimen ID: 659405868 | VISp2/3 | Sst-MET-1 | Sweep ID: 12 | Init. freq.: 30.08 Hz\n",
      "  84 Specimen ID: 659413418 | VISp4 | Sst-MET-12 | Sweep ID: 9 | Init. freq.: 122.25 Hz\n"
     ]
    },
    {
     "name": "stderr",
     "output_type": "stream",
     "text": [
      "WARNING:root:sweep 22: ['Recording stopped before completing the experiment epoch']\n",
      "WARNING:root:sweep 23: ['Recording stopped before completing the experiment epoch']\n",
      "WARNING:root:sweep 24: ['Recording stopped before completing the experiment epoch']\n",
      "WARNING:root:sweep 25: ['Recording stopped before completing the experiment epoch']\n",
      "WARNING:root:sweep 26: ['Recording stopped before completing the experiment epoch']\n",
      "WARNING:root:sweep 27: ['Recording stopped before completing the experiment epoch']\n",
      "WARNING:root:sweep 28: ['Recording stopped before completing the experiment epoch']\n",
      "WARNING:root:sweep 29: ['Recording stopped before completing the experiment epoch']\n"
     ]
    },
    {
     "name": "stdout",
     "output_type": "stream",
     "text": [
      "  85 Specimen ID: 659697295 | VISp2/3 | Lamp5-MET-1 | Sweep ID: 11 | Init. freq.: 63.29 Hz\n",
      "  86 Specimen ID: 660050258 | VISp5 | Sst-MET-6 | Sweep ID: 5 | Init. freq.: 151.06 Hz\n"
     ]
    },
    {
     "name": "stderr",
     "output_type": "stream",
     "text": [
      "WARNING:root:sweep 36: ['Recording stopped before completing the experiment epoch']\n",
      "WARNING:root:sweep 37: ['Recording stopped before completing the experiment epoch']\n",
      "WARNING:root:sweep 38: ['Recording stopped before completing the experiment epoch']\n",
      "WARNING:root:sweep 39: ['Recording stopped before completing the experiment epoch']\n",
      "WARNING:root:sweep 40: ['Recording stopped before completing the experiment epoch']\n",
      "WARNING:root:sweep 41: ['Recording stopped before completing the experiment epoch']\n",
      "WARNING:root:sweep 42: ['Recording stopped before completing the experiment epoch']\n"
     ]
    },
    {
     "name": "stdout",
     "output_type": "stream",
     "text": [
      "  87 Specimen ID: 661189529 | VISp5 | Sst-MET-9 | Sweep ID: 8 | Init. freq.: 84.89 Hz\n",
      "  88 Specimen ID: 661318431 | VISp6a | Sst-MET-12 | Sweep ID: 10 | Init. freq.: 89.61 Hz\n"
     ]
    },
    {
     "name": "stderr",
     "output_type": "stream",
     "text": [
      "WARNING:root:sweep 20: ['Recording stopped before completing the experiment epoch']\n",
      "WARNING:root:sweep 21: ['Recording stopped before completing the experiment epoch']\n",
      "WARNING:root:sweep 22: ['Recording stopped before completing the experiment epoch']\n",
      "WARNING:root:sweep 23: ['Recording stopped before completing the experiment epoch']\n",
      "WARNING:root:sweep 24: ['Recording stopped before completing the experiment epoch']\n"
     ]
    },
    {
     "name": "stdout",
     "output_type": "stream",
     "text": [
      "  89 Specimen ID: 661319074 | VISp6a | Sst-MET-9 | Sweep ID: 8 | Init. freq.: 86.06 Hz\n"
     ]
    },
    {
     "name": "stderr",
     "output_type": "stream",
     "text": [
      "WARNING:root:sweep 27: ['Recording stopped before completing the experiment epoch']\n",
      "WARNING:root:sweep 28: ['Recording stopped before completing the experiment epoch']\n",
      "WARNING:root:sweep 29: ['Recording stopped before completing the experiment epoch']\n",
      "WARNING:root:sweep 30: ['Recording stopped before completing the experiment epoch']\n",
      "WARNING:root:sweep 31: ['Recording stopped before completing the experiment epoch']\n",
      "WARNING:root:sweep 32: ['Recording stopped before completing the experiment epoch']\n",
      "WARNING:root:sweep 33: ['Recording stopped before completing the experiment epoch']\n"
     ]
    },
    {
     "name": "stdout",
     "output_type": "stream",
     "text": [
      "  90 Specimen ID: 661422439 | VISp4 | Vip-MET-2 | Sweep ID: 9 | Init. freq.: 97.66 Hz\n"
     ]
    },
    {
     "name": "stderr",
     "output_type": "stream",
     "text": [
      "WARNING:root:sweep 17: ['Recording stopped before completing the experiment epoch']\n",
      "WARNING:root:sweep 18: ['Recording stopped before completing the experiment epoch']\n",
      "WARNING:root:sweep 19: ['Recording stopped before completing the experiment epoch']\n",
      "WARNING:root:sweep 20: ['Recording stopped before completing the experiment epoch']\n",
      "WARNING:root:sweep 21: ['Recording stopped before completing the experiment epoch']\n"
     ]
    },
    {
     "name": "stdout",
     "output_type": "stream",
     "text": [
      "  91 Specimen ID: 661492805 | VISp5 | Sst-MET-4 | Sweep ID: 7 | Init. freq.: 84.32 Hz\n"
     ]
    },
    {
     "name": "stderr",
     "output_type": "stream",
     "text": [
      "WARNING:root:sweep 19: ['Recording stopped before completing the experiment epoch']\n",
      "WARNING:root:sweep 20: ['Recording stopped before completing the experiment epoch']\n",
      "WARNING:root:sweep 21: ['Recording stopped before completing the experiment epoch']\n",
      "WARNING:root:sweep 22: ['Recording stopped before completing the experiment epoch']\n",
      "WARNING:root:sweep 23: ['Recording stopped before completing the experiment epoch']\n"
     ]
    },
    {
     "name": "stdout",
     "output_type": "stream",
     "text": [
      "  92 Specimen ID: 663193112 | VISp5 | Pvalb-MET-3 | Sweep ID: 5 | Init. freq.: 96.71 Hz\n"
     ]
    },
    {
     "name": "stderr",
     "output_type": "stream",
     "text": [
      "WARNING:root:sweep 33: ['Recording stopped before completing the experiment epoch']\n",
      "WARNING:root:sweep 34: ['Recording stopped before completing the experiment epoch']\n",
      "WARNING:root:sweep 35: ['Recording stopped before completing the experiment epoch']\n",
      "WARNING:root:sweep 36: ['Recording stopped before completing the experiment epoch']\n",
      "WARNING:root:sweep 37: ['Recording stopped before completing the experiment epoch']\n",
      "WARNING:root:sweep 38: ['Recording stopped before completing the experiment epoch']\n",
      "WARNING:root:sweep 39: ['Recording stopped before completing the experiment epoch']\n",
      "WARNING:root:sweep 40: ['Recording stopped before completing the experiment epoch']\n"
     ]
    },
    {
     "name": "stdout",
     "output_type": "stream",
     "text": [
      "  93 Specimen ID: 666141992 | VISp2/3 | Pvalb-MET-4 | Sweep ID: 15 | Init. freq.: 112.61 Hz\n",
      "  94 Specimen ID: 667473785 | VISp4 | Sst-MET-12 | Sweep ID: 10 | Init. freq.: 111.36 Hz\n"
     ]
    },
    {
     "name": "stderr",
     "output_type": "stream",
     "text": [
      "WARNING:root:sweep 20: ['Recording stopped before completing the experiment epoch']\n",
      "WARNING:root:sweep 21: ['Recording stopped before completing the experiment epoch']\n",
      "WARNING:root:sweep 22: ['Recording stopped before completing the experiment epoch']\n",
      "WARNING:root:sweep 23: ['Recording stopped before completing the experiment epoch']\n",
      "WARNING:root:sweep 24: ['Recording stopped before completing the experiment epoch']\n"
     ]
    },
    {
     "name": "stdout",
     "output_type": "stream",
     "text": [
      "  95 Specimen ID: 667492234 | VISp1 | Lamp5-MET-1 | Sweep ID: 9 | Init. freq.: 44.40 Hz\n",
      "  96 Specimen ID: 668176228 | VISpm6a | Sst-MET-12 | Sweep ID: 10 | Init. freq.: 50.76 Hz\n"
     ]
    },
    {
     "name": "stderr",
     "output_type": "stream",
     "text": [
      "WARNING:root:sweep 18: ['Recording stopped before completing the experiment epoch']\n",
      "WARNING:root:sweep 19: ['Recording stopped before completing the experiment epoch']\n",
      "WARNING:root:sweep 20: ['Recording stopped before completing the experiment epoch']\n",
      "WARNING:root:sweep 21: ['Recording stopped before completing the experiment epoch']\n",
      "WARNING:root:sweep 22: ['Recording stopped before completing the experiment epoch']\n"
     ]
    },
    {
     "name": "stdout",
     "output_type": "stream",
     "text": [
      "  97 Specimen ID: 668337999 | VISp2/3 | Sst-MET-2 | Sweep ID: 8 | Init. freq.: 126.58 Hz\n"
     ]
    },
    {
     "name": "stderr",
     "output_type": "stream",
     "text": [
      "WARNING:root:sweep 21: ['stim epoch is missing', 'experiment epoch is missing']\n",
      "WARNING:root:sweep 35: ['Recording stopped before completing the experiment epoch']\n",
      "WARNING:root:sweep 36: ['Recording stopped before completing the experiment epoch']\n",
      "WARNING:root:sweep 37: ['Recording stopped before completing the experiment epoch']\n",
      "WARNING:root:sweep 38: ['Recording stopped before completing the experiment epoch']\n",
      "WARNING:root:sweep 39: ['Recording stopped before completing the experiment epoch']\n"
     ]
    },
    {
     "name": "stdout",
     "output_type": "stream",
     "text": [
      "  98 Specimen ID: 668464797 | VISp2/3 | Vip-MET-1 | Sweep ID: 14 | Init. freq.: 108.93 Hz\n",
      "  99 Specimen ID: 669047778 | VISp5 | Sst-MET-12 | Sweep ID: 11 | Init. freq.: 52.52 Hz\n",
      " 100 Specimen ID: 669072736 | VISp6a | Pvalb-MET-1 | Sweep ID: 8 | Init. freq.: 88.50 Hz\n"
     ]
    },
    {
     "name": "stderr",
     "output_type": "stream",
     "text": [
      "WARNING:root:sweep 19: ['Recording stopped before completing the experiment epoch']\n",
      "WARNING:root:sweep 20: ['Recording stopped before completing the experiment epoch']\n",
      "WARNING:root:sweep 21: ['Recording stopped before completing the experiment epoch']\n",
      "WARNING:root:sweep 22: ['Recording stopped before completing the experiment epoch']\n",
      "WARNING:root:sweep 23: ['Recording stopped before completing the experiment epoch']\n"
     ]
    },
    {
     "name": "stdout",
     "output_type": "stream",
     "text": [
      " 101 Specimen ID: 669074640 | VISp4 | Sst-MET-3 | Sweep ID: 9 | Init. freq.: 81.17 Hz\n"
     ]
    },
    {
     "name": "stderr",
     "output_type": "stream",
     "text": [
      "WARNING:root:sweep 38: ['Recording stopped before completing the experiment epoch']\n",
      "WARNING:root:sweep 39: ['Recording stopped before completing the experiment epoch']\n",
      "WARNING:root:sweep 40: ['Recording stopped before completing the experiment epoch']\n",
      "WARNING:root:sweep 41: ['Recording stopped before completing the experiment epoch']\n",
      "WARNING:root:sweep 42: ['Recording stopped before completing the experiment epoch']\n"
     ]
    },
    {
     "name": "stdout",
     "output_type": "stream",
     "text": [
      " 102 Specimen ID: 669165397 | VISp5 | Sst-MET-9 | Sweep ID: 11 | Init. freq.: 50.00 Hz\n"
     ]
    },
    {
     "name": "stderr",
     "output_type": "stream",
     "text": [
      "WARNING:root:sweep 24: ['Recording stopped before completing the experiment epoch']\n",
      "WARNING:root:sweep 25: ['Recording stopped before completing the experiment epoch']\n",
      "WARNING:root:sweep 26: ['Recording stopped before completing the experiment epoch']\n",
      "WARNING:root:sweep 27: ['Recording stopped before completing the experiment epoch']\n",
      "WARNING:root:sweep 28: ['Recording stopped before completing the experiment epoch']\n"
     ]
    },
    {
     "name": "stdout",
     "output_type": "stream",
     "text": [
      " 103 Specimen ID: 669523148 | VISp2/3 | Lamp5-MET-1 | Sweep ID: 10 | Init. freq.: 59.38 Hz\n"
     ]
    },
    {
     "name": "stderr",
     "output_type": "stream",
     "text": [
      "WARNING:root:sweep 22: ['Recording stopped before completing the experiment epoch']\n",
      "WARNING:root:sweep 23: ['Recording stopped before completing the experiment epoch']\n",
      "WARNING:root:sweep 24: ['Recording stopped before completing the experiment epoch']\n",
      "WARNING:root:sweep 25: ['Recording stopped before completing the experiment epoch']\n",
      "WARNING:root:sweep 26: ['Recording stopped before completing the experiment epoch']\n",
      "WARNING:root:sweep 27: ['Recording stopped before completing the experiment epoch']\n"
     ]
    },
    {
     "name": "stdout",
     "output_type": "stream",
     "text": [
      " 104 Specimen ID: 669825289 | VISp2/3 | Sst-MET-2 | Sweep ID: 8 | Init. freq.: 91.58 Hz\n"
     ]
    },
    {
     "name": "stderr",
     "output_type": "stream",
     "text": [
      "WARNING:root:sweep 22: ['Recording stopped before completing the experiment epoch']\n",
      "WARNING:root:sweep 23: ['Recording stopped before completing the experiment epoch']\n",
      "WARNING:root:sweep 24: ['Recording stopped before completing the experiment epoch']\n",
      "WARNING:root:sweep 25: ['Recording stopped before completing the experiment epoch']\n",
      "WARNING:root:sweep 26: ['Recording stopped before completing the experiment epoch']\n",
      "WARNING:root:sweep 27: ['Recording stopped before completing the experiment epoch']\n",
      "WARNING:root:sweep 28: ['Recording stopped before completing the experiment epoch']\n"
     ]
    },
    {
     "name": "stdout",
     "output_type": "stream",
     "text": [
      " 105 Specimen ID: 669838950 | VISp5 | Pvalb-MET-4 | Sweep ID: 15 | Init. freq.: 88.18 Hz\n"
     ]
    },
    {
     "name": "stderr",
     "output_type": "stream",
     "text": [
      "WARNING:root:sweep 37: ['Recording stopped before completing the experiment epoch']\n",
      "WARNING:root:sweep 38: ['Recording stopped before completing the experiment epoch']\n",
      "WARNING:root:sweep 39: ['Recording stopped before completing the experiment epoch']\n",
      "WARNING:root:sweep 40: ['Recording stopped before completing the experiment epoch']\n",
      "WARNING:root:sweep 41: ['Recording stopped before completing the experiment epoch']\n",
      "WARNING:root:sweep 42: ['Recording stopped before completing the experiment epoch']\n",
      "WARNING:root:sweep 43: ['Recording stopped before completing the experiment epoch']\n"
     ]
    },
    {
     "name": "stdout",
     "output_type": "stream",
     "text": [
      " 106 Specimen ID: 670091720 | VISp2/3 | Pvalb-MET-4 | Sweep ID: 21 | Init. freq.: 98.62 Hz\n"
     ]
    },
    {
     "name": "stderr",
     "output_type": "stream",
     "text": [
      "WARNING:root:sweep 26: ['Recording stopped before completing the experiment epoch']\n",
      "WARNING:root:sweep 27: ['Recording stopped before completing the experiment epoch']\n",
      "WARNING:root:sweep 28: ['Recording stopped before completing the experiment epoch']\n",
      "WARNING:root:sweep 29: ['Recording stopped before completing the experiment epoch']\n",
      "WARNING:root:sweep 30: ['Recording stopped before completing the experiment epoch']\n"
     ]
    },
    {
     "name": "stdout",
     "output_type": "stream",
     "text": [
      " 107 Specimen ID: 670340941 | VISpm5 | Sst-MET-1 | Sweep ID: 9 | Init. freq.: 111.11 Hz\n",
      " 108 Specimen ID: 673132928 | VISp6a | Sst-MET-6 | Sweep ID: 9 | Init. freq.: 98.04 Hz\n",
      " 109 Specimen ID: 673395815 | VISpor5 | Sst-MET-12 | Sweep ID: 9 | Init. freq.: 98.23 Hz\n",
      " 110 Specimen ID: 673427380 | VISp6a | Sst-MET-6 | Sweep ID: 7 | Init. freq.: 110.13 Hz\n",
      " 111 Specimen ID: 674069192 | VISp2/3 | Sst-MET-3 | Sweep ID: 12 | Init. freq.: 41.02 Hz\n"
     ]
    },
    {
     "name": "stderr",
     "output_type": "stream",
     "text": [
      "WARNING:root:sweep 34: ['Recording stopped before completing the experiment epoch']\n",
      "WARNING:root:sweep 35: ['Recording stopped before completing the experiment epoch']\n",
      "WARNING:root:sweep 36: ['Recording stopped before completing the experiment epoch']\n",
      "WARNING:root:sweep 37: ['Recording stopped before completing the experiment epoch']\n",
      "WARNING:root:sweep 38: ['Recording stopped before completing the experiment epoch']\n"
     ]
    },
    {
     "name": "stdout",
     "output_type": "stream",
     "text": [
      " 112 Specimen ID: 674126167 | VISp6a | Pvalb-MET-2 | Sweep ID: 13 | Init. freq.: 111.36 Hz\n"
     ]
    },
    {
     "name": "stderr",
     "output_type": "stream",
     "text": [
      "WARNING:root:sweep 20: ['Recording stopped before completing the experiment epoch']\n",
      "WARNING:root:sweep 21: ['Recording stopped before completing the experiment epoch']\n",
      "WARNING:root:sweep 22: ['Recording stopped before completing the experiment epoch']\n",
      "WARNING:root:sweep 23: ['Recording stopped before completing the experiment epoch']\n",
      "WARNING:root:sweep 24: ['Recording stopped before completing the experiment epoch']\n",
      "WARNING:root:sweep 25: ['Recording stopped before completing the experiment epoch']\n",
      "WARNING:root:sweep 26: ['Recording stopped before completing the experiment epoch']\n",
      "WARNING:root:sweep 27: ['Recording stopped before completing the experiment epoch']\n",
      "WARNING:root:sweep 28: ['Recording stopped before completing the experiment epoch']\n"
     ]
    },
    {
     "name": "stdout",
     "output_type": "stream",
     "text": [
      " 113 Specimen ID: 674495385 | VISp5 | Sst-MET-9 | Sweep ID: 7 | Init. freq.: 99.40 Hz\n"
     ]
    },
    {
     "name": "stderr",
     "output_type": "stream",
     "text": [
      "WARNING:root:sweep 11: ['stim epoch is missing', 'experiment epoch is missing']\n",
      "WARNING:root:sweep 28: ['Recording stopped before completing the experiment epoch']\n",
      "WARNING:root:sweep 29: ['Recording stopped before completing the experiment epoch']\n",
      "WARNING:root:sweep 30: ['Recording stopped before completing the experiment epoch']\n",
      "WARNING:root:sweep 31: ['Recording stopped before completing the experiment epoch']\n",
      "WARNING:root:sweep 32: ['Recording stopped before completing the experiment epoch']\n"
     ]
    },
    {
     "name": "stdout",
     "output_type": "stream",
     "text": [
      " 114 Specimen ID: 679457550 | VISp6a | Sst-MET-13 | Sweep ID: 8 | Init. freq.: 77.28 Hz\n",
      " 115 Specimen ID: 679899997 | VISp4 | Sst-MET-3 | Sweep ID: 11 | Init. freq.: 76.22 Hz\n"
     ]
    },
    {
     "name": "stderr",
     "output_type": "stream",
     "text": [
      "WARNING:root:sweep 19: ['Recording stopped before completing the experiment epoch']\n",
      "WARNING:root:sweep 20: ['Recording stopped before completing the experiment epoch']\n",
      "WARNING:root:sweep 21: ['Recording stopped before completing the experiment epoch']\n",
      "WARNING:root:sweep 22: ['Recording stopped before completing the experiment epoch']\n",
      "WARNING:root:sweep 23: ['Recording stopped before completing the experiment epoch']\n"
     ]
    },
    {
     "name": "stdout",
     "output_type": "stream",
     "text": [
      " 116 Specimen ID: 679932490 | VISp4 | Pvalb-MET-4 | Sweep ID: 8 | Init. freq.: 104.17 Hz\n"
     ]
    },
    {
     "name": "stderr",
     "output_type": "stream",
     "text": [
      "WARNING:root:sweep 28: ['Recording stopped before completing the experiment epoch']\n",
      "WARNING:root:sweep 29: ['Recording stopped before completing the experiment epoch']\n",
      "WARNING:root:sweep 30: ['Recording stopped before completing the experiment epoch']\n",
      "WARNING:root:sweep 31: ['Recording stopped before completing the experiment epoch']\n",
      "WARNING:root:sweep 32: ['Recording stopped before completing the experiment epoch']\n"
     ]
    },
    {
     "name": "stdout",
     "output_type": "stream",
     "text": [
      " 117 Specimen ID: 680027413 | VISp2/3 | Vip-MET-4 | Sweep ID: 14 | Init. freq.: 96.90 Hz\n"
     ]
    },
    {
     "name": "stderr",
     "output_type": "stream",
     "text": [
      "WARNING:root:sweep 31: ['Recording stopped before completing the experiment epoch']\n",
      "WARNING:root:sweep 32: ['Recording stopped before completing the experiment epoch']\n",
      "WARNING:root:sweep 33: ['Recording stopped before completing the experiment epoch']\n",
      "WARNING:root:sweep 34: ['Recording stopped before completing the experiment epoch']\n",
      "WARNING:root:sweep 35: ['Recording stopped before completing the experiment epoch']\n"
     ]
    },
    {
     "name": "stdout",
     "output_type": "stream",
     "text": [
      " 118 Specimen ID: 680048186 | VISp6a | Pvalb-MET-1 | Sweep ID: 9 | Init. freq.: 100.60 Hz\n"
     ]
    },
    {
     "name": "stderr",
     "output_type": "stream",
     "text": [
      "WARNING:root:sweep 18: ['Recording stopped before completing the experiment epoch']\n",
      "WARNING:root:sweep 19: ['Recording stopped before completing the experiment epoch']\n",
      "WARNING:root:sweep 20: ['Recording stopped before completing the experiment epoch']\n",
      "WARNING:root:sweep 21: ['Recording stopped before completing the experiment epoch']\n",
      "WARNING:root:sweep 22: ['Recording stopped before completing the experiment epoch']\n"
     ]
    },
    {
     "name": "stdout",
     "output_type": "stream",
     "text": [
      " 119 Specimen ID: 680108584 | VISp6a | Pvalb-MET-1 | Sweep ID: 6 | Init. freq.: 88.34 Hz\n"
     ]
    },
    {
     "name": "stderr",
     "output_type": "stream",
     "text": [
      "WARNING:root:sweep 30: ['Recording stopped before completing the experiment epoch']\n",
      "WARNING:root:sweep 31: ['Recording stopped before completing the experiment epoch']\n",
      "WARNING:root:sweep 32: ['Recording stopped before completing the experiment epoch']\n",
      "WARNING:root:sweep 33: ['Recording stopped before completing the experiment epoch']\n",
      "WARNING:root:sweep 34: ['Recording stopped before completing the experiment epoch']\n"
     ]
    },
    {
     "name": "stdout",
     "output_type": "stream",
     "text": [
      " 120 Specimen ID: 681793778 | VISp2/3 | Vip-MET-5 | Sweep ID: 8 | Init. freq.: 138.12 Hz\n"
     ]
    },
    {
     "name": "stderr",
     "output_type": "stream",
     "text": [
      "WARNING:root:sweep 28: ['Recording stopped before completing the experiment epoch']\n",
      "WARNING:root:sweep 29: ['Recording stopped before completing the experiment epoch']\n",
      "WARNING:root:sweep 30: ['Recording stopped before completing the experiment epoch']\n",
      "WARNING:root:sweep 31: ['Recording stopped before completing the experiment epoch']\n",
      "WARNING:root:sweep 32: ['Recording stopped before completing the experiment epoch']\n"
     ]
    },
    {
     "name": "stdout",
     "output_type": "stream",
     "text": [
      " 121 Specimen ID: 682332013 | VISp5 | Pvalb-MET-3 | Sweep ID: 9 | Init. freq.: 93.98 Hz\n"
     ]
    },
    {
     "name": "stderr",
     "output_type": "stream",
     "text": [
      "WARNING:root:sweep 28: ['Recording stopped before completing the experiment epoch']\n",
      "WARNING:root:sweep 29: ['Recording stopped before completing the experiment epoch']\n",
      "WARNING:root:sweep 30: ['Recording stopped before completing the experiment epoch']\n",
      "WARNING:root:sweep 31: ['Recording stopped before completing the experiment epoch']\n",
      "WARNING:root:sweep 32: ['Recording stopped before completing the experiment epoch']\n",
      "WARNING:root:sweep 33: ['Recording stopped before completing the experiment epoch']\n",
      "WARNING:root:sweep 34: ['Recording stopped before completing the experiment epoch']\n"
     ]
    },
    {
     "name": "stdout",
     "output_type": "stream",
     "text": [
      " 122 Specimen ID: 682454193 | VISp2/3 | Pvalb-MET-4 | Sweep ID: 14 | Init. freq.: 83.61 Hz\n"
     ]
    },
    {
     "name": "stderr",
     "output_type": "stream",
     "text": [
      "WARNING:root:sweep 29: ['Recording stopped before completing the experiment epoch']\n",
      "WARNING:root:sweep 30: ['Recording stopped before completing the experiment epoch']\n",
      "WARNING:root:sweep 31: ['Recording stopped before completing the experiment epoch']\n",
      "WARNING:root:sweep 32: ['Recording stopped before completing the experiment epoch']\n",
      "WARNING:root:sweep 33: ['Recording stopped before completing the experiment epoch']\n"
     ]
    },
    {
     "name": "stdout",
     "output_type": "stream",
     "text": [
      " 123 Specimen ID: 683899155 | VISpm5 | Sst-MET-4 | Sweep ID: 10 | Init. freq.: 87.57 Hz\n"
     ]
    },
    {
     "name": "stderr",
     "output_type": "stream",
     "text": [
      "WARNING:root:sweep 26: ['Recording stopped before completing the experiment epoch']\n",
      "WARNING:root:sweep 27: ['Recording stopped before completing the experiment epoch']\n",
      "WARNING:root:sweep 28: ['Recording stopped before completing the experiment epoch']\n",
      "WARNING:root:sweep 29: ['Recording stopped before completing the experiment epoch']\n",
      "WARNING:root:sweep 30: ['Recording stopped before completing the experiment epoch']\n"
     ]
    },
    {
     "name": "stdout",
     "output_type": "stream",
     "text": [
      " 124 Specimen ID: 685624703 | VISp6a | Sst-MET-12 | Sweep ID: 9 | Init. freq.: 105.93 Hz\n"
     ]
    },
    {
     "name": "stderr",
     "output_type": "stream",
     "text": [
      "WARNING:root:sweep 27: ['Recording stopped before completing the experiment epoch']\n",
      "WARNING:root:sweep 28: ['Recording stopped before completing the experiment epoch']\n",
      "WARNING:root:sweep 29: ['Recording stopped before completing the experiment epoch']\n",
      "WARNING:root:sweep 30: ['Recording stopped before completing the experiment epoch']\n",
      "WARNING:root:sweep 31: ['Recording stopped before completing the experiment epoch']\n"
     ]
    },
    {
     "name": "stdout",
     "output_type": "stream",
     "text": [
      " 125 Specimen ID: 685636842 | VISp6a | Sst-MET-12 | Sweep ID: 8 | Init. freq.: 69.64 Hz\n"
     ]
    },
    {
     "name": "stderr",
     "output_type": "stream",
     "text": [
      "WARNING:root:sweep 17: ['Recording stopped before completing the experiment epoch']\n",
      "WARNING:root:sweep 18: ['Recording stopped before completing the experiment epoch']\n",
      "WARNING:root:sweep 19: ['Recording stopped before completing the experiment epoch']\n",
      "WARNING:root:sweep 20: ['Recording stopped before completing the experiment epoch']\n",
      "WARNING:root:sweep 21: ['Recording stopped before completing the experiment epoch']\n"
     ]
    },
    {
     "name": "stdout",
     "output_type": "stream",
     "text": [
      " 126 Specimen ID: 685707621 | VISp6a | Pvalb-MET-2 | Sweep ID: 8 | Init. freq.: 116.28 Hz\n"
     ]
    },
    {
     "name": "stderr",
     "output_type": "stream",
     "text": [
      "WARNING:root:sweep 29: ['Recording stopped before completing the experiment epoch']\n",
      "WARNING:root:sweep 30: ['Recording stopped before completing the experiment epoch']\n",
      "WARNING:root:sweep 31: ['Recording stopped before completing the experiment epoch']\n",
      "WARNING:root:sweep 32: ['Recording stopped before completing the experiment epoch']\n",
      "WARNING:root:sweep 33: ['Recording stopped before completing the experiment epoch']\n"
     ]
    },
    {
     "name": "stdout",
     "output_type": "stream",
     "text": [
      " 127 Specimen ID: 687907602 | VISp5 | Sst-MET-6 | Sweep ID: 7 | Init. freq.: 91.24 Hz\n"
     ]
    },
    {
     "name": "stderr",
     "output_type": "stream",
     "text": [
      "WARNING:root:sweep 18: ['stim epoch is missing', 'experiment epoch is missing']\n",
      "WARNING:root:sweep 32: ['Recording stopped before completing the experiment epoch']\n",
      "WARNING:root:sweep 33: ['Recording stopped before completing the experiment epoch']\n",
      "WARNING:root:sweep 34: ['Recording stopped before completing the experiment epoch']\n",
      "WARNING:root:sweep 35: ['Recording stopped before completing the experiment epoch']\n",
      "WARNING:root:sweep 36: ['Recording stopped before completing the experiment epoch']\n"
     ]
    },
    {
     "name": "stdout",
     "output_type": "stream",
     "text": [
      " 128 Specimen ID: 688115867 | VISp6b | Sst-MET-10 | Sweep ID: 9 | Init. freq.: 121.65 Hz\n",
      " 129 Specimen ID: 688145929 | VISpm6a | Pvalb-MET-2 | Sweep ID: 10 | Init. freq.: 103.95 Hz\n"
     ]
    },
    {
     "name": "stderr",
     "output_type": "stream",
     "text": [
      "WARNING:root:sweep 33: ['Recording stopped before completing the experiment epoch']\n",
      "WARNING:root:sweep 34: ['Recording stopped before completing the experiment epoch']\n",
      "WARNING:root:sweep 35: ['Recording stopped before completing the experiment epoch']\n",
      "WARNING:root:sweep 36: ['Recording stopped before completing the experiment epoch']\n",
      "WARNING:root:sweep 37: ['Recording stopped before completing the experiment epoch']\n",
      "WARNING:root:sweep 41: ['Recording stopped before completing the experiment epoch']\n"
     ]
    },
    {
     "name": "stdout",
     "output_type": "stream",
     "text": [
      " 130 Specimen ID: 688958418 | VISp5 | Sst-MET-8 | Sweep ID: 8 | Init. freq.: 78.99 Hz\n"
     ]
    },
    {
     "name": "stderr",
     "output_type": "stream",
     "text": [
      "WARNING:root:sweep 29: ['Recording stopped before completing the experiment epoch']\n",
      "WARNING:root:sweep 30: ['Recording stopped before completing the experiment epoch']\n",
      "WARNING:root:sweep 31: ['Recording stopped before completing the experiment epoch']\n",
      "WARNING:root:sweep 32: ['Recording stopped before completing the experiment epoch']\n",
      "WARNING:root:sweep 33: ['Recording stopped before completing the experiment epoch']\n",
      "WARNING:root:sweep 37: ['Recording stopped before completing the experiment epoch']\n"
     ]
    },
    {
     "name": "stdout",
     "output_type": "stream",
     "text": [
      " 131 Specimen ID: 689030611 | VISp6a | Pvalb-MET-2 | Sweep ID: 10 | Init. freq.: 115.21 Hz\n"
     ]
    },
    {
     "name": "stderr",
     "output_type": "stream",
     "text": [
      "WARNING:root:sweep 32: ['Recording stopped before completing the experiment epoch']\n",
      "WARNING:root:sweep 33: ['Recording stopped before completing the experiment epoch']\n",
      "WARNING:root:sweep 34: ['Recording stopped before completing the experiment epoch']\n",
      "WARNING:root:sweep 35: ['Recording stopped before completing the experiment epoch']\n",
      "WARNING:root:sweep 36: ['Recording stopped before completing the experiment epoch']\n",
      "WARNING:root:sweep 37: ['Recording stopped before completing the experiment epoch']\n"
     ]
    },
    {
     "name": "stdout",
     "output_type": "stream",
     "text": [
      " 132 Specimen ID: 689098357 | VISp5 | Sst-MET-12 | Sweep ID: 9 | Init. freq.: 99.40 Hz\n"
     ]
    },
    {
     "name": "stderr",
     "output_type": "stream",
     "text": [
      "WARNING:root:sweep 27: ['Recording stopped before completing the experiment epoch']\n",
      "WARNING:root:sweep 28: ['Recording stopped before completing the experiment epoch']\n",
      "WARNING:root:sweep 29: ['Recording stopped before completing the experiment epoch']\n",
      "WARNING:root:sweep 30: ['Recording stopped before completing the experiment epoch']\n",
      "WARNING:root:sweep 31: ['Recording stopped before completing the experiment epoch']\n"
     ]
    },
    {
     "name": "stdout",
     "output_type": "stream",
     "text": [
      " 133 Specimen ID: 689211404 | VISpm5 | Pvalb-MET-1 | Sweep ID: 9 | Init. freq.: 95.97 Hz\n"
     ]
    },
    {
     "name": "stderr",
     "output_type": "stream",
     "text": [
      "WARNING:root:sweep 29: ['Recording stopped before completing the experiment epoch']\n",
      "WARNING:root:sweep 30: ['Recording stopped before completing the experiment epoch']\n",
      "WARNING:root:sweep 31: ['Recording stopped before completing the experiment epoch']\n",
      "WARNING:root:sweep 32: ['Recording stopped before completing the experiment epoch']\n",
      "WARNING:root:sweep 33: ['Recording stopped before completing the experiment epoch']\n"
     ]
    },
    {
     "name": "stdout",
     "output_type": "stream",
     "text": [
      " 134 Specimen ID: 689280134 | VISp6a | Pvalb-MET-1 | Sweep ID: 10 | Init. freq.: 104.60 Hz\n"
     ]
    },
    {
     "name": "stderr",
     "output_type": "stream",
     "text": [
      "WARNING:root:sweep 26: ['Recording stopped before completing the experiment epoch']\n",
      "WARNING:root:sweep 27: ['Recording stopped before completing the experiment epoch']\n",
      "WARNING:root:sweep 28: ['Recording stopped before completing the experiment epoch']\n",
      "WARNING:root:sweep 29: ['Recording stopped before completing the experiment epoch']\n",
      "WARNING:root:sweep 30: ['Recording stopped before completing the experiment epoch']\n"
     ]
    },
    {
     "name": "stdout",
     "output_type": "stream",
     "text": [
      " 135 Specimen ID: 689656936 | VISp2/3 | Sst-MET-3 | Sweep ID: 8 | Init. freq.: 106.38 Hz\n"
     ]
    },
    {
     "name": "stderr",
     "output_type": "stream",
     "text": [
      "WARNING:root:sweep 25: ['Recording stopped before completing the experiment epoch']\n",
      "WARNING:root:sweep 26: ['Recording stopped before completing the experiment epoch']\n",
      "WARNING:root:sweep 27: ['Recording stopped before completing the experiment epoch']\n",
      "WARNING:root:sweep 28: ['Recording stopped before completing the experiment epoch']\n",
      "WARNING:root:sweep 29: ['Recording stopped before completing the experiment epoch']\n"
     ]
    },
    {
     "name": "stdout",
     "output_type": "stream",
     "text": [
      " 136 Specimen ID: 691511791 | VISpm2/3 | Vip-MET-2 | Sweep ID: 9 | Init. freq.: 137.74 Hz\n",
      " 137 Specimen ID: 691665864 | VISp2/3 | Lamp5-MET-1 | Sweep ID: 12 | Init. freq.: 73.21 Hz\n"
     ]
    },
    {
     "name": "stderr",
     "output_type": "stream",
     "text": [
      "WARNING:root:sweep 28: ['Recording stopped before completing the experiment epoch']\n",
      "WARNING:root:sweep 29: ['Recording stopped before completing the experiment epoch']\n",
      "WARNING:root:sweep 30: ['Recording stopped before completing the experiment epoch']\n",
      "WARNING:root:sweep 31: ['Recording stopped before completing the experiment epoch']\n",
      "WARNING:root:sweep 32: ['Recording stopped before completing the experiment epoch']\n"
     ]
    },
    {
     "name": "stdout",
     "output_type": "stream",
     "text": [
      " 138 Specimen ID: 691685873 | VISpm2/3 | Lamp5-MET-1 | Sweep ID: 10 | Init. freq.: 46.82 Hz\n"
     ]
    },
    {
     "name": "stderr",
     "output_type": "stream",
     "text": [
      "WARNING:root:sweep 26: ['Recording stopped before completing the experiment epoch']\n",
      "WARNING:root:sweep 27: ['Recording stopped before completing the experiment epoch']\n",
      "WARNING:root:sweep 28: ['Recording stopped before completing the experiment epoch']\n",
      "WARNING:root:sweep 29: ['Recording stopped before completing the experiment epoch']\n",
      "WARNING:root:sweep 30: ['Recording stopped before completing the experiment epoch']\n"
     ]
    },
    {
     "name": "stdout",
     "output_type": "stream",
     "text": [
      " 139 Specimen ID: 691719142 | VISp2/3 | Vip-MET-4 | Sweep ID: 9 | Init. freq.: 78.62 Hz\n"
     ]
    },
    {
     "name": "stderr",
     "output_type": "stream",
     "text": [
      "WARNING:root:sweep 32: ['Recording stopped before completing the experiment epoch']\n",
      "WARNING:root:sweep 33: ['Recording stopped before completing the experiment epoch']\n",
      "WARNING:root:sweep 34: ['Recording stopped before completing the experiment epoch']\n",
      "WARNING:root:sweep 35: ['Recording stopped before completing the experiment epoch']\n",
      "WARNING:root:sweep 36: ['Recording stopped before completing the experiment epoch']\n"
     ]
    },
    {
     "name": "stdout",
     "output_type": "stream",
     "text": [
      " 140 Specimen ID: 692015490 | VISp6b | Sst-MET-10 | Sweep ID: 12 | Init. freq.: 124.38 Hz\n"
     ]
    },
    {
     "name": "stderr",
     "output_type": "stream",
     "text": [
      "WARNING:root:sweep 24: ['Recording stopped before completing the experiment epoch']\n",
      "WARNING:root:sweep 25: ['Recording stopped before completing the experiment epoch']\n",
      "WARNING:root:sweep 26: ['Recording stopped before completing the experiment epoch']\n",
      "WARNING:root:sweep 27: ['Recording stopped before completing the experiment epoch']\n",
      "WARNING:root:sweep 28: ['Recording stopped before completing the experiment epoch']\n"
     ]
    },
    {
     "name": "stdout",
     "output_type": "stream",
     "text": [
      " 141 Specimen ID: 692044280 | VISp6a | Sst-MET-13 | Sweep ID: 8 | Init. freq.: 113.90 Hz\n"
     ]
    },
    {
     "name": "stderr",
     "output_type": "stream",
     "text": [
      "WARNING:root:sweep 29: ['Recording stopped before completing the experiment epoch']\n",
      "WARNING:root:sweep 30: ['Recording stopped before completing the experiment epoch']\n",
      "WARNING:root:sweep 31: ['Recording stopped before completing the experiment epoch']\n",
      "WARNING:root:sweep 32: ['Recording stopped before completing the experiment epoch']\n",
      "WARNING:root:sweep 33: ['Recording stopped before completing the experiment epoch']\n"
     ]
    },
    {
     "name": "stdout",
     "output_type": "stream",
     "text": [
      " 142 Specimen ID: 692286150 | VISp2/3 | Vip-MET-4 | Sweep ID: 11 | Init. freq.: 132.28 Hz\n",
      " 143 Specimen ID: 692310663 | VISp5 | Sst-MET-6 | Sweep ID: 7 | Init. freq.: 63.86 Hz\n"
     ]
    },
    {
     "name": "stderr",
     "output_type": "stream",
     "text": [
      "WARNING:root:sweep 15: ['Recording stopped before completing the experiment epoch']\n",
      "WARNING:root:sweep 28: ['Recording stopped before completing the experiment epoch']\n",
      "WARNING:root:sweep 29: ['Recording stopped before completing the experiment epoch']\n",
      "WARNING:root:sweep 30: ['Recording stopped before completing the experiment epoch']\n",
      "WARNING:root:sweep 31: ['Recording stopped before completing the experiment epoch']\n",
      "WARNING:root:sweep 32: ['Recording stopped before completing the experiment epoch']\n",
      "WARNING:root:sweep 36: ['Recording stopped before completing the experiment epoch']\n",
      "WARNING:root:sweep 37: ['Recording stopped before completing the experiment epoch']\n"
     ]
    },
    {
     "name": "stdout",
     "output_type": "stream",
     "text": [
      " 144 Specimen ID: 692565557 | VISpm6a | Sst-MET-13 | Sweep ID: 11 | Init. freq.: 81.04 Hz\n"
     ]
    },
    {
     "name": "stderr",
     "output_type": "stream",
     "text": [
      "WARNING:root:sweep 21: ['Recording stopped before completing the experiment epoch']\n",
      "WARNING:root:sweep 22: ['Recording stopped before completing the experiment epoch']\n",
      "WARNING:root:sweep 23: ['Recording stopped before completing the experiment epoch']\n",
      "WARNING:root:sweep 24: ['Recording stopped before completing the experiment epoch']\n",
      "WARNING:root:sweep 25: ['Recording stopped before completing the experiment epoch']\n",
      "WARNING:root:sweep 26: ['Recording stopped before completing the experiment epoch']\n"
     ]
    },
    {
     "name": "stdout",
     "output_type": "stream",
     "text": [
      " 145 Specimen ID: 692777680 | VISp2/3 | Vip-MET-5 | Sweep ID: 8 | Init. freq.: 183.15 Hz\n"
     ]
    },
    {
     "name": "stderr",
     "output_type": "stream",
     "text": [
      "WARNING:root:sweep 19: ['Recording stopped before completing the experiment epoch']\n",
      "WARNING:root:sweep 20: ['Recording stopped before completing the experiment epoch']\n",
      "WARNING:root:sweep 21: ['Recording stopped before completing the experiment epoch']\n",
      "WARNING:root:sweep 22: ['Recording stopped before completing the experiment epoch']\n",
      "WARNING:root:sweep 23: ['Recording stopped before completing the experiment epoch']\n"
     ]
    },
    {
     "name": "stdout",
     "output_type": "stream",
     "text": [
      " 146 Specimen ID: 692821749 | VISal6a | Pvalb-MET-2 | Sweep ID: 5 | Init. freq.: 103.52 Hz\n"
     ]
    },
    {
     "name": "stderr",
     "output_type": "stream",
     "text": [
      "WARNING:root:sweep 30: ['Recording stopped before completing the experiment epoch']\n",
      "WARNING:root:sweep 31: ['Recording stopped before completing the experiment epoch']\n",
      "WARNING:root:sweep 32: ['Recording stopped before completing the experiment epoch']\n",
      "WARNING:root:sweep 33: ['Recording stopped before completing the experiment epoch']\n",
      "WARNING:root:sweep 34: ['Recording stopped before completing the experiment epoch']\n"
     ]
    },
    {
     "name": "stdout",
     "output_type": "stream",
     "text": [
      " 147 Specimen ID: 692824134 | VISp5 | Pvalb-MET-4 | Sweep ID: 13 | Init. freq.: 99.01 Hz\n"
     ]
    },
    {
     "name": "stderr",
     "output_type": "stream",
     "text": [
      "WARNING:root:sweep 18: ['Recording stopped before completing the experiment epoch']\n",
      "WARNING:root:sweep 19: ['Recording stopped before completing the experiment epoch']\n",
      "WARNING:root:sweep 20: ['Recording stopped before completing the experiment epoch']\n",
      "WARNING:root:sweep 21: ['Recording stopped before completing the experiment epoch']\n",
      "WARNING:root:sweep 22: ['Recording stopped before completing the experiment epoch']\n"
     ]
    },
    {
     "name": "stdout",
     "output_type": "stream",
     "text": [
      " 148 Specimen ID: 692846027 | VISl6a | Pvalb-MET-2 | Sweep ID: 6 | Init. freq.: 101.21 Hz\n"
     ]
    },
    {
     "name": "stderr",
     "output_type": "stream",
     "text": [
      "WARNING:root:sweep 30: ['Recording stopped before completing the experiment epoch']\n",
      "WARNING:root:sweep 31: ['Recording stopped before completing the experiment epoch']\n",
      "WARNING:root:sweep 32: ['Recording stopped before completing the experiment epoch']\n",
      "WARNING:root:sweep 33: ['Recording stopped before completing the experiment epoch']\n",
      "WARNING:root:sweep 34: ['Recording stopped before completing the experiment epoch']\n"
     ]
    },
    {
     "name": "stdout",
     "output_type": "stream",
     "text": [
      " 149 Specimen ID: 693009119 | VISp6a | Sst-MET-13 | Sweep ID: 10 | Init. freq.: 124.69 Hz\n"
     ]
    },
    {
     "name": "stderr",
     "output_type": "stream",
     "text": [
      "WARNING:root:sweep 17: ['Recording stopped before completing the experiment epoch']\n",
      "WARNING:root:sweep 18: ['Recording stopped before completing the experiment epoch']\n",
      "WARNING:root:sweep 19: ['Recording stopped before completing the experiment epoch']\n",
      "WARNING:root:sweep 20: ['Recording stopped before completing the experiment epoch']\n",
      "WARNING:root:sweep 21: ['Recording stopped before completing the experiment epoch']\n"
     ]
    },
    {
     "name": "stdout",
     "output_type": "stream",
     "text": [
      " 150 Specimen ID: 693085460 | VISp5 | Sst-MET-7 | Sweep ID: 7 | Init. freq.: 81.30 Hz\n"
     ]
    },
    {
     "name": "stderr",
     "output_type": "stream",
     "text": [
      "WARNING:root:sweep 17: ['Recording stopped before completing the experiment epoch']\n",
      "WARNING:root:sweep 18: ['Recording stopped before completing the experiment epoch']\n",
      "WARNING:root:sweep 19: ['Recording stopped before completing the experiment epoch']\n",
      "WARNING:root:sweep 20: ['Recording stopped before completing the experiment epoch']\n",
      "WARNING:root:sweep 21: ['Recording stopped before completing the experiment epoch']\n"
     ]
    },
    {
     "name": "stdout",
     "output_type": "stream",
     "text": [
      " 151 Specimen ID: 693265371 | VISp2/3 | Vip-MET-2 | Sweep ID: 8 | Init. freq.: 114.68 Hz\n"
     ]
    },
    {
     "name": "stderr",
     "output_type": "stream",
     "text": [
      "WARNING:root:sweep 18: ['stim epoch is missing', 'experiment epoch is missing']\n",
      "WARNING:root:sweep 33: ['Recording stopped before completing the experiment epoch']\n",
      "WARNING:root:sweep 34: ['Recording stopped before completing the experiment epoch']\n",
      "WARNING:root:sweep 35: ['Recording stopped before completing the experiment epoch']\n",
      "WARNING:root:sweep 36: ['Recording stopped before completing the experiment epoch']\n",
      "WARNING:root:sweep 37: ['Recording stopped before completing the experiment epoch']\n"
     ]
    },
    {
     "name": "stdout",
     "output_type": "stream",
     "text": [
      " 152 Specimen ID: 694146546 | VISp4 | Vip-MET-2 | Sweep ID: 9 | Init. freq.: 80.00 Hz\n",
      " 153 Specimen ID: 694162255 | VISp6a | Sst-MET-13 | Sweep ID: 10 | Init. freq.: 127.55 Hz\n"
     ]
    },
    {
     "name": "stderr",
     "output_type": "stream",
     "text": [
      "WARNING:root:sweep 29: ['Recording stopped before completing the experiment epoch']\n",
      "WARNING:root:sweep 30: ['Recording stopped before completing the experiment epoch']\n",
      "WARNING:root:sweep 31: ['Recording stopped before completing the experiment epoch']\n",
      "WARNING:root:sweep 32: ['Recording stopped before completing the experiment epoch']\n",
      "WARNING:root:sweep 33: ['Recording stopped before completing the experiment epoch']\n"
     ]
    },
    {
     "name": "stdout",
     "output_type": "stream",
     "text": [
      " 154 Specimen ID: 694183636 | VISpm2/3 | Vip-MET-5 | Sweep ID: 8 | Init. freq.: 227.27 Hz\n"
     ]
    },
    {
     "name": "stderr",
     "output_type": "stream",
     "text": [
      "WARNING:root:sweep 21: ['Recording stopped before completing the experiment epoch']\n",
      "WARNING:root:sweep 22: ['Recording stopped before completing the experiment epoch']\n",
      "WARNING:root:sweep 23: ['Recording stopped before completing the experiment epoch']\n",
      "WARNING:root:sweep 24: ['Recording stopped before completing the experiment epoch']\n",
      "WARNING:root:sweep 25: ['Recording stopped before completing the experiment epoch']\n"
     ]
    },
    {
     "name": "stdout",
     "output_type": "stream",
     "text": [
      " 155 Specimen ID: 694220357 | VISp6a | Pvalb-MET-2 | Sweep ID: 8 | Init. freq.: 111.61 Hz\n"
     ]
    },
    {
     "name": "stderr",
     "output_type": "stream",
     "text": [
      "WARNING:root:sweep 18: ['Recording stopped before completing the experiment epoch']\n",
      "WARNING:root:sweep 19: ['Recording stopped before completing the experiment epoch']\n",
      "WARNING:root:sweep 20: ['Recording stopped before completing the experiment epoch']\n",
      "WARNING:root:sweep 21: ['Recording stopped before completing the experiment epoch']\n"
     ]
    },
    {
     "name": "stdout",
     "output_type": "stream",
     "text": [
      " 156 Specimen ID: 694419620 | VISp6a | Pvalb-MET-1 | Sweep ID: 5 | Init. freq.: 94.52 Hz\n"
     ]
    },
    {
     "name": "stderr",
     "output_type": "stream",
     "text": [
      "WARNING:root:sweep 27: ['Recording stopped before completing the experiment epoch']\n",
      "WARNING:root:sweep 28: ['Recording stopped before completing the experiment epoch']\n",
      "WARNING:root:sweep 29: ['Recording stopped before completing the experiment epoch']\n",
      "WARNING:root:sweep 30: ['Recording stopped before completing the experiment epoch']\n",
      "WARNING:root:sweep 31: ['Recording stopped before completing the experiment epoch']\n"
     ]
    },
    {
     "name": "stdout",
     "output_type": "stream",
     "text": [
      " 157 Specimen ID: 694437359 | VISp6a | Pvalb-MET-1 | Sweep ID: 10 | Init. freq.: 98.23 Hz\n"
     ]
    },
    {
     "name": "stderr",
     "output_type": "stream",
     "text": [
      "WARNING:root:sweep 27: ['Recording stopped before completing the experiment epoch']\n",
      "WARNING:root:sweep 28: ['Recording stopped before completing the experiment epoch']\n",
      "WARNING:root:sweep 29: ['Recording stopped before completing the experiment epoch']\n",
      "WARNING:root:sweep 30: ['Recording stopped before completing the experiment epoch']\n",
      "WARNING:root:sweep 31: ['Recording stopped before completing the experiment epoch']\n",
      "WARNING:root:sweep 35: ['Recording stopped before completing the experiment epoch']\n"
     ]
    },
    {
     "name": "stdout",
     "output_type": "stream",
     "text": [
      " 158 Specimen ID: 694689662 | VISp2/3 | Vip-MET-2 | Sweep ID: 11 | Init. freq.: 95.60 Hz\n"
     ]
    },
    {
     "name": "stderr",
     "output_type": "stream",
     "text": [
      "WARNING:root:sweep 29: ['Recording stopped before completing the experiment epoch']\n",
      "WARNING:root:sweep 30: ['Recording stopped before completing the experiment epoch']\n",
      "WARNING:root:sweep 31: ['Recording stopped before completing the experiment epoch']\n",
      "WARNING:root:sweep 32: ['Recording stopped before completing the experiment epoch']\n",
      "WARNING:root:sweep 33: ['Recording stopped before completing the experiment epoch']\n",
      "WARNING:root:sweep 37: ['Recording stopped before completing the experiment epoch']\n"
     ]
    },
    {
     "name": "stdout",
     "output_type": "stream",
     "text": [
      " 159 Specimen ID: 694734857 | VISp4 | Vip-MET-4 | Sweep ID: 10 | Init. freq.: 79.37 Hz\n"
     ]
    },
    {
     "name": "stderr",
     "output_type": "stream",
     "text": [
      "WARNING:root:sweep 25: ['Recording stopped before completing the experiment epoch']\n",
      "WARNING:root:sweep 26: ['Recording stopped before completing the experiment epoch']\n",
      "WARNING:root:sweep 27: ['Recording stopped before completing the experiment epoch']\n",
      "WARNING:root:sweep 28: ['Recording stopped before completing the experiment epoch']\n",
      "WARNING:root:sweep 29: ['Recording stopped before completing the experiment epoch']\n"
     ]
    },
    {
     "name": "stdout",
     "output_type": "stream",
     "text": [
      " 160 Specimen ID: 695316536 | VISp2/3 | Vip-MET-2 | Sweep ID: 8 | Init. freq.: 143.27 Hz\n"
     ]
    },
    {
     "name": "stderr",
     "output_type": "stream",
     "text": [
      "WARNING:root:sweep 29: ['Recording stopped before completing the experiment epoch']\n",
      "WARNING:root:sweep 30: ['Recording stopped before completing the experiment epoch']\n",
      "WARNING:root:sweep 31: ['Recording stopped before completing the experiment epoch']\n",
      "WARNING:root:sweep 32: ['Recording stopped before completing the experiment epoch']\n",
      "WARNING:root:sweep 33: ['Recording stopped before completing the experiment epoch']\n"
     ]
    },
    {
     "name": "stdout",
     "output_type": "stream",
     "text": [
      " 161 Specimen ID: 696115308 | VISp2/3 | Vip-MET-4 | Sweep ID: 9 | Init. freq.: 93.98 Hz\n"
     ]
    },
    {
     "name": "stderr",
     "output_type": "stream",
     "text": [
      "WARNING:root:sweep 29: ['Recording stopped before completing the experiment epoch']\n",
      "WARNING:root:sweep 30: ['Recording stopped before completing the experiment epoch']\n",
      "WARNING:root:sweep 31: ['Recording stopped before completing the experiment epoch']\n",
      "WARNING:root:sweep 32: ['Recording stopped before completing the experiment epoch']\n",
      "WARNING:root:sweep 33: ['Recording stopped before completing the experiment epoch']\n"
     ]
    },
    {
     "name": "stdout",
     "output_type": "stream",
     "text": [
      " 162 Specimen ID: 697502029 | VISp6a | Sst-MET-10 | Sweep ID: 10 | Init. freq.: 86.51 Hz\n"
     ]
    },
    {
     "name": "stderr",
     "output_type": "stream",
     "text": [
      "WARNING:root:sweep 32: ['Recording stopped before completing the experiment epoch']\n",
      "WARNING:root:sweep 33: ['Recording stopped before completing the experiment epoch']\n",
      "WARNING:root:sweep 34: ['Recording stopped before completing the experiment epoch']\n",
      "WARNING:root:sweep 35: ['Recording stopped before completing the experiment epoch']\n",
      "WARNING:root:sweep 36: ['Recording stopped before completing the experiment epoch']\n"
     ]
    },
    {
     "name": "stdout",
     "output_type": "stream",
     "text": [
      " 163 Specimen ID: 697787349 | VISp6a | Pvalb-MET-2 | Sweep ID: 13 | Init. freq.: 115.47 Hz\n"
     ]
    },
    {
     "name": "stderr",
     "output_type": "stream",
     "text": [
      "WARNING:root:sweep 35: ['Recording stopped before completing the experiment epoch']\n",
      "WARNING:root:sweep 36: ['Recording stopped before completing the experiment epoch']\n",
      "WARNING:root:sweep 37: ['Recording stopped before completing the experiment epoch']\n",
      "WARNING:root:sweep 38: ['Recording stopped before completing the experiment epoch']\n",
      "WARNING:root:sweep 39: ['Recording stopped before completing the experiment epoch']\n"
     ]
    },
    {
     "name": "stdout",
     "output_type": "stream",
     "text": [
      " 164 Specimen ID: 697795277 | VISp6a | Pvalb-MET-2 | Sweep ID: 17 | Init. freq.: 94.34 Hz\n"
     ]
    },
    {
     "name": "stderr",
     "output_type": "stream",
     "text": [
      "WARNING:root:sweep 27: ['Recording stopped before completing the experiment epoch']\n",
      "WARNING:root:sweep 28: ['Recording stopped before completing the experiment epoch']\n",
      "WARNING:root:sweep 29: ['Recording stopped before completing the experiment epoch']\n",
      "WARNING:root:sweep 30: ['Recording stopped before completing the experiment epoch']\n",
      "WARNING:root:sweep 31: ['Recording stopped before completing the experiment epoch']\n",
      "WARNING:root:sweep 32: ['Recording stopped before completing the experiment epoch']\n"
     ]
    },
    {
     "name": "stdout",
     "output_type": "stream",
     "text": [
      " 165 Specimen ID: 697799017 | VISp2/3 | Vip-MET-4 | Sweep ID: 10 | Init. freq.: 130.29 Hz\n"
     ]
    },
    {
     "name": "stderr",
     "output_type": "stream",
     "text": [
      "WARNING:root:sweep 27: ['Recording stopped before completing the experiment epoch']\n",
      "WARNING:root:sweep 28: ['Recording stopped before completing the experiment epoch']\n",
      "WARNING:root:sweep 29: ['Recording stopped before completing the experiment epoch']\n",
      "WARNING:root:sweep 30: ['Recording stopped before completing the experiment epoch']\n",
      "WARNING:root:sweep 31: ['Recording stopped before completing the experiment epoch']\n"
     ]
    },
    {
     "name": "stdout",
     "output_type": "stream",
     "text": [
      " 166 Specimen ID: 697810838 | VISp2/3 | Vip-MET-5 | Sweep ID: 6 | Init. freq.: 226.24 Hz\n"
     ]
    },
    {
     "name": "stderr",
     "output_type": "stream",
     "text": [
      "WARNING:root:sweep 28: ['Recording stopped before completing the experiment epoch']\n",
      "WARNING:root:sweep 29: ['Recording stopped before completing the experiment epoch']\n",
      "WARNING:root:sweep 30: ['Recording stopped before completing the experiment epoch']\n",
      "WARNING:root:sweep 31: ['Recording stopped before completing the experiment epoch']\n",
      "WARNING:root:sweep 32: ['Recording stopped before completing the experiment epoch']\n"
     ]
    },
    {
     "name": "stdout",
     "output_type": "stream",
     "text": [
      " 167 Specimen ID: 698042345 | VISp6a | Pvalb-MET-2 | Sweep ID: 10 | Init. freq.: 91.91 Hz\n",
      " 168 Specimen ID: 698086962 | VISp4 | Pvalb-MET-4 | Sweep ID: 10 | Init. freq.: 93.28 Hz\n"
     ]
    },
    {
     "name": "stderr",
     "output_type": "stream",
     "text": [
      "WARNING:root:sweep 31: ['Recording stopped before completing the experiment epoch']\n",
      "WARNING:root:sweep 32: ['Recording stopped before completing the experiment epoch']\n",
      "WARNING:root:sweep 33: ['Recording stopped before completing the experiment epoch']\n",
      "WARNING:root:sweep 34: ['Recording stopped before completing the experiment epoch']\n",
      "WARNING:root:sweep 35: ['Recording stopped before completing the experiment epoch']\n"
     ]
    },
    {
     "name": "stdout",
     "output_type": "stream",
     "text": [
      " 169 Specimen ID: 698570301 | VISp5 | Pvalb-MET-4 | Sweep ID: 8 | Init. freq.: 98.62 Hz\n"
     ]
    },
    {
     "name": "stderr",
     "output_type": "stream",
     "text": [
      "WARNING:root:sweep 30: ['Recording stopped before completing the experiment epoch']\n",
      "WARNING:root:sweep 31: ['Recording stopped before completing the experiment epoch']\n",
      "WARNING:root:sweep 32: ['Recording stopped before completing the experiment epoch']\n",
      "WARNING:root:sweep 33: ['Recording stopped before completing the experiment epoch']\n",
      "WARNING:root:sweep 34: ['Recording stopped before completing the experiment epoch']\n"
     ]
    },
    {
     "name": "stdout",
     "output_type": "stream",
     "text": [
      " 170 Specimen ID: 698586385 | VISp6a | Pvalb-MET-2 | Sweep ID: 10 | Init. freq.: 111.11 Hz\n"
     ]
    },
    {
     "name": "stderr",
     "output_type": "stream",
     "text": [
      "WARNING:root:sweep 21: ['Recording stopped before completing the experiment epoch']\n",
      "WARNING:root:sweep 22: ['Recording stopped before completing the experiment epoch']\n",
      "WARNING:root:sweep 23: ['Recording stopped before completing the experiment epoch']\n",
      "WARNING:root:sweep 24: ['Recording stopped before completing the experiment epoch']\n",
      "WARNING:root:sweep 25: ['Recording stopped before completing the experiment epoch']\n"
     ]
    },
    {
     "name": "stdout",
     "output_type": "stream",
     "text": [
      " 171 Specimen ID: 699448311 | VISpm4 | Pvalb-MET-4 | Sweep ID: 6 | Init. freq.: 88.18 Hz\n"
     ]
    },
    {
     "name": "stderr",
     "output_type": "stream",
     "text": [
      "WARNING:root:sweep 24: ['Recording stopped before completing the experiment epoch']\n",
      "WARNING:root:sweep 25: ['Recording stopped before completing the experiment epoch']\n",
      "WARNING:root:sweep 26: ['Recording stopped before completing the experiment epoch']\n",
      "WARNING:root:sweep 27: ['Recording stopped before completing the experiment epoch']\n",
      "WARNING:root:sweep 28: ['Recording stopped before completing the experiment epoch']\n"
     ]
    },
    {
     "name": "stdout",
     "output_type": "stream",
     "text": [
      " 172 Specimen ID: 699495755 | VISam4 | Pvalb-MET-4 | Sweep ID: 12 | Init. freq.: 100.40 Hz\n"
     ]
    },
    {
     "name": "stderr",
     "output_type": "stream",
     "text": [
      "WARNING:root:sweep 28: ['Recording stopped before completing the experiment epoch']\n",
      "WARNING:root:sweep 29: ['Recording stopped before completing the experiment epoch']\n",
      "WARNING:root:sweep 30: ['Recording stopped before completing the experiment epoch']\n",
      "WARNING:root:sweep 31: ['Recording stopped before completing the experiment epoch']\n",
      "WARNING:root:sweep 32: ['Recording stopped before completing the experiment epoch']\n"
     ]
    },
    {
     "name": "stdout",
     "output_type": "stream",
     "text": [
      " 173 Specimen ID: 700390241 | VISp2/3 | Vip-MET-2 | Sweep ID: 10 | Init. freq.: 80.26 Hz\n"
     ]
    },
    {
     "name": "stderr",
     "output_type": "stream",
     "text": [
      "WARNING:root:sweep 31: ['Recording stopped before completing the experiment epoch']\n",
      "WARNING:root:sweep 32: ['Recording stopped before completing the experiment epoch']\n",
      "WARNING:root:sweep 33: ['Recording stopped before completing the experiment epoch']\n",
      "WARNING:root:sweep 34: ['Recording stopped before completing the experiment epoch']\n",
      "WARNING:root:sweep 35: ['Recording stopped before completing the experiment epoch']\n",
      "WARNING:root:sweep 39: ['Recording stopped before completing the experiment epoch']\n"
     ]
    },
    {
     "name": "stdout",
     "output_type": "stream",
     "text": [
      " 174 Specimen ID: 700413526 | VISp5 | Vip-MET-3 | Sweep ID: 9 | Init. freq.: 92.76 Hz\n"
     ]
    },
    {
     "name": "stderr",
     "output_type": "stream",
     "text": [
      "WARNING:root:sweep 19: ['Recording stopped before completing the experiment epoch']\n",
      "WARNING:root:sweep 20: ['Recording stopped before completing the experiment epoch']\n",
      "WARNING:root:sweep 21: ['Recording stopped before completing the experiment epoch']\n",
      "WARNING:root:sweep 22: ['Recording stopped before completing the experiment epoch']\n",
      "WARNING:root:sweep 23: ['Recording stopped before completing the experiment epoch']\n"
     ]
    },
    {
     "name": "stdout",
     "output_type": "stream",
     "text": [
      " 175 Specimen ID: 701075567 | VISp5 | Sst-MET-1 | Sweep ID: 10 | Init. freq.: 85.47 Hz\n"
     ]
    },
    {
     "name": "stderr",
     "output_type": "stream",
     "text": [
      "WARNING:root:sweep 19: ['Recording stopped before completing the experiment epoch']\n",
      "WARNING:root:sweep 20: ['Recording stopped before completing the experiment epoch']\n",
      "WARNING:root:sweep 21: ['Recording stopped before completing the experiment epoch']\n",
      "WARNING:root:sweep 22: ['Recording stopped before completing the experiment epoch']\n",
      "WARNING:root:sweep 23: ['Recording stopped before completing the experiment epoch']\n"
     ]
    },
    {
     "name": "stdout",
     "output_type": "stream",
     "text": [
      " 176 Specimen ID: 701140434 | VISp6a | Pvalb-MET-2 | Sweep ID: 6 | Init. freq.: 117.65 Hz\n"
     ]
    },
    {
     "name": "stderr",
     "output_type": "stream",
     "text": [
      "WARNING:root:sweep 25: ['Recording stopped before completing the experiment epoch']\n",
      "WARNING:root:sweep 26: ['Recording stopped before completing the experiment epoch']\n",
      "WARNING:root:sweep 27: ['Recording stopped before completing the experiment epoch']\n",
      "WARNING:root:sweep 28: ['Recording stopped before completing the experiment epoch']\n",
      "WARNING:root:sweep 29: ['Recording stopped before completing the experiment epoch']\n"
     ]
    },
    {
     "name": "stdout",
     "output_type": "stream",
     "text": [
      " 177 Specimen ID: 702051128 | VISl5 | Sst-MET-13 | Sweep ID: 9 | Init. freq.: 75.87 Hz\n"
     ]
    },
    {
     "name": "stderr",
     "output_type": "stream",
     "text": [
      "WARNING:root:sweep 27: ['Recording stopped before completing the experiment epoch']\n",
      "WARNING:root:sweep 28: ['Recording stopped before completing the experiment epoch']\n",
      "WARNING:root:sweep 29: ['Recording stopped before completing the experiment epoch']\n",
      "WARNING:root:sweep 30: ['Recording stopped before completing the experiment epoch']\n",
      "WARNING:root:sweep 31: ['Recording stopped before completing the experiment epoch']\n"
     ]
    },
    {
     "name": "stdout",
     "output_type": "stream",
     "text": [
      " 178 Specimen ID: 703283610 | VISp6a | Sst-MET-12 | Sweep ID: 9 | Init. freq.: 76.34 Hz\n",
      " 179 Specimen ID: 703565379 | VISp6a | Pvalb-MET-2 | Sweep ID: 7 | Init. freq.: 96.90 Hz\n"
     ]
    },
    {
     "name": "stderr",
     "output_type": "stream",
     "text": [
      "WARNING:root:sweep 25: ['Recording stopped before completing the experiment epoch']\n",
      "WARNING:root:sweep 26: ['Recording stopped before completing the experiment epoch']\n",
      "WARNING:root:sweep 27: ['Recording stopped before completing the experiment epoch']\n",
      "WARNING:root:sweep 28: ['Recording stopped before completing the experiment epoch']\n",
      "WARNING:root:sweep 29: ['Recording stopped before completing the experiment epoch']\n"
     ]
    },
    {
     "name": "stdout",
     "output_type": "stream",
     "text": [
      " 180 Specimen ID: 704047023 | VISp5 | Sst-MET-4 | Sweep ID: 9 | Init. freq.: 89.13 Hz\n"
     ]
    },
    {
     "name": "stderr",
     "output_type": "stream",
     "text": [
      "WARNING:root:sweep 24: ['Recording stopped before completing the experiment epoch']\n",
      "WARNING:root:sweep 25: ['Recording stopped before completing the experiment epoch']\n",
      "WARNING:root:sweep 26: ['Recording stopped before completing the experiment epoch']\n",
      "WARNING:root:sweep 27: ['Recording stopped before completing the experiment epoch']\n",
      "WARNING:root:sweep 28: ['Recording stopped before completing the experiment epoch']\n",
      "WARNING:root:sweep 29: ['Recording stopped before completing the experiment epoch']\n"
     ]
    },
    {
     "name": "stdout",
     "output_type": "stream",
     "text": [
      " 181 Specimen ID: 705217315 | VISp5 | Sst-MET-9 | Sweep ID: 9 | Init. freq.: 96.53 Hz\n"
     ]
    },
    {
     "name": "stderr",
     "output_type": "stream",
     "text": [
      "WARNING:root:sweep 24: ['Recording stopped before completing the experiment epoch']\n",
      "WARNING:root:sweep 25: ['Recording stopped before completing the experiment epoch']\n",
      "WARNING:root:sweep 26: ['Recording stopped before completing the experiment epoch']\n",
      "WARNING:root:sweep 27: ['Recording stopped before completing the experiment epoch']\n",
      "WARNING:root:sweep 28: ['Recording stopped before completing the experiment epoch']\n"
     ]
    },
    {
     "name": "stdout",
     "output_type": "stream",
     "text": [
      " 182 Specimen ID: 705278421 | VISp2/3 | Sst-MET-2 | Sweep ID: 8 | Init. freq.: 62.03 Hz\n",
      " 183 Specimen ID: 705570328 | VISpm5 | Sst-MET-5 | Sweep ID: 13 | Init. freq.: 116.01 Hz\n"
     ]
    },
    {
     "name": "stderr",
     "output_type": "stream",
     "text": [
      "WARNING:root:sweep 25: ['Recording stopped before completing the experiment epoch']\n",
      "WARNING:root:sweep 26: ['Recording stopped before completing the experiment epoch']\n",
      "WARNING:root:sweep 27: ['Recording stopped before completing the experiment epoch']\n",
      "WARNING:root:sweep 28: ['Recording stopped before completing the experiment epoch']\n",
      "WARNING:root:sweep 29: ['Recording stopped before completing the experiment epoch']\n"
     ]
    },
    {
     "name": "stdout",
     "output_type": "stream",
     "text": [
      " 184 Specimen ID: 705817510 | VISp5 | Sst-MET-5 | Sweep ID: 7 | Init. freq.: 114.94 Hz\n"
     ]
    },
    {
     "name": "stderr",
     "output_type": "stream",
     "text": [
      "WARNING:root:sweep 31: ['Recording stopped before completing the experiment epoch']\n",
      "WARNING:root:sweep 32: ['Recording stopped before completing the experiment epoch']\n",
      "WARNING:root:sweep 33: ['Recording stopped before completing the experiment epoch']\n",
      "WARNING:root:sweep 34: ['Recording stopped before completing the experiment epoch']\n",
      "WARNING:root:sweep 35: ['Recording stopped before completing the experiment epoch']\n"
     ]
    },
    {
     "name": "stdout",
     "output_type": "stream",
     "text": [
      " 185 Specimen ID: 707162377 | VISp6a | Sst-MET-12 | Sweep ID: 10 | Init. freq.: 109.17 Hz\n"
     ]
    },
    {
     "name": "stderr",
     "output_type": "stream",
     "text": [
      "WARNING:root:sweep 28: ['Recording stopped before completing the experiment epoch']\n",
      "WARNING:root:sweep 29: ['Recording stopped before completing the experiment epoch']\n",
      "WARNING:root:sweep 30: ['Recording stopped before completing the experiment epoch']\n",
      "WARNING:root:sweep 31: ['Recording stopped before completing the experiment epoch']\n",
      "WARNING:root:sweep 32: ['Recording stopped before completing the experiment epoch']\n"
     ]
    },
    {
     "name": "stdout",
     "output_type": "stream",
     "text": [
      " 186 Specimen ID: 707179690 | VISpm2/3 | Sst-MET-1 | Sweep ID: 9 | Init. freq.: 71.53 Hz\n"
     ]
    },
    {
     "name": "stderr",
     "output_type": "stream",
     "text": [
      "WARNING:root:sweep 29: ['Recording stopped before completing the experiment epoch']\n",
      "WARNING:root:sweep 41: ['Recording stopped before completing the experiment epoch']\n",
      "WARNING:root:sweep 42: ['Recording stopped before completing the experiment epoch']\n",
      "WARNING:root:sweep 43: ['Recording stopped before completing the experiment epoch']\n",
      "WARNING:root:sweep 44: ['Recording stopped before completing the experiment epoch']\n",
      "WARNING:root:sweep 45: ['Recording stopped before completing the experiment epoch']\n"
     ]
    },
    {
     "name": "stdout",
     "output_type": "stream",
     "text": [
      " 187 Specimen ID: 707403326 | VISp4 | Sst-MET-8 | Sweep ID: 10 | Init. freq.: 95.06 Hz\n"
     ]
    },
    {
     "name": "stderr",
     "output_type": "stream",
     "text": [
      "WARNING:root:sweep 24: ['Recording stopped before completing the experiment epoch']\n",
      "WARNING:root:sweep 25: ['Recording stopped before completing the experiment epoch']\n",
      "WARNING:root:sweep 26: ['Recording stopped before completing the experiment epoch']\n",
      "WARNING:root:sweep 27: ['Recording stopped before completing the experiment epoch']\n",
      "WARNING:root:sweep 28: ['Recording stopped before completing the experiment epoch']\n"
     ]
    },
    {
     "name": "stdout",
     "output_type": "stream",
     "text": [
      " 188 Specimen ID: 707424705 | VISp5 | Sst-MET-12 | Sweep ID: 6 | Init. freq.: 109.65 Hz\n"
     ]
    },
    {
     "name": "stderr",
     "output_type": "stream",
     "text": [
      "WARNING:root:sweep 29: ['Recording stopped before completing the experiment epoch']\n",
      "WARNING:root:sweep 30: ['Recording stopped before completing the experiment epoch']\n",
      "WARNING:root:sweep 31: ['Recording stopped before completing the experiment epoch']\n",
      "WARNING:root:sweep 32: ['Recording stopped before completing the experiment epoch']\n",
      "WARNING:root:sweep 33: ['Recording stopped before completing the experiment epoch']\n"
     ]
    },
    {
     "name": "stdout",
     "output_type": "stream",
     "text": [
      " 189 Specimen ID: 707666779 | VISp5 | Lamp5-MET-1 | Sweep ID: 9 | Init. freq.: 44.52 Hz\n"
     ]
    },
    {
     "name": "stderr",
     "output_type": "stream",
     "text": [
      "WARNING:root:sweep 23: ['Recording stopped before completing the experiment epoch']\n",
      "WARNING:root:sweep 24: ['Recording stopped before completing the experiment epoch']\n",
      "WARNING:root:sweep 25: ['Recording stopped before completing the experiment epoch']\n",
      "WARNING:root:sweep 26: ['Recording stopped before completing the experiment epoch']\n",
      "WARNING:root:sweep 27: ['Recording stopped before completing the experiment epoch']\n"
     ]
    },
    {
     "name": "stdout",
     "output_type": "stream",
     "text": [
      " 190 Specimen ID: 708221965 | VISp6a | Sst-MET-12 | Sweep ID: 8 | Init. freq.: 108.23 Hz\n"
     ]
    },
    {
     "name": "stderr",
     "output_type": "stream",
     "text": [
      "WARNING:root:sweep 28: ['stim epoch is missing', 'experiment epoch is missing']\n",
      "WARNING:root:sweep 29: ['Recording stopped before completing the experiment epoch']\n",
      "WARNING:root:sweep 30: ['Recording stopped before completing the experiment epoch']\n",
      "WARNING:root:sweep 31: ['Recording stopped before completing the experiment epoch']\n",
      "WARNING:root:sweep 32: ['Recording stopped before completing the experiment epoch']\n",
      "WARNING:root:sweep 33: ['Recording stopped before completing the experiment epoch']\n"
     ]
    },
    {
     "name": "stdout",
     "output_type": "stream",
     "text": [
      " 191 Specimen ID: 709153201 | VISp6a | Pvalb-MET-2 | Sweep ID: 5 | Init. freq.: 101.63 Hz\n"
     ]
    },
    {
     "name": "stderr",
     "output_type": "stream",
     "text": [
      "WARNING:root:sweep 28: ['Recording stopped before completing the experiment epoch']\n",
      "WARNING:root:sweep 29: ['Recording stopped before completing the experiment epoch']\n",
      "WARNING:root:sweep 30: ['Recording stopped before completing the experiment epoch']\n",
      "WARNING:root:sweep 31: ['Recording stopped before completing the experiment epoch']\n",
      "WARNING:root:sweep 32: ['Recording stopped before completing the experiment epoch']\n"
     ]
    },
    {
     "name": "stdout",
     "output_type": "stream",
     "text": [
      " 192 Specimen ID: 709219898 | VISp4 | Vip-MET-1 | Sweep ID: 8 | Init. freq.: 94.70 Hz\n"
     ]
    },
    {
     "name": "stderr",
     "output_type": "stream",
     "text": [
      "WARNING:root:sweep 30: ['Recording stopped before completing the experiment epoch']\n",
      "WARNING:root:sweep 31: ['Recording stopped before completing the experiment epoch']\n",
      "WARNING:root:sweep 32: ['Recording stopped before completing the experiment epoch']\n",
      "WARNING:root:sweep 33: ['Recording stopped before completing the experiment epoch']\n",
      "WARNING:root:sweep 34: ['Recording stopped before completing the experiment epoch']\n"
     ]
    },
    {
     "name": "stdout",
     "output_type": "stream",
     "text": [
      " 193 Specimen ID: 710338421 | VISpor6a | Sst-MET-12 | Sweep ID: 8 | Init. freq.: 70.82 Hz\n"
     ]
    },
    {
     "name": "stderr",
     "output_type": "stream",
     "text": [
      "WARNING:root:sweep 27: ['Recording stopped before completing the experiment epoch']\n",
      "WARNING:root:sweep 28: ['Recording stopped before completing the experiment epoch']\n",
      "WARNING:root:sweep 29: ['Recording stopped before completing the experiment epoch']\n",
      "WARNING:root:sweep 30: ['Recording stopped before completing the experiment epoch']\n",
      "WARNING:root:sweep 31: ['Recording stopped before completing the experiment epoch']\n",
      "WARNING:root:sweep 35: ['Recording stopped before completing the experiment epoch']\n"
     ]
    },
    {
     "name": "stdout",
     "output_type": "stream",
     "text": [
      " 194 Specimen ID: 710730520 | VISp4 | Sst-MET-2 | Sweep ID: 11 | Init. freq.: 126.26 Hz\n"
     ]
    },
    {
     "name": "stderr",
     "output_type": "stream",
     "text": [
      "WARNING:root:sweep 26: ['Recording stopped before completing the experiment epoch']\n",
      "WARNING:root:sweep 27: ['Recording stopped before completing the experiment epoch']\n",
      "WARNING:root:sweep 28: ['Recording stopped before completing the experiment epoch']\n",
      "WARNING:root:sweep 29: ['Recording stopped before completing the experiment epoch']\n",
      "WARNING:root:sweep 30: ['Recording stopped before completing the experiment epoch']\n",
      "WARNING:root:sweep 31: ['Recording stopped before completing the experiment epoch']\n"
     ]
    },
    {
     "name": "stdout",
     "output_type": "stream",
     "text": [
      " 195 Specimen ID: 710784375 | VISp4 | Sst-MET-3 | Sweep ID: 12 | Init. freq.: 87.41 Hz\n"
     ]
    },
    {
     "name": "stderr",
     "output_type": "stream",
     "text": [
      "WARNING:root:sweep 30: ['Recording stopped before completing the experiment epoch']\n",
      "WARNING:root:sweep 31: ['Recording stopped before completing the experiment epoch']\n",
      "WARNING:root:sweep 32: ['Recording stopped before completing the experiment epoch']\n",
      "WARNING:root:sweep 33: ['Recording stopped before completing the experiment epoch']\n",
      "WARNING:root:sweep 34: ['Recording stopped before completing the experiment epoch']\n",
      "WARNING:root:sweep 37: ['Recording stopped before completing the experiment epoch']\n",
      "WARNING:root:sweep 40: ['Recording stopped before completing the experiment epoch']\n"
     ]
    },
    {
     "name": "stdout",
     "output_type": "stream",
     "text": [
      " 196 Specimen ID: 710920450 | VISp5 | Sst-MET-7 | Sweep ID: 9 | Init. freq.: 112.11 Hz\n"
     ]
    },
    {
     "name": "stderr",
     "output_type": "stream",
     "text": [
      "WARNING:root:sweep 28: ['Recording stopped before completing the experiment epoch']\n",
      "WARNING:root:sweep 29: ['Recording stopped before completing the experiment epoch']\n",
      "WARNING:root:sweep 30: ['Recording stopped before completing the experiment epoch']\n",
      "WARNING:root:sweep 31: ['Recording stopped before completing the experiment epoch']\n",
      "WARNING:root:sweep 32: ['Recording stopped before completing the experiment epoch']\n"
     ]
    },
    {
     "name": "stdout",
     "output_type": "stream",
     "text": [
      " 197 Specimen ID: 711212623 | VISp6a | Sst-MET-12 | Sweep ID: 9 | Init. freq.: 100.00 Hz\n"
     ]
    },
    {
     "name": "stderr",
     "output_type": "stream",
     "text": [
      "WARNING:root:sweep 7: ['stim epoch is missing', 'experiment epoch is missing']\n"
     ]
    },
    {
     "name": "stdout",
     "output_type": "stream",
     "text": [
      " 198 Specimen ID: 711464852 | VISp5 | Sst-MET-1 | Sweep ID: 13 | Init. freq.: 74.07 Hz\n"
     ]
    },
    {
     "name": "stderr",
     "output_type": "stream",
     "text": [
      "WARNING:root:sweep 32: ['Recording stopped before completing the experiment epoch']\n",
      "WARNING:root:sweep 33: ['Recording stopped before completing the experiment epoch']\n",
      "WARNING:root:sweep 34: ['Recording stopped before completing the experiment epoch']\n",
      "WARNING:root:sweep 35: ['Recording stopped before completing the experiment epoch']\n",
      "WARNING:root:sweep 36: ['Recording stopped before completing the experiment epoch']\n"
     ]
    },
    {
     "name": "stdout",
     "output_type": "stream",
     "text": [
      " 199 Specimen ID: 711483278 | VISp6a | Lamp5-MET-2 | Sweep ID: 12 | Init. freq.: 18.40 Hz\n"
     ]
    },
    {
     "name": "stderr",
     "output_type": "stream",
     "text": [
      "WARNING:root:sweep 35: ['Recording stopped before completing the experiment epoch']\n",
      "WARNING:root:sweep 36: ['Recording stopped before completing the experiment epoch']\n",
      "WARNING:root:sweep 37: ['Recording stopped before completing the experiment epoch']\n",
      "WARNING:root:sweep 38: ['Recording stopped before completing the experiment epoch']\n",
      "WARNING:root:sweep 39: ['Recording stopped before completing the experiment epoch']\n"
     ]
    },
    {
     "name": "stdout",
     "output_type": "stream",
     "text": [
      " 200 Specimen ID: 711528753 | VISp6a | Sst-MET-1 | Sweep ID: 9 | Init. freq.: 112.87 Hz\n"
     ]
    },
    {
     "name": "stderr",
     "output_type": "stream",
     "text": [
      "WARNING:root:sweep 28: ['Recording stopped before completing the experiment epoch']\n",
      "WARNING:root:sweep 29: ['Recording stopped before completing the experiment epoch']\n",
      "WARNING:root:sweep 30: ['Recording stopped before completing the experiment epoch']\n",
      "WARNING:root:sweep 31: ['Recording stopped before completing the experiment epoch']\n",
      "WARNING:root:sweep 32: ['Recording stopped before completing the experiment epoch']\n"
     ]
    },
    {
     "name": "stdout",
     "output_type": "stream",
     "text": [
      " 201 Specimen ID: 711571947 | VISp6a | Sst-MET-12 | Sweep ID: 12 | Init. freq.: 117.37 Hz\n"
     ]
    },
    {
     "name": "stderr",
     "output_type": "stream",
     "text": [
      "WARNING:root:sweep 20: ['Recording stopped before completing the experiment epoch']\n"
     ]
    },
    {
     "name": "stdout",
     "output_type": "stream",
     "text": [
      " 202 Specimen ID: 711770582 | VISp2/3 | Sst-MET-3 | Sweep ID: 16 | Init. freq.: 47.17 Hz\n"
     ]
    },
    {
     "name": "stderr",
     "output_type": "stream",
     "text": [
      "WARNING:root:sweep 20: ['Recording stopped before completing the experiment epoch']\n",
      "WARNING:root:sweep 21: ['Recording stopped before completing the experiment epoch']\n",
      "WARNING:root:sweep 22: ['Recording stopped before completing the experiment epoch']\n",
      "WARNING:root:sweep 23: ['Recording stopped before completing the experiment epoch']\n",
      "WARNING:root:sweep 24: ['Recording stopped before completing the experiment epoch']\n"
     ]
    },
    {
     "name": "stdout",
     "output_type": "stream",
     "text": [
      " 203 Specimen ID: 711903629 | VISp5 | Sst-MET-5 | Sweep ID: 7 | Init. freq.: 86.36 Hz\n"
     ]
    },
    {
     "name": "stderr",
     "output_type": "stream",
     "text": [
      "WARNING:root:sweep 28: ['Recording stopped before completing the experiment epoch']\n",
      "WARNING:root:sweep 29: ['Recording stopped before completing the experiment epoch']\n",
      "WARNING:root:sweep 30: ['Recording stopped before completing the experiment epoch']\n",
      "WARNING:root:sweep 31: ['Recording stopped before completing the experiment epoch']\n",
      "WARNING:root:sweep 32: ['Recording stopped before completing the experiment epoch']\n",
      "WARNING:root:sweep 33: ['Recording stopped before completing the experiment epoch']\n"
     ]
    },
    {
     "name": "stdout",
     "output_type": "stream",
     "text": [
      " 204 Specimen ID: 713132614 | VISp2/3 | Sst-MET-3 | Sweep ID: 11 | Init. freq.: 121.36 Hz\n"
     ]
    },
    {
     "name": "stderr",
     "output_type": "stream",
     "text": [
      "WARNING:root:sweep 21: ['Recording stopped before completing the experiment epoch']\n",
      "WARNING:root:sweep 22: ['Recording stopped before completing the experiment epoch']\n",
      "WARNING:root:sweep 23: ['Recording stopped before completing the experiment epoch']\n",
      "WARNING:root:sweep 24: ['Recording stopped before completing the experiment epoch']\n",
      "WARNING:root:sweep 25: ['Recording stopped before completing the experiment epoch']\n"
     ]
    },
    {
     "name": "stdout",
     "output_type": "stream",
     "text": [
      " 205 Specimen ID: 713442456 | VISp4 | Sst-MET-8 | Sweep ID: 7 | Init. freq.: 81.57 Hz\n"
     ]
    },
    {
     "name": "stderr",
     "output_type": "stream",
     "text": [
      "WARNING:root:sweep 24: ['Recording stopped before completing the experiment epoch']\n",
      "WARNING:root:sweep 25: ['Recording stopped before completing the experiment epoch']\n",
      "WARNING:root:sweep 26: ['Recording stopped before completing the experiment epoch']\n",
      "WARNING:root:sweep 27: ['Recording stopped before completing the experiment epoch']\n",
      "WARNING:root:sweep 28: ['Recording stopped before completing the experiment epoch']\n"
     ]
    },
    {
     "name": "stdout",
     "output_type": "stream",
     "text": [
      " 206 Specimen ID: 714046701 | VISp2/3 | Pvalb-MET-4 | Sweep ID: 8 | Init. freq.: 116.82 Hz\n"
     ]
    },
    {
     "name": "stderr",
     "output_type": "stream",
     "text": [
      "WARNING:root:sweep 5: ['stim epoch is missing', 'experiment epoch is missing']\n",
      "WARNING:root:sweep 7: ['stim epoch is missing', 'experiment epoch is missing']\n",
      "WARNING:root:sweep 8: ['stim epoch is missing', 'experiment epoch is missing']\n",
      "WARNING:root:sweep 10: ['stim epoch is missing', 'experiment epoch is missing']\n",
      "WARNING:root:sweep 11: ['stim epoch is missing', 'experiment epoch is missing']\n",
      "WARNING:root:sweep 18: ['stim epoch is missing', 'experiment epoch is missing']\n",
      "WARNING:root:sweep 19: ['stim epoch is missing', 'experiment epoch is missing']\n",
      "WARNING:root:sweep 20: ['stim epoch is missing', 'experiment epoch is missing']\n",
      "WARNING:root:sweep 22: ['stim epoch is missing', 'experiment epoch is missing']\n",
      "WARNING:root:sweep 34: ['stim epoch is missing', 'experiment epoch is missing']\n",
      "WARNING:root:sweep 36: ['stim epoch is missing', 'experiment epoch is missing']\n",
      "WARNING:root:sweep 48: ['stim epoch is missing', 'experiment epoch is missing']\n",
      "WARNING:root:sweep 51: ['stim epoch is missing', 'experiment epoch is missing']\n",
      "WARNING:root:sweep 69: ['Recording stopped before completing the experiment epoch']\n"
     ]
    },
    {
     "name": "stdout",
     "output_type": "stream",
     "text": [
      " 207 Specimen ID: 714228701 | VISp5 | Pvalb-MET-3 | Sweep ID: 18 | Init. freq.: 74.18 Hz\n"
     ]
    },
    {
     "name": "stderr",
     "output_type": "stream",
     "text": [
      "WARNING:root:sweep 24: ['Recording stopped before completing the experiment epoch']\n",
      "WARNING:root:sweep 25: ['Recording stopped before completing the experiment epoch']\n",
      "WARNING:root:sweep 26: ['Recording stopped before completing the experiment epoch']\n",
      "WARNING:root:sweep 27: ['Recording stopped before completing the experiment epoch']\n",
      "WARNING:root:sweep 28: ['Recording stopped before completing the experiment epoch']\n"
     ]
    },
    {
     "name": "stdout",
     "output_type": "stream",
     "text": [
      " 208 Specimen ID: 714485370 | VISp4 | Sncg-MET-1 | Sweep ID: 5 | Init. freq.: 91.74 Hz\n"
     ]
    },
    {
     "name": "stderr",
     "output_type": "stream",
     "text": [
      "WARNING:root:sweep 27: ['Recording stopped before completing the experiment epoch']\n",
      "WARNING:root:sweep 28: ['Recording stopped before completing the experiment epoch']\n",
      "WARNING:root:sweep 29: ['Recording stopped before completing the experiment epoch']\n",
      "WARNING:root:sweep 30: ['Recording stopped before completing the experiment epoch']\n",
      "WARNING:root:sweep 31: ['Recording stopped before completing the experiment epoch']\n"
     ]
    },
    {
     "name": "stdout",
     "output_type": "stream",
     "text": [
      " 209 Specimen ID: 714601733 | VISp6a | Pvalb-MET-2 | Sweep ID: 9 | Init. freq.: 85.76 Hz\n"
     ]
    },
    {
     "name": "stderr",
     "output_type": "stream",
     "text": [
      "WARNING:root:sweep 23: ['Recording stopped before completing the experiment epoch']\n",
      "WARNING:root:sweep 24: ['Recording stopped before completing the experiment epoch']\n",
      "WARNING:root:sweep 25: ['Recording stopped before completing the experiment epoch']\n",
      "WARNING:root:sweep 26: ['Recording stopped before completing the experiment epoch']\n",
      "WARNING:root:sweep 27: ['Recording stopped before completing the experiment epoch']\n"
     ]
    },
    {
     "name": "stdout",
     "output_type": "stream",
     "text": [
      " 210 Specimen ID: 714755043 | VISp5 | Sncg-MET-1 | Sweep ID: 6 | Init. freq.: 100.81 Hz\n"
     ]
    },
    {
     "name": "stderr",
     "output_type": "stream",
     "text": [
      "WARNING:root:sweep 32: ['Recording stopped before completing the experiment epoch']\n",
      "WARNING:root:sweep 33: ['Recording stopped before completing the experiment epoch']\n",
      "WARNING:root:sweep 34: ['Recording stopped before completing the experiment epoch']\n",
      "WARNING:root:sweep 35: ['Recording stopped before completing the experiment epoch']\n",
      "WARNING:root:sweep 36: ['Recording stopped before completing the experiment epoch']\n"
     ]
    },
    {
     "name": "stdout",
     "output_type": "stream",
     "text": [
      " 211 Specimen ID: 714936352 | VISp2/3 | Sncg-MET-1 | Sweep ID: 9 | Init. freq.: 84.03 Hz\n"
     ]
    },
    {
     "name": "stderr",
     "output_type": "stream",
     "text": [
      "WARNING:root:sweep 26: ['Recording stopped before completing the experiment epoch']\n",
      "WARNING:root:sweep 27: ['Recording stopped before completing the experiment epoch']\n",
      "WARNING:root:sweep 28: ['Recording stopped before completing the experiment epoch']\n",
      "WARNING:root:sweep 29: ['Recording stopped before completing the experiment epoch']\n",
      "WARNING:root:sweep 30: ['Recording stopped before completing the experiment epoch']\n",
      "WARNING:root:sweep 31: ['Recording stopped before completing the experiment epoch']\n"
     ]
    },
    {
     "name": "stdout",
     "output_type": "stream",
     "text": [
      " 212 Specimen ID: 715159651 | VISp2/3 | Vip-MET-1 | Sweep ID: 8 | Init. freq.: 90.42 Hz\n"
     ]
    },
    {
     "name": "stderr",
     "output_type": "stream",
     "text": [
      "WARNING:root:sweep 24: ['Recording stopped before completing the experiment epoch']\n",
      "WARNING:root:sweep 25: ['Recording stopped before completing the experiment epoch']\n",
      "WARNING:root:sweep 26: ['Recording stopped before completing the experiment epoch']\n",
      "WARNING:root:sweep 27: ['Recording stopped before completing the experiment epoch']\n",
      "WARNING:root:sweep 28: ['Recording stopped before completing the experiment epoch']\n"
     ]
    },
    {
     "name": "stdout",
     "output_type": "stream",
     "text": [
      " 213 Specimen ID: 716298521 | VISpor2/3 | Sncg-MET-1 | Sweep ID: 7 | Init. freq.: 119.33 Hz\n"
     ]
    },
    {
     "name": "stderr",
     "output_type": "stream",
     "text": [
      "WARNING:root:sweep 29: ['Recording stopped before completing the experiment epoch']\n",
      "WARNING:root:sweep 30: ['Recording stopped before completing the experiment epoch']\n",
      "WARNING:root:sweep 31: ['Recording stopped before completing the experiment epoch']\n",
      "WARNING:root:sweep 32: ['Recording stopped before completing the experiment epoch']\n",
      "WARNING:root:sweep 33: ['Recording stopped before completing the experiment epoch']\n"
     ]
    },
    {
     "name": "stdout",
     "output_type": "stream",
     "text": [
      " 214 Specimen ID: 716832846 | VISp5 | Lamp5-MET-1 | Sweep ID: 8 | Init. freq.: 35.95 Hz\n"
     ]
    },
    {
     "name": "stderr",
     "output_type": "stream",
     "text": [
      "WARNING:root:sweep 28: ['Recording stopped before completing the experiment epoch']\n",
      "WARNING:root:sweep 29: ['Recording stopped before completing the experiment epoch']\n",
      "WARNING:root:sweep 30: ['Recording stopped before completing the experiment epoch']\n",
      "WARNING:root:sweep 31: ['Recording stopped before completing the experiment epoch']\n",
      "WARNING:root:sweep 32: ['Recording stopped before completing the experiment epoch']\n"
     ]
    },
    {
     "name": "stdout",
     "output_type": "stream",
     "text": [
      " 215 Specimen ID: 717637005 | VISpm1 | Lamp5-MET-1 | Sweep ID: 10 | Init. freq.: 55.49 Hz\n"
     ]
    },
    {
     "name": "stderr",
     "output_type": "stream",
     "text": [
      "WARNING:root:sweep 25: ['stim epoch is missing', 'experiment epoch is missing']\n",
      "WARNING:root:sweep 28: ['Recording stopped before completing the experiment epoch']\n",
      "WARNING:root:sweep 29: ['Recording stopped before completing the experiment epoch']\n",
      "WARNING:root:sweep 30: ['Recording stopped before completing the experiment epoch']\n",
      "WARNING:root:sweep 31: ['Recording stopped before completing the experiment epoch']\n",
      "WARNING:root:sweep 32: ['Recording stopped before completing the experiment epoch']\n"
     ]
    },
    {
     "name": "stdout",
     "output_type": "stream",
     "text": [
      " 216 Specimen ID: 717675736 | VISp2/3 | Lamp5-MET-1 | Sweep ID: 10 | Init. freq.: 37.06 Hz\n"
     ]
    },
    {
     "name": "stderr",
     "output_type": "stream",
     "text": [
      "WARNING:root:sweep 26: ['Recording stopped before completing the experiment epoch']\n",
      "WARNING:root:sweep 27: ['Recording stopped before completing the experiment epoch']\n",
      "WARNING:root:sweep 28: ['Recording stopped before completing the experiment epoch']\n",
      "WARNING:root:sweep 29: ['Recording stopped before completing the experiment epoch']\n",
      "WARNING:root:sweep 30: ['Recording stopped before completing the experiment epoch']\n"
     ]
    },
    {
     "name": "stdout",
     "output_type": "stream",
     "text": [
      " 217 Specimen ID: 718135969 | VISp6a | Sst-MET-12 | Sweep ID: 9 | Init. freq.: 79.24 Hz\n"
     ]
    },
    {
     "name": "stderr",
     "output_type": "stream",
     "text": [
      "WARNING:root:sweep 29: ['Recording stopped before completing the experiment epoch']\n",
      "WARNING:root:sweep 30: ['Recording stopped before completing the experiment epoch']\n",
      "WARNING:root:sweep 31: ['Recording stopped before completing the experiment epoch']\n",
      "WARNING:root:sweep 32: ['Recording stopped before completing the experiment epoch']\n",
      "WARNING:root:sweep 33: ['Recording stopped before completing the experiment epoch']\n"
     ]
    },
    {
     "name": "stdout",
     "output_type": "stream",
     "text": [
      " 218 Specimen ID: 718188717 | VISp6a | Pvalb-MET-2 | Sweep ID: 10 | Init. freq.: 112.87 Hz\n"
     ]
    },
    {
     "name": "stderr",
     "output_type": "stream",
     "text": [
      "WARNING:root:sweep 37: ['Recording stopped before completing the experiment epoch']\n",
      "WARNING:root:sweep 38: ['Recording stopped before completing the experiment epoch']\n",
      "WARNING:root:sweep 39: ['Recording stopped before completing the experiment epoch']\n",
      "WARNING:root:sweep 40: ['Recording stopped before completing the experiment epoch']\n",
      "WARNING:root:sweep 41: ['Recording stopped before completing the experiment epoch']\n",
      "WARNING:root:sweep 42: ['Recording stopped before completing the experiment epoch']\n"
     ]
    },
    {
     "name": "stdout",
     "output_type": "stream",
     "text": [
      " 219 Specimen ID: 718195284 | VISp5 | Sst-MET-13 | Sweep ID: 14 | Init. freq.: 64.52 Hz\n"
     ]
    },
    {
     "name": "stderr",
     "output_type": "stream",
     "text": [
      "WARNING:root:sweep 27: ['Recording stopped before completing the experiment epoch']\n",
      "WARNING:root:sweep 28: ['Recording stopped before completing the experiment epoch']\n",
      "WARNING:root:sweep 29: ['Recording stopped before completing the experiment epoch']\n",
      "WARNING:root:sweep 30: ['Recording stopped before completing the experiment epoch']\n",
      "WARNING:root:sweep 31: ['Recording stopped before completing the experiment epoch']\n"
     ]
    },
    {
     "name": "stdout",
     "output_type": "stream",
     "text": [
      " 220 Specimen ID: 718202813 | VISp6a | Sst-MET-12 | Sweep ID: 9 | Init. freq.: 90.42 Hz\n"
     ]
    },
    {
     "name": "stderr",
     "output_type": "stream",
     "text": [
      "WARNING:root:sweep 31: ['Recording stopped before completing the experiment epoch']\n",
      "WARNING:root:sweep 32: ['Recording stopped before completing the experiment epoch']\n",
      "WARNING:root:sweep 33: ['Recording stopped before completing the experiment epoch']\n",
      "WARNING:root:sweep 34: ['Recording stopped before completing the experiment epoch']\n",
      "WARNING:root:sweep 35: ['Recording stopped before completing the experiment epoch']\n"
     ]
    },
    {
     "name": "stdout",
     "output_type": "stream",
     "text": [
      " 221 Specimen ID: 718205473 | VISp6a | Sst-MET-12 | Sweep ID: 7 | Init. freq.: 84.03 Hz\n"
     ]
    },
    {
     "name": "stderr",
     "output_type": "stream",
     "text": [
      "WARNING:root:sweep 39: ['Recording stopped before completing the experiment epoch']\n",
      "WARNING:root:sweep 40: ['Recording stopped before completing the experiment epoch']\n",
      "WARNING:root:sweep 41: ['Recording stopped before completing the experiment epoch']\n",
      "WARNING:root:sweep 42: ['Recording stopped before completing the experiment epoch']\n",
      "WARNING:root:sweep 43: ['Recording stopped before completing the experiment epoch']\n"
     ]
    },
    {
     "name": "stdout",
     "output_type": "stream",
     "text": [
      " 222 Specimen ID: 718237581 | VISp6a | Pvalb-MET-2 | Sweep ID: 16 | Init. freq.: 98.43 Hz\n",
      " 223 Specimen ID: 718257664 | VISp2/3 | Pvalb-MET-4 | Sweep ID: 13 | Init. freq.: 113.90 Hz\n"
     ]
    },
    {
     "name": "stderr",
     "output_type": "stream",
     "text": [
      "WARNING:root:sweep 15: ['stim epoch is missing', 'experiment epoch is missing']\n"
     ]
    },
    {
     "name": "stdout",
     "output_type": "stream",
     "text": [
      " 224 Specimen ID: 718494231 | VISp5 | Sst-MET-12 | Sweep ID: 7 | Init. freq.: 52.63 Hz\n"
     ]
    },
    {
     "name": "stderr",
     "output_type": "stream",
     "text": [
      "WARNING:root:sweep 30: ['Recording stopped before completing the experiment epoch']\n",
      "WARNING:root:sweep 31: ['Recording stopped before completing the experiment epoch']\n",
      "WARNING:root:sweep 32: ['Recording stopped before completing the experiment epoch']\n",
      "WARNING:root:sweep 33: ['Recording stopped before completing the experiment epoch']\n",
      "WARNING:root:sweep 34: ['Recording stopped before completing the experiment epoch']\n"
     ]
    },
    {
     "name": "stdout",
     "output_type": "stream",
     "text": [
      " 225 Specimen ID: 718618263 | VISp4 | Sst-MET-3 | Sweep ID: 10 | Init. freq.: 115.47 Hz\n"
     ]
    },
    {
     "name": "stderr",
     "output_type": "stream",
     "text": [
      "WARNING:root:sweep 25: ['Recording stopped before completing the experiment epoch']\n",
      "WARNING:root:sweep 26: ['Recording stopped before completing the experiment epoch']\n",
      "WARNING:root:sweep 27: ['Recording stopped before completing the experiment epoch']\n",
      "WARNING:root:sweep 28: ['Recording stopped before completing the experiment epoch']\n",
      "WARNING:root:sweep 29: ['Recording stopped before completing the experiment epoch']\n",
      "WARNING:root:sweep 33: ['Recording stopped before completing the experiment epoch']\n",
      "WARNING:root:sweep 37: ['Recording stopped before completing the experiment epoch']\n"
     ]
    },
    {
     "name": "stdout",
     "output_type": "stream",
     "text": [
      " 226 Specimen ID: 718636190 | VISp6a | Sst-MET-10 | Sweep ID: 10 | Init. freq.: 122.85 Hz\n"
     ]
    },
    {
     "name": "stderr",
     "output_type": "stream",
     "text": [
      "WARNING:root:sweep 25: ['stim epoch is missing', 'experiment epoch is missing']\n",
      "WARNING:root:sweep 28: ['Recording stopped before completing the experiment epoch']\n",
      "WARNING:root:sweep 29: ['Recording stopped before completing the experiment epoch']\n",
      "WARNING:root:sweep 30: ['Recording stopped before completing the experiment epoch']\n",
      "WARNING:root:sweep 31: ['Recording stopped before completing the experiment epoch']\n",
      "WARNING:root:sweep 32: ['Recording stopped before completing the experiment epoch']\n"
     ]
    },
    {
     "name": "stdout",
     "output_type": "stream",
     "text": [
      " 227 Specimen ID: 718640845 | VISp5 | Sst-MET-9 | Sweep ID: 9 | Init. freq.: 70.42 Hz\n"
     ]
    },
    {
     "name": "stderr",
     "output_type": "stream",
     "text": [
      "WARNING:root:sweep 33: ['Recording stopped before completing the experiment epoch']\n",
      "WARNING:root:sweep 34: ['Recording stopped before completing the experiment epoch']\n",
      "WARNING:root:sweep 35: ['Recording stopped before completing the experiment epoch']\n",
      "WARNING:root:sweep 36: ['Recording stopped before completing the experiment epoch']\n",
      "WARNING:root:sweep 37: ['Recording stopped before completing the experiment epoch']\n"
     ]
    },
    {
     "name": "stdout",
     "output_type": "stream",
     "text": [
      " 228 Specimen ID: 718643723 | VISp6a | Sst-MET-12 | Sweep ID: 10 | Init. freq.: 88.50 Hz\n"
     ]
    },
    {
     "name": "stderr",
     "output_type": "stream",
     "text": [
      "WARNING:root:sweep 25: ['Recording stopped before completing the experiment epoch']\n",
      "WARNING:root:sweep 26: ['Recording stopped before completing the experiment epoch']\n",
      "WARNING:root:sweep 27: ['Recording stopped before completing the experiment epoch']\n",
      "WARNING:root:sweep 28: ['Recording stopped before completing the experiment epoch']\n",
      "WARNING:root:sweep 29: ['Recording stopped before completing the experiment epoch']\n"
     ]
    },
    {
     "name": "stdout",
     "output_type": "stream",
     "text": [
      " 229 Specimen ID: 718647510 | VISp6a | Sst-MET-12 | Sweep ID: 9 | Init. freq.: 107.07 Hz\n"
     ]
    },
    {
     "name": "stderr",
     "output_type": "stream",
     "text": [
      "WARNING:root:sweep 31: ['Recording stopped before completing the experiment epoch']\n",
      "WARNING:root:sweep 32: ['Recording stopped before completing the experiment epoch']\n",
      "WARNING:root:sweep 33: ['Recording stopped before completing the experiment epoch']\n",
      "WARNING:root:sweep 34: ['Recording stopped before completing the experiment epoch']\n",
      "WARNING:root:sweep 35: ['Recording stopped before completing the experiment epoch']\n",
      "WARNING:root:sweep 43: ['stim epoch is missing', 'experiment epoch is missing']\n"
     ]
    },
    {
     "name": "stdout",
     "output_type": "stream",
     "text": [
      " 230 Specimen ID: 718656998 | VISp5 | Pvalb-MET-2 | Sweep ID: 12 | Init. freq.: 101.42 Hz\n",
      " 231 Specimen ID: 718872930 | VISp5 | Pvalb-MET-4 | Sweep ID: 6 | Init. freq.: 69.74 Hz\n"
     ]
    },
    {
     "name": "stderr",
     "output_type": "stream",
     "text": [
      "WARNING:root:sweep 27: ['Recording stopped before completing the experiment epoch']\n",
      "WARNING:root:sweep 28: ['Recording stopped before completing the experiment epoch']\n",
      "WARNING:root:sweep 29: ['Recording stopped before completing the experiment epoch']\n",
      "WARNING:root:sweep 30: ['Recording stopped before completing the experiment epoch']\n",
      "WARNING:root:sweep 31: ['Recording stopped before completing the experiment epoch']\n",
      "WARNING:root:sweep 35: ['Recording stopped before completing the experiment epoch']\n",
      "WARNING:root:sweep 36: ['Recording stopped before completing the experiment epoch']\n"
     ]
    },
    {
     "name": "stdout",
     "output_type": "stream",
     "text": [
      " 232 Specimen ID: 720186469 | VISp5 | Sst-MET-13 | Sweep ID: 8 | Init. freq.: 70.52 Hz\n"
     ]
    },
    {
     "name": "stderr",
     "output_type": "stream",
     "text": [
      "WARNING:root:sweep 30: ['Recording stopped before completing the experiment epoch']\n",
      "WARNING:root:sweep 31: ['Recording stopped before completing the experiment epoch']\n",
      "WARNING:root:sweep 32: ['Recording stopped before completing the experiment epoch']\n",
      "WARNING:root:sweep 33: ['Recording stopped before completing the experiment epoch']\n",
      "WARNING:root:sweep 34: ['Recording stopped before completing the experiment epoch']\n"
     ]
    },
    {
     "name": "stdout",
     "output_type": "stream",
     "text": [
      " 233 Specimen ID: 720207494 | VISp6a | Sst-MET-12 | Sweep ID: 9 | Init. freq.: 104.82 Hz\n"
     ]
    },
    {
     "name": "stderr",
     "output_type": "stream",
     "text": [
      "WARNING:root:sweep 26: ['Recording stopped before completing the experiment epoch']\n",
      "WARNING:root:sweep 27: ['Recording stopped before completing the experiment epoch']\n",
      "WARNING:root:sweep 28: ['Recording stopped before completing the experiment epoch']\n",
      "WARNING:root:sweep 29: ['Recording stopped before completing the experiment epoch']\n",
      "WARNING:root:sweep 30: ['Recording stopped before completing the experiment epoch']\n",
      "WARNING:root:sweep 34: ['Recording stopped before completing the experiment epoch']\n"
     ]
    },
    {
     "name": "stdout",
     "output_type": "stream",
     "text": [
      " 234 Specimen ID: 720318238 | VISpm5 | Sst-MET-7 | Sweep ID: 9 | Init. freq.: 89.13 Hz\n"
     ]
    },
    {
     "name": "stderr",
     "output_type": "stream",
     "text": [
      "WARNING:root:sweep 23: ['Recording stopped before completing the experiment epoch']\n",
      "WARNING:root:sweep 24: ['Recording stopped before completing the experiment epoch']\n",
      "WARNING:root:sweep 25: ['Recording stopped before completing the experiment epoch']\n",
      "WARNING:root:sweep 26: ['Recording stopped before completing the experiment epoch']\n",
      "WARNING:root:sweep 27: ['Recording stopped before completing the experiment epoch']\n"
     ]
    },
    {
     "name": "stdout",
     "output_type": "stream",
     "text": [
      " 235 Specimen ID: 720678722 | VISp6a | Sst-MET-12 | Sweep ID: 8 | Init. freq.: 126.58 Hz\n"
     ]
    },
    {
     "name": "stderr",
     "output_type": "stream",
     "text": [
      "WARNING:root:sweep 24: ['Recording stopped before completing the experiment epoch']\n",
      "WARNING:root:sweep 25: ['Recording stopped before completing the experiment epoch']\n",
      "WARNING:root:sweep 26: ['Recording stopped before completing the experiment epoch']\n",
      "WARNING:root:sweep 27: ['Recording stopped before completing the experiment epoch']\n",
      "WARNING:root:sweep 28: ['Recording stopped before completing the experiment epoch']\n"
     ]
    },
    {
     "name": "stdout",
     "output_type": "stream",
     "text": [
      " 236 Specimen ID: 722795299 | VISp6a | Sst-MET-12 | Sweep ID: 8 | Init. freq.: 97.85 Hz\n"
     ]
    },
    {
     "name": "stderr",
     "output_type": "stream",
     "text": [
      "WARNING:root:sweep 29: ['Recording stopped before completing the experiment epoch']\n",
      "WARNING:root:sweep 30: ['Recording stopped before completing the experiment epoch']\n",
      "WARNING:root:sweep 31: ['Recording stopped before completing the experiment epoch']\n",
      "WARNING:root:sweep 32: ['Recording stopped before completing the experiment epoch']\n",
      "WARNING:root:sweep 33: ['Recording stopped before completing the experiment epoch']\n"
     ]
    },
    {
     "name": "stdout",
     "output_type": "stream",
     "text": [
      " 237 Specimen ID: 722821387 | VISpm2/3 | Sst-MET-3 | Sweep ID: 9 | Init. freq.: 125.00 Hz\n",
      " 238 Specimen ID: 728756295 | VISp5 | Sst-MET-4 | Sweep ID: 7 | Init. freq.: 44.76 Hz\n"
     ]
    },
    {
     "name": "stderr",
     "output_type": "stream",
     "text": [
      "WARNING:root:sweep 11: ['stim epoch is missing', 'experiment epoch is missing']\n",
      "WARNING:root:sweep 15: ['stim epoch is missing', 'experiment epoch is missing']\n",
      "WARNING:root:sweep 18: ['stim epoch is missing', 'experiment epoch is missing']\n",
      "WARNING:root:sweep 55: ['Recording stopped before completing the experiment epoch']\n"
     ]
    },
    {
     "name": "stdout",
     "output_type": "stream",
     "text": [
      " 239 Specimen ID: 729135271 | VISpm5 | Sst-MET-13 | Sweep ID: 8 | Init. freq.: 19.16 Hz\n"
     ]
    },
    {
     "name": "stderr",
     "output_type": "stream",
     "text": [
      "WARNING:root:sweep 25: ['Recording stopped before completing the experiment epoch']\n",
      "WARNING:root:sweep 26: ['Recording stopped before completing the experiment epoch']\n",
      "WARNING:root:sweep 27: ['Recording stopped before completing the experiment epoch']\n",
      "WARNING:root:sweep 28: ['Recording stopped before completing the experiment epoch']\n",
      "WARNING:root:sweep 29: ['Recording stopped before completing the experiment epoch']\n"
     ]
    },
    {
     "name": "stdout",
     "output_type": "stream",
     "text": [
      " 240 Specimen ID: 730744363 | VISp6a | Pvalb-MET-4 | Sweep ID: 8 | Init. freq.: 98.62 Hz\n"
     ]
    },
    {
     "name": "stderr",
     "output_type": "stream",
     "text": [
      "WARNING:root:sweep 25: ['Recording stopped before completing the experiment epoch']\n",
      "WARNING:root:sweep 26: ['Recording stopped before completing the experiment epoch']\n",
      "WARNING:root:sweep 27: ['Recording stopped before completing the experiment epoch']\n",
      "WARNING:root:sweep 28: ['Recording stopped before completing the experiment epoch']\n",
      "WARNING:root:sweep 29: ['Recording stopped before completing the experiment epoch']\n"
     ]
    },
    {
     "name": "stdout",
     "output_type": "stream",
     "text": [
      " 241 Specimen ID: 730796336 | VISp2/3 | Vip-MET-2 | Sweep ID: 8 | Init. freq.: 76.57 Hz\n"
     ]
    },
    {
     "name": "stderr",
     "output_type": "stream",
     "text": [
      "WARNING:root:sweep 26: ['Recording stopped before completing the experiment epoch']\n",
      "WARNING:root:sweep 27: ['Recording stopped before completing the experiment epoch']\n",
      "WARNING:root:sweep 28: ['Recording stopped before completing the experiment epoch']\n",
      "WARNING:root:sweep 29: ['Recording stopped before completing the experiment epoch']\n",
      "WARNING:root:sweep 30: ['Recording stopped before completing the experiment epoch']\n"
     ]
    },
    {
     "name": "stdout",
     "output_type": "stream",
     "text": [
      " 242 Specimen ID: 731651186 | VISp5 | Sst-MET-13 | Sweep ID: 9 | Init. freq.: 72.25 Hz\n",
      " 243 Specimen ID: 731683221 | VISp5 | Sst-MET-5 | Sweep ID: 6 | Init. freq.: 126.90 Hz\n"
     ]
    },
    {
     "name": "stderr",
     "output_type": "stream",
     "text": [
      "WARNING:root:sweep 28: ['Recording stopped before completing the experiment epoch']\n",
      "WARNING:root:sweep 29: ['Recording stopped before completing the experiment epoch']\n",
      "WARNING:root:sweep 30: ['Recording stopped before completing the experiment epoch']\n",
      "WARNING:root:sweep 31: ['Recording stopped before completing the experiment epoch']\n",
      "WARNING:root:sweep 32: ['Recording stopped before completing the experiment epoch']\n"
     ]
    },
    {
     "name": "stdout",
     "output_type": "stream",
     "text": [
      " 244 Specimen ID: 731733715 | VISpm5 | Sst-MET-6 | Sweep ID: 6 | Init. freq.: 148.37 Hz\n"
     ]
    },
    {
     "name": "stderr",
     "output_type": "stream",
     "text": [
      "WARNING:root:sweep 28: ['Recording stopped before completing the experiment epoch']\n",
      "WARNING:root:sweep 29: ['Recording stopped before completing the experiment epoch']\n",
      "WARNING:root:sweep 30: ['Recording stopped before completing the experiment epoch']\n",
      "WARNING:root:sweep 31: ['Recording stopped before completing the experiment epoch']\n",
      "WARNING:root:sweep 32: ['Recording stopped before completing the experiment epoch']\n"
     ]
    },
    {
     "name": "stdout",
     "output_type": "stream",
     "text": [
      " 245 Specimen ID: 731765828 | VISp5 | Sst-MET-9 | Sweep ID: 11 | Init. freq.: 87.57 Hz\n"
     ]
    },
    {
     "name": "stderr",
     "output_type": "stream",
     "text": [
      "WARNING:root:sweep 27: ['Recording stopped before completing the experiment epoch']\n",
      "WARNING:root:sweep 28: ['Recording stopped before completing the experiment epoch']\n",
      "WARNING:root:sweep 29: ['Recording stopped before completing the experiment epoch']\n",
      "WARNING:root:sweep 30: ['Recording stopped before completing the experiment epoch']\n",
      "WARNING:root:sweep 31: ['Recording stopped before completing the experiment epoch']\n"
     ]
    },
    {
     "name": "stdout",
     "output_type": "stream",
     "text": [
      " 246 Specimen ID: 731882356 | VISpm1 | Lamp5-MET-1 | Sweep ID: 9 | Init. freq.: 97.85 Hz\n"
     ]
    },
    {
     "name": "stderr",
     "output_type": "stream",
     "text": [
      "WARNING:root:sweep 24: ['Recording stopped before completing the experiment epoch']\n",
      "WARNING:root:sweep 25: ['Recording stopped before completing the experiment epoch']\n",
      "WARNING:root:sweep 26: ['Recording stopped before completing the experiment epoch']\n",
      "WARNING:root:sweep 27: ['Recording stopped before completing the experiment epoch']\n",
      "WARNING:root:sweep 28: ['Recording stopped before completing the experiment epoch']\n"
     ]
    },
    {
     "name": "stdout",
     "output_type": "stream",
     "text": [
      " 247 Specimen ID: 731917470 | VISpm2/3 | Lamp5-MET-1 | Sweep ID: 9 | Init. freq.: 117.37 Hz\n"
     ]
    },
    {
     "name": "stderr",
     "output_type": "stream",
     "text": [
      "WARNING:root:sweep 11: ['stim epoch is missing', 'experiment epoch is missing']\n",
      "WARNING:root:sweep 26: ['Recording stopped before completing the experiment epoch']\n",
      "WARNING:root:sweep 28: ['Recording stopped before completing the experiment epoch']\n"
     ]
    },
    {
     "name": "stdout",
     "output_type": "stream",
     "text": [
      " 248 Specimen ID: 736884821 | VISp2/3 | Vip-MET-5 | Sweep ID: 4 | Init. freq.: 76.22 Hz\n"
     ]
    },
    {
     "name": "stderr",
     "output_type": "stream",
     "text": [
      "WARNING:root:sweep 4: ['stim epoch is missing', 'experiment epoch is missing']\n",
      "WARNING:root:sweep 12: ['stim epoch is missing', 'experiment epoch is missing']\n"
     ]
    },
    {
     "name": "stdout",
     "output_type": "stream",
     "text": [
      " 249 Specimen ID: 738041476 | VISp2/3 | Vip-MET-1 | Sweep ID: 7 | Init. freq.: 78.00 Hz\n",
      " 250 Specimen ID: 738043822 | VISp2/3 | Vip-MET-5 | Sweep ID: 4 | Init. freq.: 138.50 Hz\n"
     ]
    },
    {
     "name": "stderr",
     "output_type": "stream",
     "text": [
      "WARNING:root:sweep 10: ['stim epoch is missing', 'experiment epoch is missing']\n"
     ]
    },
    {
     "name": "stdout",
     "output_type": "stream",
     "text": [
      " 251 Specimen ID: 738401019 | VISp2/3 | Vip-MET-5 | Sweep ID: 6 | Init. freq.: 163.40 Hz\n"
     ]
    },
    {
     "name": "stderr",
     "output_type": "stream",
     "text": [
      "WARNING:root:sweep 4: ['stim epoch is missing', 'experiment epoch is missing']\n",
      "WARNING:root:sweep 15: ['stim epoch is missing', 'experiment epoch is missing']\n",
      "WARNING:root:sweep 43: ['stim epoch is missing', 'experiment epoch is missing']\n",
      "WARNING:root:sweep 47: ['stim epoch is missing', 'experiment epoch is missing']\n",
      "WARNING:root:sweep 67: ['Recording stopped before completing the experiment epoch']\n"
     ]
    },
    {
     "name": "stdout",
     "output_type": "stream",
     "text": [
      " 252 Specimen ID: 738859085 | VISp2/3 | Vip-MET-5 | Sweep ID: 3 | Init. freq.: 97.85 Hz\n"
     ]
    },
    {
     "name": "stderr",
     "output_type": "stream",
     "text": [
      "WARNING:root:sweep 14: ['stim epoch is missing', 'experiment epoch is missing']\n"
     ]
    },
    {
     "name": "stdout",
     "output_type": "stream",
     "text": [
      " 253 Specimen ID: 739539292 | VISp5 | Sst-MET-4 | Sweep ID: 7 | Init. freq.: 68.49 Hz\n"
     ]
    },
    {
     "name": "stderr",
     "output_type": "stream",
     "text": [
      "WARNING:root:sweep 10: ['stim epoch is missing', 'experiment epoch is missing']\n"
     ]
    },
    {
     "name": "stdout",
     "output_type": "stream",
     "text": [
      " 254 Specimen ID: 739547189 | VISp2/3 | Vip-MET-1 | Sweep ID: 10 | Init. freq.: 77.16 Hz\n"
     ]
    },
    {
     "name": "stderr",
     "output_type": "stream",
     "text": [
      "WARNING:root:sweep 4: ['stim epoch is missing', 'experiment epoch is missing']\n",
      "WARNING:root:sweep 5: ['stim epoch is missing', 'experiment epoch is missing']\n",
      "WARNING:root:sweep 8: ['stim epoch is missing', 'experiment epoch is missing']\n"
     ]
    },
    {
     "name": "stdout",
     "output_type": "stream",
     "text": [
      " 255 Specimen ID: 739558698 | VISp5 | Sst-MET-4 | Sweep ID: 8 | Init. freq.: 44.09 Hz\n"
     ]
    },
    {
     "name": "stderr",
     "output_type": "stream",
     "text": [
      "WARNING:root:sweep 14: ['stim epoch is missing', 'experiment epoch is missing']\n",
      "WARNING:root:sweep 28: ['Recording stopped before completing the experiment epoch']\n"
     ]
    },
    {
     "name": "stdout",
     "output_type": "stream",
     "text": [
      " 256 Specimen ID: 739570508 | VISp2/3 | Vip-MET-4 | Sweep ID: 7 | Init. freq.: 63.94 Hz\n"
     ]
    },
    {
     "name": "stderr",
     "output_type": "stream",
     "text": [
      "WARNING:root:sweep 6: ['stim epoch is missing', 'experiment epoch is missing']\n",
      "WARNING:root:sweep 8: ['stim epoch is missing', 'experiment epoch is missing']\n",
      "WARNING:root:sweep 33: ['Recording stopped before completing the experiment epoch']\n"
     ]
    },
    {
     "name": "stdout",
     "output_type": "stream",
     "text": [
      " 257 Specimen ID: 739792780 | VISp5 | Sst-MET-12 | Sweep ID: 9 | Init. freq.: 91.24 Hz\n"
     ]
    },
    {
     "name": "stderr",
     "output_type": "stream",
     "text": [
      "WARNING:root:sweep 18: ['stim epoch is missing', 'experiment epoch is missing']\n",
      "WARNING:root:sweep 20: ['stim epoch is missing', 'experiment epoch is missing']\n",
      "WARNING:root:sweep 21: ['stim epoch is missing', 'experiment epoch is missing']\n",
      "WARNING:root:sweep 38: ['stim epoch is missing', 'experiment epoch is missing']\n",
      "WARNING:root:sweep 42: ['stim epoch is missing', 'experiment epoch is missing']\n",
      "WARNING:root:sweep 61: ['Recording stopped before completing the experiment epoch']\n",
      "WARNING:root:sweep 77: ['stim epoch is missing', 'experiment epoch is missing']\n",
      "WARNING:root:sweep 78: ['stim epoch is missing', 'experiment epoch is missing']\n"
     ]
    },
    {
     "name": "stdout",
     "output_type": "stream",
     "text": [
      " 258 Specimen ID: 739810705 | VISp5 | Lamp5-MET-1 | Sweep ID: 13 | Init. freq.: 24.19 Hz\n"
     ]
    },
    {
     "name": "stderr",
     "output_type": "stream",
     "text": [
      "WARNING:root:sweep 15: ['stim epoch is missing', 'experiment epoch is missing']\n"
     ]
    },
    {
     "name": "stdout",
     "output_type": "stream",
     "text": [
      " 259 Specimen ID: 740094065 | VISp6a | Sst-MET-12 | Sweep ID: 7 | Init. freq.: 60.61 Hz\n"
     ]
    },
    {
     "name": "stderr",
     "output_type": "stream",
     "text": [
      "WARNING:root:sweep 30: ['Recording stopped before completing the experiment epoch']\n",
      "WARNING:root:sweep 34: ['Recording stopped before completing the experiment epoch']\n"
     ]
    },
    {
     "name": "stdout",
     "output_type": "stream",
     "text": [
      " 260 Specimen ID: 740110275 | VISp6a | Sst-MET-13 | Sweep ID: 7 | Init. freq.: 51.81 Hz\n",
      " 261 Specimen ID: 740134630 | VISp5 | Sst-MET-5 | Sweep ID: 3 | Init. freq.: 131.58 Hz\n"
     ]
    },
    {
     "name": "stderr",
     "output_type": "stream",
     "text": [
      "WARNING:root:sweep 6: ['stim epoch is missing', 'experiment epoch is missing']\n",
      "WARNING:root:sweep 11: ['stim epoch is missing', 'experiment epoch is missing']\n"
     ]
    },
    {
     "name": "stdout",
     "output_type": "stream",
     "text": [
      " 262 Specimen ID: 740135032 | VISpm5 | Sst-MET-4 | Sweep ID: 8 | Init. freq.: 56.43 Hz\n"
     ]
    },
    {
     "name": "stderr",
     "output_type": "stream",
     "text": [
      "WARNING:root:sweep 4: ['stim epoch is missing', 'experiment epoch is missing']\n",
      "WARNING:root:sweep 5: ['stim epoch is missing', 'experiment epoch is missing']\n",
      "WARNING:root:sweep 6: ['stim epoch is missing', 'experiment epoch is missing']\n",
      "WARNING:root:sweep 7: ['stim epoch is missing', 'experiment epoch is missing']\n",
      "WARNING:root:sweep 8: ['stim epoch is missing', 'experiment epoch is missing']\n",
      "WARNING:root:sweep 9: ['stim epoch is missing', 'experiment epoch is missing']\n",
      "WARNING:root:sweep 12: ['stim epoch is missing', 'experiment epoch is missing']\n",
      "WARNING:root:sweep 13: ['stim epoch is missing', 'experiment epoch is missing']\n",
      "WARNING:root:sweep 14: ['stim epoch is missing', 'experiment epoch is missing']\n",
      "WARNING:root:sweep 16: ['stim epoch is missing', 'experiment epoch is missing']\n",
      "WARNING:root:sweep 17: ['stim epoch is missing', 'experiment epoch is missing']\n",
      "WARNING:root:sweep 27: ['stim epoch is missing', 'experiment epoch is missing']\n",
      "WARNING:root:sweep 30: ['stim epoch is missing', 'experiment epoch is missing']\n",
      "WARNING:root:sweep 31: ['stim epoch is missing', 'experiment epoch is missing']\n",
      "WARNING:root:sweep 32: ['stim epoch is missing', 'experiment epoch is missing']\n",
      "WARNING:root:sweep 33: ['stim epoch is missing', 'experiment epoch is missing']\n",
      "WARNING:root:sweep 42: ['Recording stopped before completing the experiment epoch']\n",
      "WARNING:root:sweep 43: ['Recording stopped before completing the experiment epoch']\n",
      "WARNING:root:sweep 44: ['Recording stopped before completing the experiment epoch']\n",
      "WARNING:root:sweep 46: ['Recording stopped before completing the experiment epoch']\n",
      "WARNING:root:sweep 47: ['Recording stopped before completing the experiment epoch']\n",
      "WARNING:root:sweep 48: ['Recording stopped before completing the experiment epoch']\n",
      "WARNING:root:sweep 50: ['Recording stopped before completing the experiment epoch']\n",
      "WARNING:root:sweep 51: ['Recording stopped before completing the experiment epoch']\n",
      "WARNING:root:sweep 62: ['Recording stopped before completing the experiment epoch']\n",
      "WARNING:root:sweep 63: ['Recording stopped before completing the experiment epoch']\n",
      "WARNING:root:sweep 64: ['Recording stopped before completing the experiment epoch']\n",
      "WARNING:root:sweep 67: ['Recording stopped before completing the experiment epoch']\n",
      "WARNING:root:sweep 68: ['Recording stopped before completing the experiment epoch']\n",
      "WARNING:root:sweep 69: ['Recording stopped before completing the experiment epoch']\n",
      "WARNING:root:sweep 74: ['Recording stopped before completing the experiment epoch']\n",
      "WARNING:root:sweep 75: ['Recording stopped before completing the experiment epoch']\n",
      "WARNING:root:sweep 76: ['Recording stopped before completing the experiment epoch']\n",
      "WARNING:root:sweep 77: ['Recording stopped before completing the experiment epoch']\n",
      "WARNING:root:sweep 78: ['Recording stopped before completing the experiment epoch']\n",
      "WARNING:root:sweep 80: ['Recording stopped before completing the experiment epoch']\n",
      "WARNING:root:sweep 81: ['Recording stopped before completing the experiment epoch']\n",
      "WARNING:root:sweep 82: ['Recording stopped before completing the experiment epoch']\n",
      "WARNING:root:sweep 83: ['Recording stopped before completing the experiment epoch']\n",
      "WARNING:root:sweep 84: ['Recording stopped before completing the experiment epoch']\n",
      "WARNING:root:sweep 85: ['Recording stopped before completing the experiment epoch']\n",
      "WARNING:root:sweep 86: ['Recording stopped before completing the experiment epoch']\n",
      "WARNING:root:sweep 87: ['Recording stopped before completing the experiment epoch']\n",
      "WARNING:root:sweep 88: ['Recording stopped before completing the experiment epoch']\n",
      "WARNING:root:sweep 89: ['Recording stopped before completing the experiment epoch']\n",
      "WARNING:root:sweep 93: ['Recording stopped before completing the experiment epoch']\n",
      "WARNING:root:sweep 94: ['Recording stopped before completing the experiment epoch']\n",
      "WARNING:root:sweep 95: ['Recording stopped before completing the experiment epoch']\n",
      "WARNING:root:sweep 96: ['Recording stopped before completing the experiment epoch']\n",
      "WARNING:root:sweep 97: ['Recording stopped before completing the experiment epoch']\n",
      "WARNING:root:sweep 98: ['Recording stopped before completing the experiment epoch']\n",
      "WARNING:root:sweep 105: ['Recording stopped before completing the experiment epoch']\n",
      "WARNING:root:sweep 107: ['Recording stopped before completing the experiment epoch']\n",
      "WARNING:root:sweep 108: ['Recording stopped before completing the experiment epoch']\n",
      "WARNING:root:sweep 110: ['Recording stopped before completing the experiment epoch']\n",
      "WARNING:root:sweep 111: ['Recording stopped before completing the experiment epoch']\n",
      "WARNING:root:sweep 113: ['Recording stopped before completing the experiment epoch']\n",
      "WARNING:root:sweep 131: ['Recording stopped before completing the experiment epoch']\n",
      "WARNING:root:sweep 132: ['Recording stopped before completing the experiment epoch']\n",
      "WARNING:root:sweep 134: ['Recording stopped before completing the experiment epoch']\n",
      "WARNING:root:sweep 135: ['Recording stopped before completing the experiment epoch']\n",
      "WARNING:root:sweep 136: ['Recording stopped before completing the experiment epoch']\n",
      "WARNING:root:sweep 137: ['Recording stopped before completing the experiment epoch']\n",
      "WARNING:root:sweep 139: ['Recording stopped before completing the experiment epoch']\n",
      "WARNING:root:sweep 143: ['Recording stopped before completing the experiment epoch']\n",
      "WARNING:root:sweep 144: ['Recording stopped before completing the experiment epoch']\n",
      "WARNING:root:sweep 145: ['Recording stopped before completing the experiment epoch']\n",
      "WARNING:root:sweep 146: ['Recording stopped before completing the experiment epoch']\n",
      "WARNING:root:sweep 147: ['Recording stopped before completing the experiment epoch']\n",
      "WARNING:root:sweep 149: ['Recording stopped before completing the experiment epoch']\n",
      "WARNING:root:sweep 150: ['Recording stopped before completing the experiment epoch']\n",
      "WARNING:root:sweep 152: ['Recording stopped before completing the experiment epoch']\n"
     ]
    },
    {
     "name": "stdout",
     "output_type": "stream",
     "text": [
      " 263 Specimen ID: 740155221 | VISp4 | Sst-MET-4 | Sweep ID: 8 | Init. freq.: 57.41 Hz\n"
     ]
    },
    {
     "name": "stderr",
     "output_type": "stream",
     "text": [
      "WARNING:root:sweep 18: ['stim epoch is missing', 'experiment epoch is missing']\n",
      "WARNING:root:sweep 39: ['Recording stopped before completing the experiment epoch']\n"
     ]
    },
    {
     "name": "stdout",
     "output_type": "stream",
     "text": [
      " 264 Specimen ID: 740164794 | VISp4 | Pvalb-MET-4 | Sweep ID: 8 | Init. freq.: 66.58 Hz\n"
     ]
    },
    {
     "name": "stderr",
     "output_type": "stream",
     "text": [
      "WARNING:root:sweep 6: ['stim epoch is missing', 'experiment epoch is missing']\n",
      "WARNING:root:sweep 7: ['stim epoch is missing', 'experiment epoch is missing']\n",
      "WARNING:root:sweep 18: ['stim epoch is missing', 'experiment epoch is missing']\n",
      "WARNING:root:sweep 20: ['stim epoch is missing', 'experiment epoch is missing']\n",
      "WARNING:root:sweep 35: ['Recording stopped before completing the experiment epoch']\n"
     ]
    },
    {
     "name": "stdout",
     "output_type": "stream",
     "text": [
      " 265 Specimen ID: 740380531 | VISp2/3 | Sst-MET-3 | Sweep ID: 9 | Init. freq.: 32.85 Hz\n"
     ]
    },
    {
     "name": "stderr",
     "output_type": "stream",
     "text": [
      "WARNING:root:sweep 11: ['stim epoch is missing', 'experiment epoch is missing']\n",
      "WARNING:root:sweep 12: ['stim epoch is missing', 'experiment epoch is missing']\n",
      "WARNING:root:sweep 14: ['stim epoch is missing', 'experiment epoch is missing']\n",
      "WARNING:root:sweep 29: ['Recording stopped before completing the experiment epoch']\n"
     ]
    },
    {
     "name": "stdout",
     "output_type": "stream",
     "text": [
      " 266 Specimen ID: 740649731 | VISp5 | Sst-MET-12 | Sweep ID: 9 | Init. freq.: 50.76 Hz\n"
     ]
    },
    {
     "name": "stderr",
     "output_type": "stream",
     "text": [
      "WARNING:root:sweep 14: ['stim epoch is missing', 'experiment epoch is missing']\n"
     ]
    },
    {
     "name": "stdout",
     "output_type": "stream",
     "text": [
      " 267 Specimen ID: 740660643 | VISp5 | Sst-MET-9 | Sweep ID: 7 | Init. freq.: 34.89 Hz\n"
     ]
    },
    {
     "name": "stderr",
     "output_type": "stream",
     "text": [
      "WARNING:root:sweep 11: ['stim epoch is missing', 'experiment epoch is missing']\n",
      "WARNING:root:sweep 17: ['stim epoch is missing', 'experiment epoch is missing']\n"
     ]
    },
    {
     "name": "stdout",
     "output_type": "stream",
     "text": [
      " 268 Specimen ID: 740675145 | VISp5 | Sst-MET-13 | Sweep ID: 7 | Init. freq.: 37.88 Hz\n"
     ]
    },
    {
     "name": "stderr",
     "output_type": "stream",
     "text": [
      "WARNING:root:sweep 5: ['stim epoch is missing', 'experiment epoch is missing']\n",
      "WARNING:root:sweep 28: ['Recording stopped before completing the experiment epoch']\n"
     ]
    },
    {
     "name": "stdout",
     "output_type": "stream",
     "text": [
      " 269 Specimen ID: 740695122 | VISp5 | Sst-MET-6 | Sweep ID: 3 | Init. freq.: 97.28 Hz\n"
     ]
    },
    {
     "name": "stderr",
     "output_type": "stream",
     "text": [
      "WARNING:root:sweep 6: ['stim epoch is missing', 'experiment epoch is missing']\n",
      "WARNING:root:sweep 15: ['stim epoch is missing', 'experiment epoch is missing']\n",
      "WARNING:root:sweep 17: ['stim epoch is missing', 'experiment epoch is missing']\n",
      "WARNING:root:sweep 18: ['stim epoch is missing', 'experiment epoch is missing']\n",
      "WARNING:root:sweep 21: ['stim epoch is missing', 'experiment epoch is missing']\n",
      "WARNING:root:sweep 22: ['stim epoch is missing', 'experiment epoch is missing']\n",
      "WARNING:root:sweep 37: ['Recording stopped before completing the experiment epoch']\n",
      "WARNING:root:sweep 40: ['Recording stopped before completing the experiment epoch']\n"
     ]
    },
    {
     "name": "stdout",
     "output_type": "stream",
     "text": [
      " 270 Specimen ID: 740732467 | VISp5 | Sst-MET-9 | Sweep ID: 8 | Init. freq.: 99.40 Hz\n"
     ]
    },
    {
     "name": "stderr",
     "output_type": "stream",
     "text": [
      "WARNING:root:sweep 26: ['Recording stopped before completing the experiment epoch']\n",
      "WARNING:root:sweep 27: ['Recording stopped before completing the experiment epoch']\n"
     ]
    },
    {
     "name": "stdout",
     "output_type": "stream",
     "text": [
      " 271 Specimen ID: 740780456 | VISp5 | Sst-MET-8 | Sweep ID: 7 | Init. freq.: 41.22 Hz\n"
     ]
    },
    {
     "name": "stderr",
     "output_type": "stream",
     "text": [
      "WARNING:root:sweep 5: ['stim epoch is missing', 'experiment epoch is missing']\n",
      "WARNING:root:sweep 6: ['stim epoch is missing', 'experiment epoch is missing']\n",
      "WARNING:root:sweep 7: ['stim epoch is missing', 'experiment epoch is missing']\n"
     ]
    },
    {
     "name": "stdout",
     "output_type": "stream",
     "text": [
      " 272 Specimen ID: 740819727 | VISl6a | Sst-MET-12 | Sweep ID: 7 | Init. freq.: 45.87 Hz\n"
     ]
    },
    {
     "name": "stderr",
     "output_type": "stream",
     "text": [
      "WARNING:root:sweep 11: ['stim epoch is missing', 'experiment epoch is missing']\n"
     ]
    },
    {
     "name": "stdout",
     "output_type": "stream",
     "text": [
      " 273 Specimen ID: 740872967 | VISp4 | Sst-MET-2 | Sweep ID: 9 | Init. freq.: 59.88 Hz\n"
     ]
    },
    {
     "name": "stderr",
     "output_type": "stream",
     "text": [
      "WARNING:root:sweep 13: ['stim epoch is missing', 'experiment epoch is missing']\n"
     ]
    },
    {
     "name": "stdout",
     "output_type": "stream",
     "text": [
      " 274 Specimen ID: 740875222 | VISp5 | Sst-MET-1 | Sweep ID: 7 | Init. freq.: 41.15 Hz\n"
     ]
    },
    {
     "name": "stderr",
     "output_type": "stream",
     "text": [
      "WARNING:root:sweep 6: ['stim epoch is missing', 'experiment epoch is missing']\n",
      "WARNING:root:sweep 7: ['stim epoch is missing', 'experiment epoch is missing']\n",
      "WARNING:root:sweep 8: ['stim epoch is missing', 'experiment epoch is missing']\n",
      "WARNING:root:sweep 9: ['stim epoch is missing', 'experiment epoch is missing']\n",
      "WARNING:root:sweep 69: ['Recording stopped before completing the experiment epoch']\n"
     ]
    },
    {
     "name": "stdout",
     "output_type": "stream",
     "text": [
      " 275 Specimen ID: 740890186 | VISp2/3 | Pvalb-MET-4 | Sweep ID: 9 | Init. freq.: 74.74 Hz\n",
      " 276 Specimen ID: 741785767 | VISp5 | Sst-MET-12 | Sweep ID: 7 | Init. freq.: 49.02 Hz\n"
     ]
    },
    {
     "name": "stderr",
     "output_type": "stream",
     "text": [
      "WARNING:root:sweep 15: ['stim epoch is missing', 'experiment epoch is missing']\n",
      "WARNING:root:sweep 16: ['stim epoch is missing', 'experiment epoch is missing']\n",
      "WARNING:root:sweep 30: ['Recording stopped before completing the experiment epoch']\n",
      "WARNING:root:sweep 37: ['Recording stopped before completing the experiment epoch']\n"
     ]
    },
    {
     "name": "stdout",
     "output_type": "stream",
     "text": [
      " 277 Specimen ID: 741788179 | VISpm2/3 | Sst-MET-2 | Sweep ID: 6 | Init. freq.: 21.83 Hz\n"
     ]
    },
    {
     "name": "stderr",
     "output_type": "stream",
     "text": [
      "WARNING:root:sweep 4: ['stim epoch is missing', 'experiment epoch is missing']\n",
      "WARNING:root:sweep 17: ['stim epoch is missing', 'experiment epoch is missing']\n",
      "WARNING:root:sweep 18: ['stim epoch is missing', 'experiment epoch is missing']\n",
      "WARNING:root:sweep 19: ['stim epoch is missing', 'experiment epoch is missing']\n",
      "WARNING:root:sweep 20: ['stim epoch is missing', 'experiment epoch is missing']\n",
      "WARNING:root:sweep 36: ['Recording stopped before completing the experiment epoch']\n",
      "WARNING:root:sweep 63: ['Recording stopped before completing the experiment epoch']\n"
     ]
    },
    {
     "name": "stdout",
     "output_type": "stream",
     "text": [
      " 278 Specimen ID: 741796557 | VISp5 | Sst-MET-6 | Sweep ID: 3 | Init. freq.: 97.66 Hz\n",
      " 279 Specimen ID: 741940660 | VISp5 | Sst-MET-12 | Sweep ID: 8 | Init. freq.: 91.74 Hz\n",
      " 280 Specimen ID: 742009621 | VISp6a | Sst-MET-12 | Sweep ID: 7 | Init. freq.: 53.82 Hz\n"
     ]
    },
    {
     "name": "stderr",
     "output_type": "stream",
     "text": [
      "WARNING:root:sweep 13: ['stim epoch is missing', 'experiment epoch is missing']\n"
     ]
    },
    {
     "name": "stdout",
     "output_type": "stream",
     "text": [
      " 281 Specimen ID: 742033571 | VISp2/3 | Vip-MET-5 | Sweep ID: 5 | Init. freq.: 108.70 Hz\n"
     ]
    },
    {
     "name": "stderr",
     "output_type": "stream",
     "text": [
      "WARNING:root:sweep 4: ['stim epoch is missing', 'experiment epoch is missing']\n",
      "WARNING:root:sweep 7: ['stim epoch is missing', 'experiment epoch is missing']\n",
      "WARNING:root:sweep 8: ['stim epoch is missing', 'experiment epoch is missing']\n",
      "WARNING:root:sweep 9: ['stim epoch is missing', 'experiment epoch is missing']\n",
      "WARNING:root:sweep 13: ['stim epoch is missing', 'experiment epoch is missing']\n",
      "WARNING:root:sweep 19: ['stim epoch is missing', 'experiment epoch is missing']\n",
      "WARNING:root:sweep 20: ['stim epoch is missing', 'experiment epoch is missing']\n",
      "WARNING:root:sweep 21: ['stim epoch is missing', 'experiment epoch is missing']\n",
      "WARNING:root:sweep 23: ['stim epoch is missing', 'experiment epoch is missing']\n",
      "WARNING:root:sweep 27: ['stim epoch is missing', 'experiment epoch is missing']\n",
      "WARNING:root:sweep 29: ['stim epoch is missing', 'experiment epoch is missing']\n",
      "WARNING:root:sweep 30: ['stim epoch is missing', 'experiment epoch is missing']\n",
      "WARNING:root:sweep 31: ['stim epoch is missing', 'experiment epoch is missing']\n",
      "WARNING:root:sweep 32: ['stim epoch is missing', 'experiment epoch is missing']\n",
      "WARNING:root:sweep 33: ['stim epoch is missing', 'experiment epoch is missing']\n",
      "WARNING:root:sweep 34: ['stim epoch is missing', 'experiment epoch is missing']\n",
      "WARNING:root:sweep 35: ['stim epoch is missing', 'experiment epoch is missing']\n",
      "WARNING:root:sweep 36: ['stim epoch is missing', 'experiment epoch is missing']\n"
     ]
    },
    {
     "name": "stdout",
     "output_type": "stream",
     "text": [
      " 282 Specimen ID: 742784488 | VISp2/3 | Vip-MET-2 | Sweep ID: 10 | Init. freq.: 43.25 Hz\n"
     ]
    },
    {
     "name": "stderr",
     "output_type": "stream",
     "text": [
      "WARNING:root:sweep 5: ['stim epoch is missing', 'experiment epoch is missing']\n"
     ]
    },
    {
     "name": "stdout",
     "output_type": "stream",
     "text": [
      " 283 Specimen ID: 743001170 | VISp5 | Sncg-MET-1 | Sweep ID: 3 | Init. freq.: 116.82 Hz\n",
      " 284 Specimen ID: 743012953 | VISp6a | Sst-MET-10 | Sweep ID: 7 | Init. freq.: 62.42 Hz\n"
     ]
    },
    {
     "name": "stderr",
     "output_type": "stream",
     "text": [
      "WARNING:root:sweep 10: ['stim epoch is missing', 'experiment epoch is missing']\n",
      "WARNING:root:sweep 25: ['Recording stopped before completing the experiment epoch']\n"
     ]
    },
    {
     "name": "stdout",
     "output_type": "stream",
     "text": [
      " 285 Specimen ID: 743041228 | VISl6a | Sst-MET-13 | Sweep ID: 7 | Init. freq.: 59.81 Hz\n",
      " 286 Specimen ID: 743049614 | VISp6b | Sst-MET-13 | Sweep ID: 7 | Init. freq.: 85.91 Hz\n"
     ]
    },
    {
     "name": "stderr",
     "output_type": "stream",
     "text": [
      "WARNING:root:sweep 4: ['stim epoch is missing', 'experiment epoch is missing']\n"
     ]
    },
    {
     "name": "stdout",
     "output_type": "stream",
     "text": [
      " 287 Specimen ID: 743458377 | VISp1 | Sncg-MET-1 | Sweep ID: 6 | Init. freq.: 90.25 Hz\n"
     ]
    },
    {
     "name": "stderr",
     "output_type": "stream",
     "text": [
      "WARNING:root:sweep 8: ['stim epoch is missing', 'experiment epoch is missing']\n",
      "WARNING:root:sweep 9: ['stim epoch is missing', 'experiment epoch is missing']\n",
      "WARNING:root:sweep 10: ['stim epoch is missing', 'experiment epoch is missing']\n",
      "WARNING:root:sweep 15: ['stim epoch is missing', 'experiment epoch is missing']\n",
      "WARNING:root:sweep 21: ['stim epoch is missing', 'experiment epoch is missing']\n",
      "WARNING:root:sweep 23: ['stim epoch is missing', 'experiment epoch is missing']\n",
      "WARNING:root:sweep 28: ['stim epoch is missing', 'experiment epoch is missing']\n",
      "WARNING:root:sweep 31: ['stim epoch is missing', 'experiment epoch is missing']\n",
      "WARNING:root:sweep 38: ['stim epoch is missing', 'experiment epoch is missing']\n",
      "WARNING:root:sweep 39: ['stim epoch is missing', 'experiment epoch is missing']\n",
      "WARNING:root:sweep 50: ['stim epoch is missing', 'experiment epoch is missing']\n",
      "WARNING:root:sweep 52: ['stim epoch is missing', 'experiment epoch is missing']\n",
      "WARNING:root:sweep 53: ['stim epoch is missing', 'experiment epoch is missing']\n",
      "WARNING:root:sweep 54: ['stim epoch is missing', 'experiment epoch is missing']\n",
      "WARNING:root:sweep 55: ['stim epoch is missing', 'experiment epoch is missing']\n",
      "WARNING:root:sweep 57: ['stim epoch is missing', 'experiment epoch is missing']\n",
      "WARNING:root:sweep 58: ['stim epoch is missing', 'experiment epoch is missing']\n"
     ]
    },
    {
     "name": "stdout",
     "output_type": "stream",
     "text": [
      " 288 Specimen ID: 743468218 | VISp2/3 | Vip-MET-5 | Sweep ID: 28 | Init. freq.: 70.92 Hz\n"
     ]
    },
    {
     "name": "stderr",
     "output_type": "stream",
     "text": [
      "WARNING:root:sweep 11: ['stim epoch is missing', 'experiment epoch is missing']\n",
      "WARNING:root:sweep 13: ['stim epoch is missing', 'experiment epoch is missing']\n",
      "WARNING:root:sweep 15: ['stim epoch is missing', 'experiment epoch is missing']\n",
      "WARNING:root:sweep 16: ['stim epoch is missing', 'experiment epoch is missing']\n",
      "WARNING:root:sweep 19: ['stim epoch is missing', 'experiment epoch is missing']\n",
      "WARNING:root:sweep 20: ['stim epoch is missing', 'experiment epoch is missing']\n",
      "WARNING:root:sweep 24: ['stim epoch is missing', 'experiment epoch is missing']\n",
      "WARNING:root:sweep 25: ['stim epoch is missing', 'experiment epoch is missing']\n",
      "WARNING:root:sweep 26: ['stim epoch is missing', 'experiment epoch is missing']\n",
      "WARNING:root:sweep 27: ['stim epoch is missing', 'experiment epoch is missing']\n",
      "WARNING:root:sweep 28: ['stim epoch is missing', 'experiment epoch is missing']\n",
      "WARNING:root:sweep 29: ['stim epoch is missing', 'experiment epoch is missing']\n",
      "WARNING:root:sweep 31: ['stim epoch is missing', 'experiment epoch is missing']\n",
      "WARNING:root:sweep 32: ['stim epoch is missing', 'experiment epoch is missing']\n",
      "WARNING:root:sweep 33: ['stim epoch is missing', 'experiment epoch is missing']\n",
      "WARNING:root:sweep 34: ['stim epoch is missing', 'experiment epoch is missing']\n",
      "WARNING:root:sweep 35: ['stim epoch is missing', 'experiment epoch is missing']\n",
      "WARNING:root:sweep 36: ['stim epoch is missing', 'experiment epoch is missing']\n",
      "WARNING:root:sweep 37: ['stim epoch is missing', 'experiment epoch is missing']\n",
      "WARNING:root:sweep 38: ['stim epoch is missing', 'experiment epoch is missing']\n",
      "WARNING:root:sweep 39: ['stim epoch is missing', 'experiment epoch is missing']\n",
      "WARNING:root:sweep 40: ['stim epoch is missing', 'experiment epoch is missing']\n"
     ]
    },
    {
     "name": "stdout",
     "output_type": "stream",
     "text": [
      " 289 Specimen ID: 743504177 | VISp2/3 | Vip-MET-5 | Sweep ID: 3 | Init. freq.: 99.60 Hz\n"
     ]
    },
    {
     "name": "stderr",
     "output_type": "stream",
     "text": [
      "WARNING:root:sweep 11: ['stim epoch is missing', 'experiment epoch is missing']\n"
     ]
    },
    {
     "name": "stdout",
     "output_type": "stream",
     "text": [
      " 290 Specimen ID: 744053590 | VISp2/3 | Vip-MET-4 | Sweep ID: 7 | Init. freq.: 127.88 Hz\n"
     ]
    },
    {
     "name": "stderr",
     "output_type": "stream",
     "text": [
      "WARNING:root:sweep 27: ['Recording stopped before completing the experiment epoch']\n",
      "WARNING:root:sweep 30: ['Recording stopped before completing the experiment epoch']\n"
     ]
    },
    {
     "name": "stdout",
     "output_type": "stream",
     "text": [
      " 291 Specimen ID: 744211669 | VISp2/3 | Vip-MET-3 | Sweep ID: 7 | Init. freq.: 70.62 Hz\n"
     ]
    },
    {
     "name": "stderr",
     "output_type": "stream",
     "text": [
      "WARNING:root:sweep 4: ['stim epoch is missing', 'experiment epoch is missing']\n",
      "WARNING:root:sweep 5: ['stim epoch is missing', 'experiment epoch is missing']\n",
      "WARNING:root:sweep 19: ['stim epoch is missing', 'experiment epoch is missing']\n",
      "WARNING:root:sweep 20: ['stim epoch is missing', 'experiment epoch is missing']\n",
      "WARNING:root:sweep 21: ['stim epoch is missing', 'experiment epoch is missing']\n",
      "WARNING:root:sweep 25: ['stim epoch is missing', 'experiment epoch is missing']\n",
      "WARNING:root:sweep 26: ['stim epoch is missing', 'experiment epoch is missing']\n",
      "WARNING:root:sweep 28: ['stim epoch is missing', 'experiment epoch is missing']\n",
      "WARNING:root:sweep 43: ['Recording stopped before completing the experiment epoch']\n",
      "WARNING:root:sweep 44: ['Recording stopped before completing the experiment epoch']\n"
     ]
    },
    {
     "name": "stdout",
     "output_type": "stream",
     "text": [
      " 292 Specimen ID: 744454952 | VISp2/3 | Pvalb-MET-4 | Sweep ID: 11 | Init. freq.: 83.47 Hz\n"
     ]
    },
    {
     "name": "stderr",
     "output_type": "stream",
     "text": [
      "WARNING:root:sweep 5: ['stim epoch is missing', 'experiment epoch is missing']\n"
     ]
    },
    {
     "name": "stdout",
     "output_type": "stream",
     "text": [
      " 293 Specimen ID: 744476851 | VISp5 | Sst-MET-12 | Sweep ID: 8 | Init. freq.: 52.30 Hz\n"
     ]
    },
    {
     "name": "stderr",
     "output_type": "stream",
     "text": [
      "WARNING:root:sweep 6: ['stim epoch is missing', 'experiment epoch is missing']\n",
      "WARNING:root:sweep 7: ['stim epoch is missing', 'experiment epoch is missing']\n",
      "WARNING:root:sweep 8: ['stim epoch is missing', 'experiment epoch is missing']\n",
      "WARNING:root:sweep 9: ['stim epoch is missing', 'experiment epoch is missing']\n",
      "WARNING:root:sweep 12: ['stim epoch is missing', 'experiment epoch is missing']\n",
      "WARNING:root:sweep 19: ['stim epoch is missing', 'experiment epoch is missing']\n",
      "WARNING:root:sweep 23: ['stim epoch is missing', 'experiment epoch is missing']\n",
      "WARNING:root:sweep 24: ['stim epoch is missing', 'experiment epoch is missing']\n",
      "WARNING:root:sweep 25: ['stim epoch is missing', 'experiment epoch is missing']\n"
     ]
    },
    {
     "name": "stdout",
     "output_type": "stream",
     "text": [
      " 294 Specimen ID: 744975652 | VISp2/3 | Vip-MET-1 | Sweep ID: 12 | Init. freq.: 68.31 Hz\n"
     ]
    },
    {
     "name": "stderr",
     "output_type": "stream",
     "text": [
      "WARNING:root:sweep 12: ['stim epoch is missing', 'experiment epoch is missing']\n"
     ]
    },
    {
     "name": "stdout",
     "output_type": "stream",
     "text": [
      " 295 Specimen ID: 745584401 | VISp5 | Sst-MET-11 | Sweep ID: 7 | Init. freq.: 45.96 Hz\n",
      " 296 Specimen ID: 745692039 | VISl5 | Sst-MET-4 | Sweep ID: 7 | Init. freq.: 68.49 Hz\n"
     ]
    },
    {
     "name": "stderr",
     "output_type": "stream",
     "text": [
      "WARNING:root:sweep 11: ['stim epoch is missing', 'experiment epoch is missing']\n",
      "WARNING:root:sweep 12: ['stim epoch is missing', 'experiment epoch is missing']\n",
      "WARNING:root:sweep 14: ['stim epoch is missing', 'experiment epoch is missing']\n",
      "WARNING:root:sweep 32: ['Recording stopped before completing the experiment epoch']\n"
     ]
    },
    {
     "name": "stdout",
     "output_type": "stream",
     "text": [
      " 297 Specimen ID: 745736817 | VISp4 | Sst-MET-3 | Sweep ID: 10 | Init. freq.: 35.84 Hz\n"
     ]
    },
    {
     "name": "stderr",
     "output_type": "stream",
     "text": [
      "WARNING:root:sweep 32: ['Recording stopped before completing the experiment epoch']\n"
     ]
    },
    {
     "name": "stdout",
     "output_type": "stream",
     "text": [
      " 298 Specimen ID: 746086313 | VISp1 | Lamp5-MET-1 | Sweep ID: 7 | Init. freq.: 36.63 Hz\n"
     ]
    },
    {
     "name": "stderr",
     "output_type": "stream",
     "text": [
      "WARNING:root:sweep 6: ['stim epoch is missing', 'experiment epoch is missing']\n",
      "WARNING:root:sweep 7: ['stim epoch is missing', 'experiment epoch is missing']\n",
      "WARNING:root:sweep 8: ['stim epoch is missing', 'experiment epoch is missing']\n",
      "WARNING:root:sweep 9: ['stim epoch is missing', 'experiment epoch is missing']\n",
      "WARNING:root:sweep 10: ['stim epoch is missing', 'experiment epoch is missing']\n",
      "WARNING:root:sweep 11: ['stim epoch is missing', 'experiment epoch is missing']\n",
      "WARNING:root:sweep 12: ['stim epoch is missing', 'experiment epoch is missing']\n",
      "WARNING:root:sweep 13: ['stim epoch is missing', 'experiment epoch is missing']\n",
      "WARNING:root:sweep 14: ['stim epoch is missing', 'experiment epoch is missing']\n",
      "WARNING:root:sweep 15: ['stim epoch is missing', 'experiment epoch is missing']\n",
      "WARNING:root:sweep 16: ['stim epoch is missing', 'experiment epoch is missing']\n",
      "WARNING:root:sweep 17: ['stim epoch is missing', 'experiment epoch is missing']\n",
      "WARNING:root:sweep 19: ['stim epoch is missing', 'experiment epoch is missing']\n",
      "WARNING:root:sweep 20: ['stim epoch is missing', 'experiment epoch is missing']\n",
      "WARNING:root:sweep 23: ['stim epoch is missing', 'experiment epoch is missing']\n",
      "WARNING:root:sweep 38: ['stim epoch is missing', 'experiment epoch is missing']\n",
      "WARNING:root:sweep 39: ['stim epoch is missing', 'experiment epoch is missing']\n",
      "WARNING:root:sweep 50: ['Recording stopped before completing the experiment epoch']\n",
      "WARNING:root:sweep 54: ['Recording stopped before completing the experiment epoch']\n",
      "WARNING:root:sweep 55: ['Recording stopped before completing the experiment epoch']\n",
      "WARNING:root:sweep 57: ['Recording stopped before completing the experiment epoch']\n"
     ]
    },
    {
     "name": "stdout",
     "output_type": "stream",
     "text": [
      " 299 Specimen ID: 746200101 | VISp2/3 | Sst-MET-2 | Sweep ID: 11 | Init. freq.: 49.90 Hz\n",
      " 300 Specimen ID: 746257405 | VISpm5 | Sst-MET-2 | Sweep ID: 8 | Init. freq.: 55.68 Hz\n"
     ]
    },
    {
     "name": "stderr",
     "output_type": "stream",
     "text": [
      "WARNING:root:sweep 4: ['stim epoch is missing', 'experiment epoch is missing']\n",
      "WARNING:root:sweep 5: ['stim epoch is missing', 'experiment epoch is missing']\n",
      "WARNING:root:sweep 6: ['stim epoch is missing', 'experiment epoch is missing']\n",
      "WARNING:root:sweep 7: ['stim epoch is missing', 'experiment epoch is missing']\n",
      "WARNING:root:sweep 8: ['stim epoch is missing', 'experiment epoch is missing']\n",
      "WARNING:root:sweep 9: ['stim epoch is missing', 'experiment epoch is missing']\n",
      "WARNING:root:sweep 10: ['stim epoch is missing', 'experiment epoch is missing']\n",
      "WARNING:root:sweep 11: ['stim epoch is missing', 'experiment epoch is missing']\n",
      "WARNING:root:sweep 12: ['stim epoch is missing', 'experiment epoch is missing']\n",
      "WARNING:root:sweep 13: ['stim epoch is missing', 'experiment epoch is missing']\n",
      "WARNING:root:sweep 14: ['stim epoch is missing', 'experiment epoch is missing']\n",
      "WARNING:root:sweep 15: ['stim epoch is missing', 'experiment epoch is missing']\n",
      "WARNING:root:sweep 16: ['stim epoch is missing', 'experiment epoch is missing']\n",
      "WARNING:root:sweep 17: ['stim epoch is missing', 'experiment epoch is missing']\n",
      "WARNING:root:sweep 18: ['stim epoch is missing', 'experiment epoch is missing']\n",
      "WARNING:root:sweep 20: ['stim epoch is missing', 'experiment epoch is missing']\n",
      "WARNING:root:sweep 21: ['stim epoch is missing', 'experiment epoch is missing']\n",
      "WARNING:root:sweep 23: ['stim epoch is missing', 'experiment epoch is missing']\n",
      "WARNING:root:sweep 24: ['stim epoch is missing', 'experiment epoch is missing']\n",
      "WARNING:root:sweep 25: ['stim epoch is missing', 'experiment epoch is missing']\n",
      "WARNING:root:sweep 26: ['stim epoch is missing', 'experiment epoch is missing']\n",
      "WARNING:root:sweep 27: ['stim epoch is missing', 'experiment epoch is missing']\n",
      "WARNING:root:sweep 28: ['stim epoch is missing', 'experiment epoch is missing']\n",
      "WARNING:root:sweep 29: ['stim epoch is missing', 'experiment epoch is missing']\n",
      "WARNING:root:sweep 30: ['stim epoch is missing', 'experiment epoch is missing']\n",
      "WARNING:root:sweep 31: ['stim epoch is missing', 'experiment epoch is missing']\n",
      "WARNING:root:sweep 34: ['stim epoch is missing', 'experiment epoch is missing']\n",
      "WARNING:root:sweep 35: ['stim epoch is missing', 'experiment epoch is missing']\n",
      "WARNING:root:sweep 36: ['stim epoch is missing', 'experiment epoch is missing']\n",
      "WARNING:root:sweep 37: ['stim epoch is missing', 'experiment epoch is missing']\n",
      "WARNING:root:sweep 38: ['stim epoch is missing', 'experiment epoch is missing']\n",
      "WARNING:root:sweep 39: ['stim epoch is missing', 'experiment epoch is missing']\n",
      "WARNING:root:sweep 40: ['stim epoch is missing', 'experiment epoch is missing']\n",
      "WARNING:root:sweep 41: ['stim epoch is missing', 'experiment epoch is missing']\n",
      "WARNING:root:sweep 42: ['stim epoch is missing', 'experiment epoch is missing']\n",
      "WARNING:root:sweep 43: ['stim epoch is missing', 'experiment epoch is missing']\n",
      "WARNING:root:sweep 44: ['stim epoch is missing', 'experiment epoch is missing']\n",
      "WARNING:root:sweep 45: ['stim epoch is missing', 'experiment epoch is missing']\n",
      "WARNING:root:sweep 46: ['stim epoch is missing', 'experiment epoch is missing']\n",
      "WARNING:root:sweep 47: ['stim epoch is missing', 'experiment epoch is missing']\n",
      "WARNING:root:sweep 48: ['stim epoch is missing', 'experiment epoch is missing']\n",
      "WARNING:root:sweep 49: ['stim epoch is missing', 'experiment epoch is missing']\n",
      "WARNING:root:sweep 58: ['stim epoch is missing', 'experiment epoch is missing']\n",
      "WARNING:root:sweep 61: ['stim epoch is missing', 'experiment epoch is missing']\n",
      "WARNING:root:sweep 71: ['Recording stopped before completing the experiment epoch']\n",
      "WARNING:root:sweep 74: ['Recording stopped before completing the experiment epoch']\n",
      "WARNING:root:sweep 77: ['Recording stopped before completing the experiment epoch']\n",
      "WARNING:root:sweep 79: ['Recording stopped before completing the experiment epoch']\n"
     ]
    },
    {
     "name": "stdout",
     "output_type": "stream",
     "text": [
      " 301 Specimen ID: 746732672 | VISam5 | Sst-MET-6 | Sweep ID: 11 | Init. freq.: 78.99 Hz\n"
     ]
    },
    {
     "name": "stderr",
     "output_type": "stream",
     "text": [
      "WARNING:root:sweep 11: ['stim epoch is missing', 'experiment epoch is missing']\n",
      "WARNING:root:sweep 13: ['stim epoch is missing', 'experiment epoch is missing']\n"
     ]
    },
    {
     "name": "stdout",
     "output_type": "stream",
     "text": [
      " 302 Specimen ID: 746747868 | VISp6a | Sst-MET-9 | Sweep ID: 9 | Init. freq.: 27.32 Hz\n"
     ]
    },
    {
     "name": "stderr",
     "output_type": "stream",
     "text": [
      "WARNING:root:sweep 13: ['stim epoch is missing', 'experiment epoch is missing']\n"
     ]
    },
    {
     "name": "stdout",
     "output_type": "stream",
     "text": [
      " 303 Specimen ID: 746917764 | VISp6a | Sst-MET-10 | Sweep ID: 7 | Init. freq.: 39.59 Hz\n"
     ]
    },
    {
     "name": "stderr",
     "output_type": "stream",
     "text": [
      "WARNING:root:sweep 4: ['stim epoch is missing', 'experiment epoch is missing']\n",
      "WARNING:root:sweep 15: ['stim epoch is missing', 'experiment epoch is missing']\n",
      "WARNING:root:sweep 31: ['Recording stopped before completing the experiment epoch']\n",
      "WARNING:root:sweep 32: ['Recording stopped before completing the experiment epoch']\n"
     ]
    },
    {
     "name": "stdout",
     "output_type": "stream",
     "text": [
      " 304 Specimen ID: 746924803 | VISp4 | Sst-MET-8 | Sweep ID: 8 | Init. freq.: 62.34 Hz\n"
     ]
    },
    {
     "name": "stderr",
     "output_type": "stream",
     "text": [
      "WARNING:root:sweep 3: ['stim epoch is missing', 'experiment epoch is missing']\n",
      "WARNING:root:sweep 4: ['stim epoch is missing', 'experiment epoch is missing']\n",
      "WARNING:root:sweep 5: ['stim epoch is missing', 'experiment epoch is missing']\n",
      "WARNING:root:sweep 6: ['stim epoch is missing', 'experiment epoch is missing']\n",
      "WARNING:root:sweep 7: ['stim epoch is missing', 'experiment epoch is missing']\n",
      "WARNING:root:sweep 8: ['stim epoch is missing', 'experiment epoch is missing']\n",
      "WARNING:root:sweep 9: ['stim epoch is missing', 'experiment epoch is missing']\n",
      "WARNING:root:sweep 10: ['stim epoch is missing', 'experiment epoch is missing']\n",
      "WARNING:root:sweep 11: ['stim epoch is missing', 'experiment epoch is missing']\n",
      "WARNING:root:sweep 12: ['stim epoch is missing', 'experiment epoch is missing']\n",
      "WARNING:root:sweep 13: ['stim epoch is missing', 'experiment epoch is missing']\n",
      "WARNING:root:sweep 14: ['stim epoch is missing', 'experiment epoch is missing']\n",
      "WARNING:root:sweep 15: ['stim epoch is missing', 'experiment epoch is missing']\n",
      "WARNING:root:sweep 16: ['stim epoch is missing', 'experiment epoch is missing']\n",
      "WARNING:root:sweep 17: ['stim epoch is missing', 'experiment epoch is missing']\n",
      "WARNING:root:sweep 18: ['stim epoch is missing', 'experiment epoch is missing']\n",
      "WARNING:root:sweep 19: ['stim epoch is missing', 'experiment epoch is missing']\n",
      "WARNING:root:sweep 20: ['stim epoch is missing', 'experiment epoch is missing']\n",
      "WARNING:root:sweep 22: ['stim epoch is missing', 'experiment epoch is missing']\n",
      "WARNING:root:sweep 24: ['stim epoch is missing', 'experiment epoch is missing']\n",
      "WARNING:root:sweep 25: ['stim epoch is missing', 'experiment epoch is missing']\n",
      "WARNING:root:sweep 26: ['stim epoch is missing', 'experiment epoch is missing']\n",
      "WARNING:root:sweep 27: ['stim epoch is missing', 'experiment epoch is missing']\n",
      "WARNING:root:sweep 28: ['stim epoch is missing', 'experiment epoch is missing']\n",
      "WARNING:root:sweep 29: ['stim epoch is missing', 'experiment epoch is missing']\n",
      "WARNING:root:sweep 30: ['stim epoch is missing', 'experiment epoch is missing']\n",
      "WARNING:root:sweep 31: ['stim epoch is missing', 'experiment epoch is missing']\n",
      "WARNING:root:sweep 32: ['stim epoch is missing', 'experiment epoch is missing']\n",
      "WARNING:root:sweep 33: ['stim epoch is missing', 'experiment epoch is missing']\n",
      "WARNING:root:sweep 34: ['stim epoch is missing', 'experiment epoch is missing']\n",
      "WARNING:root:sweep 35: ['stim epoch is missing', 'experiment epoch is missing']\n",
      "WARNING:root:sweep 36: ['stim epoch is missing', 'experiment epoch is missing']\n",
      "WARNING:root:sweep 37: ['stim epoch is missing', 'experiment epoch is missing']\n",
      "WARNING:root:sweep 38: ['stim epoch is missing', 'experiment epoch is missing']\n",
      "WARNING:root:sweep 42: ['stim epoch is missing', 'experiment epoch is missing']\n",
      "WARNING:root:sweep 43: ['stim epoch is missing', 'experiment epoch is missing']\n",
      "WARNING:root:sweep 45: ['stim epoch is missing', 'experiment epoch is missing']\n",
      "WARNING:root:sweep 47: ['stim epoch is missing', 'experiment epoch is missing']\n",
      "WARNING:root:sweep 49: ['stim epoch is missing', 'experiment epoch is missing']\n",
      "WARNING:root:sweep 51: ['stim epoch is missing', 'experiment epoch is missing']\n",
      "WARNING:root:sweep 52: ['stim epoch is missing', 'experiment epoch is missing']\n",
      "WARNING:root:sweep 59: ['stim epoch is missing', 'experiment epoch is missing']\n",
      "WARNING:root:sweep 61: ['stim epoch is missing', 'experiment epoch is missing']\n",
      "WARNING:root:sweep 65: ['stim epoch is missing', 'experiment epoch is missing']\n",
      "WARNING:root:sweep 66: ['stim epoch is missing', 'experiment epoch is missing']\n",
      "WARNING:root:sweep 67: ['stim epoch is missing', 'experiment epoch is missing']\n",
      "WARNING:root:sweep 68: ['stim epoch is missing', 'experiment epoch is missing']\n",
      "WARNING:root:sweep 69: ['stim epoch is missing', 'experiment epoch is missing']\n",
      "WARNING:root:sweep 70: ['stim epoch is missing', 'experiment epoch is missing']\n",
      "WARNING:root:sweep 72: ['stim epoch is missing', 'experiment epoch is missing']\n",
      "WARNING:root:sweep 90: ['Recording stopped before completing the experiment epoch']\n"
     ]
    },
    {
     "name": "stdout",
     "output_type": "stream",
     "text": [
      " 305 Specimen ID: 747028632 | VISl5 | Sst-MET-6 | Sweep ID: 15 | Init. freq.: 86.66 Hz\n"
     ]
    },
    {
     "name": "stderr",
     "output_type": "stream",
     "text": [
      "WARNING:root:sweep 4: ['stim epoch is missing', 'experiment epoch is missing']\n",
      "WARNING:root:sweep 5: ['stim epoch is missing', 'experiment epoch is missing']\n",
      "WARNING:root:sweep 6: ['stim epoch is missing', 'experiment epoch is missing']\n",
      "WARNING:root:sweep 9: ['stim epoch is missing', 'experiment epoch is missing']\n",
      "WARNING:root:sweep 14: ['stim epoch is missing', 'experiment epoch is missing']\n",
      "WARNING:root:sweep 16: ['stim epoch is missing', 'experiment epoch is missing']\n",
      "WARNING:root:sweep 18: ['stim epoch is missing', 'experiment epoch is missing']\n",
      "WARNING:root:sweep 19: ['stim epoch is missing', 'experiment epoch is missing']\n",
      "WARNING:root:sweep 23: ['stim epoch is missing', 'experiment epoch is missing']\n",
      "WARNING:root:sweep 26: ['stim epoch is missing', 'experiment epoch is missing']\n",
      "WARNING:root:sweep 37: ['stim epoch is missing', 'experiment epoch is missing']\n",
      "WARNING:root:sweep 42: ['stim epoch is missing', 'experiment epoch is missing']\n",
      "WARNING:root:sweep 54: ['Recording stopped before completing the experiment epoch']\n"
     ]
    },
    {
     "name": "stdout",
     "output_type": "stream",
     "text": [
      " 306 Specimen ID: 750472605 | VISp5 | Sst-MET-6 | Sweep ID: 21 | Init. freq.: 94.34 Hz\n"
     ]
    },
    {
     "name": "stderr",
     "output_type": "stream",
     "text": [
      "WARNING:root:sweep 5: ['stim epoch is missing', 'experiment epoch is missing']\n",
      "WARNING:root:sweep 19: ['stim epoch is missing', 'experiment epoch is missing']\n"
     ]
    },
    {
     "name": "stdout",
     "output_type": "stream",
     "text": [
      " 307 Specimen ID: 750706642 | VISp5 | Sst-MET-13 | Sweep ID: 8 | Init. freq.: 57.87 Hz\n"
     ]
    },
    {
     "name": "stderr",
     "output_type": "stream",
     "text": [
      "WARNING:root:sweep 17: ['stim epoch is missing', 'experiment epoch is missing']\n"
     ]
    },
    {
     "name": "stdout",
     "output_type": "stream",
     "text": [
      " 308 Specimen ID: 750776506 | VISp5 | Sst-MET-11 | Sweep ID: 8 | Init. freq.: 63.13 Hz\n"
     ]
    },
    {
     "name": "stderr",
     "output_type": "stream",
     "text": [
      "WARNING:root:sweep 6: ['stim epoch is missing', 'experiment epoch is missing']\n"
     ]
    },
    {
     "name": "stdout",
     "output_type": "stream",
     "text": [
      " 309 Specimen ID: 750824726 | VISpm6a | Sst-MET-13 | Sweep ID: 7 | Init. freq.: 85.18 Hz\n"
     ]
    },
    {
     "name": "stderr",
     "output_type": "stream",
     "text": [
      "WARNING:root:sweep 13: ['stim epoch is missing', 'experiment epoch is missing']\n"
     ]
    },
    {
     "name": "stdout",
     "output_type": "stream",
     "text": [
      " 310 Specimen ID: 750833190 | VISpm6a | Sst-MET-12 | Sweep ID: 7 | Init. freq.: 48.03 Hz\n"
     ]
    },
    {
     "name": "stderr",
     "output_type": "stream",
     "text": [
      "WARNING:root:sweep 6: ['stim epoch is missing', 'experiment epoch is missing']\n",
      "WARNING:root:sweep 8: ['stim epoch is missing', 'experiment epoch is missing']\n",
      "WARNING:root:sweep 10: ['stim epoch is missing', 'experiment epoch is missing']\n",
      "WARNING:root:sweep 18: ['stim epoch is missing', 'experiment epoch is missing']\n"
     ]
    },
    {
     "name": "stdout",
     "output_type": "stream",
     "text": [
      " 311 Specimen ID: 751199266 | VISp5 | Sst-MET-5 | Sweep ID: 5 | Init. freq.: 107.76 Hz\n"
     ]
    },
    {
     "name": "stderr",
     "output_type": "stream",
     "text": [
      "WARNING:root:sweep 11: ['stim epoch is missing', 'experiment epoch is missing']\n"
     ]
    },
    {
     "name": "stdout",
     "output_type": "stream",
     "text": [
      " 312 Specimen ID: 751947558 | VISp6a | Sst-MET-12 | Sweep ID: 7 | Init. freq.: 74.18 Hz\n"
     ]
    },
    {
     "name": "stderr",
     "output_type": "stream",
     "text": [
      "WARNING:root:sweep 6: ['stim epoch is missing', 'experiment epoch is missing']\n",
      "WARNING:root:sweep 7: ['stim epoch is missing', 'experiment epoch is missing']\n",
      "WARNING:root:sweep 13: ['stim epoch is missing', 'experiment epoch is missing']\n",
      "WARNING:root:sweep 14: ['stim epoch is missing', 'experiment epoch is missing']\n",
      "WARNING:root:sweep 15: ['stim epoch is missing', 'experiment epoch is missing']\n",
      "WARNING:root:sweep 16: ['stim epoch is missing', 'experiment epoch is missing']\n"
     ]
    },
    {
     "name": "stdout",
     "output_type": "stream",
     "text": [
      " 313 Specimen ID: 751991773 | VISp6a | Sst-MET-10 | Sweep ID: 8 | Init. freq.: 53.42 Hz\n"
     ]
    },
    {
     "name": "stderr",
     "output_type": "stream",
     "text": [
      "WARNING:root:sweep 5: ['stim epoch is missing', 'experiment epoch is missing']\n"
     ]
    },
    {
     "name": "stdout",
     "output_type": "stream",
     "text": [
      " 314 Specimen ID: 752027250 | VISp5 | Sst-MET-8 | Sweep ID: 8 | Init. freq.: 42.37 Hz\n"
     ]
    },
    {
     "name": "stderr",
     "output_type": "stream",
     "text": [
      "WARNING:root:sweep 5: ['stim epoch is missing', 'experiment epoch is missing']\n",
      "WARNING:root:sweep 11: ['stim epoch is missing', 'experiment epoch is missing']\n",
      "WARNING:root:sweep 12: ['stim epoch is missing', 'experiment epoch is missing']\n",
      "WARNING:root:sweep 30: ['Recording stopped before completing the experiment epoch']\n"
     ]
    },
    {
     "name": "stdout",
     "output_type": "stream",
     "text": [
      " 315 Specimen ID: 752042986 | VISp5 | Sst-MET-7 | Sweep ID: 7 | Init. freq.: 96.90 Hz\n"
     ]
    },
    {
     "name": "stderr",
     "output_type": "stream",
     "text": [
      "WARNING:root:sweep 14: ['stim epoch is missing', 'experiment epoch is missing']\n"
     ]
    },
    {
     "name": "stdout",
     "output_type": "stream",
     "text": [
      " 316 Specimen ID: 752063316 | VISp2/3 | Sst-MET-3 | Sweep ID: 8 | Init. freq.: 37.74 Hz\n"
     ]
    },
    {
     "name": "stderr",
     "output_type": "stream",
     "text": [
      "WARNING:root:sweep 15: ['stim epoch is missing', 'experiment epoch is missing']\n",
      "WARNING:root:sweep 32: ['Recording stopped before completing the experiment epoch']\n"
     ]
    },
    {
     "name": "stdout",
     "output_type": "stream",
     "text": [
      " 317 Specimen ID: 754508194 | VISp6a | Pvalb-MET-2 | Sweep ID: 4 | Init. freq.: 104.60 Hz\n"
     ]
    },
    {
     "name": "stderr",
     "output_type": "stream",
     "text": [
      "WARNING:root:sweep 15: ['stim epoch is missing', 'experiment epoch is missing']\n"
     ]
    },
    {
     "name": "stdout",
     "output_type": "stream",
     "text": [
      " 318 Specimen ID: 755552030 | VISp2/3 | Vip-MET-1 | Sweep ID: 7 | Init. freq.: 89.13 Hz\n"
     ]
    },
    {
     "name": "stderr",
     "output_type": "stream",
     "text": [
      "WARNING:root:sweep 32: ['Recording stopped before completing the experiment epoch']\n"
     ]
    },
    {
     "name": "stdout",
     "output_type": "stream",
     "text": [
      " 319 Specimen ID: 755592855 | VISp2/3 | Vip-MET-1 | Sweep ID: 10 | Init. freq.: 80.52 Hz\n"
     ]
    },
    {
     "name": "stderr",
     "output_type": "stream",
     "text": [
      "WARNING:root:sweep 21: ['stim epoch is missing', 'experiment epoch is missing']\n",
      "WARNING:root:sweep 34: ['stim epoch is missing', 'experiment epoch is missing']\n"
     ]
    },
    {
     "name": "stdout",
     "output_type": "stream",
     "text": [
      " 320 Specimen ID: 755625739 | VISp5 | Pvalb-MET-3 | Sweep ID: 8 | Init. freq.: 160.26 Hz\n"
     ]
    },
    {
     "name": "stderr",
     "output_type": "stream",
     "text": [
      "WARNING:root:sweep 15: ['stim epoch is missing', 'experiment epoch is missing']\n"
     ]
    },
    {
     "name": "stdout",
     "output_type": "stream",
     "text": [
      " 321 Specimen ID: 755625849 | VISl2/3 | Vip-MET-1 | Sweep ID: 4 | Init. freq.: 88.18 Hz\n",
      " 322 Specimen ID: 757252810 | VISpm1 | Sncg-MET-1 | Sweep ID: 6 | Init. freq.: 102.88 Hz\n"
     ]
    },
    {
     "name": "stderr",
     "output_type": "stream",
     "text": [
      "WARNING:root:sweep 7: ['stim epoch is missing', 'experiment epoch is missing']\n",
      "WARNING:root:sweep 16: ['stim epoch is missing', 'experiment epoch is missing']\n",
      "WARNING:root:sweep 19: ['stim epoch is missing', 'experiment epoch is missing']\n"
     ]
    },
    {
     "name": "stdout",
     "output_type": "stream",
     "text": [
      " 323 Specimen ID: 758263126 | VISp2/3 | Vip-MET-4 | Sweep ID: 9 | Init. freq.: 96.15 Hz\n"
     ]
    },
    {
     "name": "stderr",
     "output_type": "stream",
     "text": [
      "WARNING:root:sweep 13: ['stim epoch is missing', 'experiment epoch is missing']\n",
      "WARNING:root:sweep 15: ['stim epoch is missing', 'experiment epoch is missing']\n",
      "WARNING:root:sweep 19: ['stim epoch is missing', 'experiment epoch is missing']\n",
      "WARNING:root:sweep 35: ['Recording stopped before completing the experiment epoch']\n"
     ]
    },
    {
     "name": "stdout",
     "output_type": "stream",
     "text": [
      " 324 Specimen ID: 759751429 | VISp2/3 | Vip-MET-5 | Sweep ID: 9 | Init. freq.: 89.77 Hz\n"
     ]
    },
    {
     "name": "stderr",
     "output_type": "stream",
     "text": [
      "WARNING:root:sweep 4: ['stim epoch is missing', 'experiment epoch is missing']\n",
      "WARNING:root:sweep 5: ['stim epoch is missing', 'experiment epoch is missing']\n",
      "WARNING:root:sweep 29: ['Recording stopped before completing the experiment epoch']\n",
      "WARNING:root:sweep 30: ['Recording stopped before completing the experiment epoch']\n",
      "WARNING:root:sweep 31: ['Recording stopped before completing the experiment epoch']\n",
      "WARNING:root:sweep 33: ['Recording stopped before completing the experiment epoch']\n"
     ]
    },
    {
     "name": "stdout",
     "output_type": "stream",
     "text": [
      " 325 Specimen ID: 759909292 | VISp5 | Sst-MET-7 | Sweep ID: 7 | Init. freq.: 68.12 Hz\n",
      " 326 Specimen ID: 759939473 | VISp6a | Sst-MET-9 | Sweep ID: 7 | Init. freq.: 53.59 Hz\n"
     ]
    },
    {
     "name": "stderr",
     "output_type": "stream",
     "text": [
      "WARNING:root:sweep 35: ['Recording stopped before completing the experiment epoch']\n",
      "WARNING:root:sweep 36: ['Recording stopped before completing the experiment epoch']\n",
      "WARNING:root:sweep 37: ['Recording stopped before completing the experiment epoch']\n",
      "WARNING:root:sweep 38: ['Recording stopped before completing the experiment epoch']\n",
      "WARNING:root:sweep 39: ['Recording stopped before completing the experiment epoch']\n"
     ]
    },
    {
     "name": "stdout",
     "output_type": "stream",
     "text": [
      " 327 Specimen ID: 759948010 | VISp6a | Sst-MET-10 | Sweep ID: 7 | Init. freq.: 52.52 Hz\n"
     ]
    },
    {
     "name": "stderr",
     "output_type": "stream",
     "text": [
      "WARNING:root:sweep 4: ['stim epoch is missing', 'experiment epoch is missing']\n",
      "WARNING:root:sweep 5: ['stim epoch is missing', 'experiment epoch is missing']\n",
      "WARNING:root:sweep 6: ['stim epoch is missing', 'experiment epoch is missing']\n",
      "WARNING:root:sweep 7: ['stim epoch is missing', 'experiment epoch is missing']\n",
      "WARNING:root:sweep 8: ['stim epoch is missing', 'experiment epoch is missing']\n",
      "WARNING:root:sweep 9: ['stim epoch is missing', 'experiment epoch is missing']\n",
      "WARNING:root:sweep 10: ['stim epoch is missing', 'experiment epoch is missing']\n",
      "WARNING:root:sweep 11: ['stim epoch is missing', 'experiment epoch is missing']\n",
      "WARNING:root:sweep 12: ['stim epoch is missing', 'experiment epoch is missing']\n",
      "WARNING:root:sweep 13: ['stim epoch is missing', 'experiment epoch is missing']\n",
      "WARNING:root:sweep 14: ['stim epoch is missing', 'experiment epoch is missing']\n",
      "WARNING:root:sweep 16: ['stim epoch is missing', 'experiment epoch is missing']\n",
      "WARNING:root:sweep 17: ['stim epoch is missing', 'experiment epoch is missing']\n",
      "WARNING:root:sweep 20: ['stim epoch is missing', 'experiment epoch is missing']\n",
      "WARNING:root:sweep 21: ['stim epoch is missing', 'experiment epoch is missing']\n",
      "WARNING:root:sweep 22: ['stim epoch is missing', 'experiment epoch is missing']\n",
      "WARNING:root:sweep 23: ['stim epoch is missing', 'experiment epoch is missing']\n",
      "WARNING:root:sweep 24: ['stim epoch is missing', 'experiment epoch is missing']\n",
      "WARNING:root:sweep 25: ['stim epoch is missing', 'experiment epoch is missing']\n",
      "WARNING:root:sweep 26: ['stim epoch is missing', 'experiment epoch is missing']\n",
      "WARNING:root:sweep 27: ['stim epoch is missing', 'experiment epoch is missing']\n",
      "WARNING:root:sweep 28: ['stim epoch is missing', 'experiment epoch is missing']\n",
      "WARNING:root:sweep 29: ['stim epoch is missing', 'experiment epoch is missing']\n",
      "WARNING:root:sweep 30: ['stim epoch is missing', 'experiment epoch is missing']\n",
      "WARNING:root:sweep 31: ['stim epoch is missing', 'experiment epoch is missing']\n",
      "WARNING:root:sweep 32: ['stim epoch is missing', 'experiment epoch is missing']\n",
      "WARNING:root:sweep 34: ['stim epoch is missing', 'experiment epoch is missing']\n",
      "WARNING:root:sweep 43: ['stim epoch is missing', 'experiment epoch is missing']\n",
      "WARNING:root:sweep 47: ['stim epoch is missing', 'experiment epoch is missing']\n",
      "WARNING:root:sweep 59: ['Recording stopped before completing the experiment epoch']\n",
      "WARNING:root:sweep 62: ['Recording stopped before completing the experiment epoch']\n",
      "WARNING:root:sweep 66: ['Recording stopped before completing the experiment epoch']\n",
      "WARNING:root:sweep 70: ['Recording stopped before completing the experiment epoch']\n",
      "WARNING:root:sweep 86: ['Recording stopped before completing the experiment epoch']\n",
      "WARNING:root:sweep 88: ['Recording stopped before completing the experiment epoch']\n",
      "WARNING:root:sweep 91: ['Recording stopped before completing the experiment epoch']\n",
      "WARNING:root:sweep 93: ['Recording stopped before completing the experiment epoch']\n",
      "WARNING:root:sweep 95: ['Recording stopped before completing the experiment epoch']\n",
      "WARNING:root:sweep 97: ['Recording stopped before completing the experiment epoch']\n",
      "WARNING:root:sweep 98: ['Recording stopped before completing the experiment epoch']\n",
      "WARNING:root:sweep 100: ['Recording stopped before completing the experiment epoch']\n",
      "WARNING:root:sweep 102: ['Recording stopped before completing the experiment epoch']\n",
      "WARNING:root:sweep 104: ['Recording stopped before completing the experiment epoch']\n",
      "WARNING:root:sweep 106: ['Recording stopped before completing the experiment epoch']\n",
      "WARNING:root:sweep 107: ['Recording stopped before completing the experiment epoch']\n",
      "WARNING:root:sweep 109: ['Recording stopped before completing the experiment epoch']\n",
      "WARNING:root:sweep 110: ['Recording stopped before completing the experiment epoch']\n",
      "WARNING:root:sweep 111: ['Recording stopped before completing the experiment epoch']\n",
      "WARNING:root:sweep 112: ['Recording stopped before completing the experiment epoch']\n",
      "WARNING:root:sweep 113: ['Recording stopped before completing the experiment epoch']\n",
      "WARNING:root:sweep 114: ['Recording stopped before completing the experiment epoch']\n",
      "WARNING:root:sweep 115: ['Recording stopped before completing the experiment epoch']\n",
      "WARNING:root:sweep 116: ['Recording stopped before completing the experiment epoch']\n",
      "WARNING:root:sweep 118: ['Recording stopped before completing the experiment epoch']\n",
      "WARNING:root:sweep 120: ['Recording stopped before completing the experiment epoch']\n",
      "WARNING:root:sweep 123: ['Recording stopped before completing the experiment epoch']\n"
     ]
    },
    {
     "name": "stdout",
     "output_type": "stream",
     "text": [
      " 328 Specimen ID: 759955697 | VISp5 | Sst-MET-7 | Sweep ID: 9 | Init. freq.: 136.24 Hz\n"
     ]
    },
    {
     "name": "stderr",
     "output_type": "stream",
     "text": [
      "WARNING:root:sweep 15: ['stim epoch is missing', 'experiment epoch is missing']\n",
      "WARNING:root:sweep 17: ['stim epoch is missing', 'experiment epoch is missing']\n",
      "WARNING:root:sweep 41: ['Recording stopped before completing the experiment epoch']\n",
      "WARNING:root:sweep 44: ['Recording stopped before completing the experiment epoch']\n"
     ]
    },
    {
     "name": "stdout",
     "output_type": "stream",
     "text": [
      " 329 Specimen ID: 759970262 | VISp4 | Sst-MET-3 | Sweep ID: 8 | Init. freq.: 42.66 Hz\n"
     ]
    },
    {
     "name": "stderr",
     "output_type": "stream",
     "text": [
      "WARNING:root:sweep 4: ['stim epoch is missing', 'experiment epoch is missing']\n",
      "WARNING:root:sweep 6: ['stim epoch is missing', 'experiment epoch is missing']\n",
      "WARNING:root:sweep 7: ['stim epoch is missing', 'experiment epoch is missing']\n",
      "WARNING:root:sweep 9: ['stim epoch is missing', 'experiment epoch is missing']\n",
      "WARNING:root:sweep 10: ['stim epoch is missing', 'experiment epoch is missing']\n",
      "WARNING:root:sweep 11: ['stim epoch is missing', 'experiment epoch is missing']\n",
      "WARNING:root:sweep 42: ['Recording stopped before completing the experiment epoch']\n"
     ]
    },
    {
     "name": "stdout",
     "output_type": "stream",
     "text": [
      " 330 Specimen ID: 760011270 | VISl5 | Sst-MET-6 | Sweep ID: 7 | Init. freq.: 108.23 Hz\n"
     ]
    },
    {
     "name": "stderr",
     "output_type": "stream",
     "text": [
      "WARNING:root:sweep 7: ['stim epoch is missing', 'experiment epoch is missing']\n",
      "WARNING:root:sweep 23: ['stim epoch is missing', 'experiment epoch is missing']\n"
     ]
    },
    {
     "name": "stdout",
     "output_type": "stream",
     "text": [
      " 331 Specimen ID: 760064682 | VISpm6a | Pvalb-MET-2 | Sweep ID: 8 | Init. freq.: 100.60 Hz\n"
     ]
    },
    {
     "name": "stderr",
     "output_type": "stream",
     "text": [
      "WARNING:root:sweep 18: ['stim epoch is missing', 'experiment epoch is missing']\n"
     ]
    },
    {
     "name": "stdout",
     "output_type": "stream",
     "text": [
      " 332 Specimen ID: 760268259 | VISp5 | Sst-MET-8 | Sweep ID: 7 | Init. freq.: 58.28 Hz\n"
     ]
    },
    {
     "name": "stderr",
     "output_type": "stream",
     "text": [
      "WARNING:root:sweep 6: ['stim epoch is missing', 'experiment epoch is missing']\n",
      "WARNING:root:sweep 14: ['stim epoch is missing', 'experiment epoch is missing']\n",
      "WARNING:root:sweep 31: ['Recording stopped before completing the experiment epoch']\n",
      "WARNING:root:sweep 34: ['Recording stopped before completing the experiment epoch']\n"
     ]
    },
    {
     "name": "stdout",
     "output_type": "stream",
     "text": [
      " 333 Specimen ID: 760280955 | VISp2/3 | Sst-MET-2 | Sweep ID: 8 | Init. freq.: 63.53 Hz\n"
     ]
    },
    {
     "name": "stderr",
     "output_type": "stream",
     "text": [
      "WARNING:root:sweep 4: ['stim epoch is missing', 'experiment epoch is missing']\n",
      "WARNING:root:sweep 5: ['stim epoch is missing', 'experiment epoch is missing']\n",
      "WARNING:root:sweep 6: ['stim epoch is missing', 'experiment epoch is missing']\n",
      "WARNING:root:sweep 7: ['stim epoch is missing', 'experiment epoch is missing']\n",
      "WARNING:root:sweep 8: ['stim epoch is missing', 'experiment epoch is missing']\n",
      "WARNING:root:sweep 9: ['stim epoch is missing', 'experiment epoch is missing']\n",
      "WARNING:root:sweep 10: ['stim epoch is missing', 'experiment epoch is missing']\n",
      "WARNING:root:sweep 11: ['stim epoch is missing', 'experiment epoch is missing']\n",
      "WARNING:root:sweep 12: ['stim epoch is missing', 'experiment epoch is missing']\n",
      "WARNING:root:sweep 13: ['stim epoch is missing', 'experiment epoch is missing']\n"
     ]
    },
    {
     "name": "stdout",
     "output_type": "stream",
     "text": [
      " 334 Specimen ID: 760294832 | VISp5 | Sst-MET-6 | Sweep ID: 11 | Init. freq.: 118.20 Hz\n"
     ]
    },
    {
     "name": "stderr",
     "output_type": "stream",
     "text": [
      "WARNING:root:sweep 10: ['stim epoch is missing', 'experiment epoch is missing']\n",
      "WARNING:root:sweep 16: ['stim epoch is missing', 'experiment epoch is missing']\n",
      "WARNING:root:sweep 17: ['stim epoch is missing', 'experiment epoch is missing']\n",
      "WARNING:root:sweep 42: ['Recording stopped before completing the experiment epoch']\n",
      "WARNING:root:sweep 43: ['Recording stopped before completing the experiment epoch']\n",
      "WARNING:root:sweep 44: ['Recording stopped before completing the experiment epoch']\n",
      "WARNING:root:sweep 45: ['Recording stopped before completing the experiment epoch']\n",
      "WARNING:root:sweep 46: ['Recording stopped before completing the experiment epoch']\n",
      "WARNING:root:sweep 50: ['Recording stopped before completing the experiment epoch']\n",
      "WARNING:root:sweep 51: ['Recording stopped before completing the experiment epoch']\n"
     ]
    },
    {
     "name": "stdout",
     "output_type": "stream",
     "text": [
      " 335 Specimen ID: 760316107 | VISp1 | Sncg-MET-1 | Sweep ID: 10 | Init. freq.: 108.93 Hz\n"
     ]
    },
    {
     "name": "stderr",
     "output_type": "stream",
     "text": [
      "WARNING:root:sweep 4: ['stim epoch is missing', 'experiment epoch is missing']\n",
      "WARNING:root:sweep 5: ['stim epoch is missing', 'experiment epoch is missing']\n",
      "WARNING:root:sweep 6: ['stim epoch is missing', 'experiment epoch is missing']\n",
      "WARNING:root:sweep 7: ['stim epoch is missing', 'experiment epoch is missing']\n",
      "WARNING:root:sweep 9: ['stim epoch is missing', 'experiment epoch is missing']\n",
      "WARNING:root:sweep 10: ['stim epoch is missing', 'experiment epoch is missing']\n",
      "WARNING:root:sweep 19: ['stim epoch is missing', 'experiment epoch is missing']\n",
      "WARNING:root:sweep 21: ['stim epoch is missing', 'experiment epoch is missing']\n",
      "WARNING:root:sweep 22: ['stim epoch is missing', 'experiment epoch is missing']\n",
      "WARNING:root:sweep 24: ['stim epoch is missing', 'experiment epoch is missing']\n",
      "WARNING:root:sweep 26: ['stim epoch is missing', 'experiment epoch is missing']\n",
      "WARNING:root:sweep 27: ['stim epoch is missing', 'experiment epoch is missing']\n",
      "WARNING:root:sweep 28: ['stim epoch is missing', 'experiment epoch is missing']\n",
      "WARNING:root:sweep 30: ['stim epoch is missing', 'experiment epoch is missing']\n",
      "WARNING:root:sweep 31: ['stim epoch is missing', 'experiment epoch is missing']\n",
      "WARNING:root:sweep 36: ['stim epoch is missing', 'experiment epoch is missing']\n",
      "WARNING:root:sweep 37: ['stim epoch is missing', 'experiment epoch is missing']\n",
      "WARNING:root:sweep 38: ['stim epoch is missing', 'experiment epoch is missing']\n",
      "WARNING:root:sweep 39: ['stim epoch is missing', 'experiment epoch is missing']\n",
      "WARNING:root:sweep 40: ['stim epoch is missing', 'experiment epoch is missing']\n",
      "WARNING:root:sweep 41: ['stim epoch is missing', 'experiment epoch is missing']\n",
      "WARNING:root:sweep 42: ['stim epoch is missing', 'experiment epoch is missing']\n",
      "WARNING:root:sweep 43: ['stim epoch is missing', 'experiment epoch is missing']\n",
      "WARNING:root:sweep 44: ['stim epoch is missing', 'experiment epoch is missing']\n",
      "WARNING:root:sweep 45: ['stim epoch is missing', 'experiment epoch is missing']\n",
      "WARNING:root:sweep 46: ['stim epoch is missing', 'experiment epoch is missing']\n",
      "WARNING:root:sweep 47: ['stim epoch is missing', 'experiment epoch is missing']\n",
      "WARNING:root:sweep 48: ['stim epoch is missing', 'experiment epoch is missing']\n",
      "WARNING:root:sweep 67: ['Recording stopped before completing the experiment epoch']\n",
      "WARNING:root:sweep 68: ['Recording stopped before completing the experiment epoch']\n"
     ]
    },
    {
     "name": "stdout",
     "output_type": "stream",
     "text": [
      " 336 Specimen ID: 760416458 | VISp5 | Sst-MET-6 | Sweep ID: 3 | Init. freq.: 100.00 Hz\n"
     ]
    },
    {
     "name": "stderr",
     "output_type": "stream",
     "text": [
      "WARNING:root:sweep 26: ['Recording stopped before completing the experiment epoch']\n"
     ]
    },
    {
     "name": "stdout",
     "output_type": "stream",
     "text": [
      " 337 Specimen ID: 760437219 | VISp2/3 | Vip-MET-5 | Sweep ID: 5 | Init. freq.: 137.74 Hz\n"
     ]
    },
    {
     "name": "stderr",
     "output_type": "stream",
     "text": [
      "WARNING:root:sweep 4: ['stim epoch is missing', 'experiment epoch is missing']\n",
      "WARNING:root:sweep 5: ['stim epoch is missing', 'experiment epoch is missing']\n",
      "WARNING:root:sweep 7: ['stim epoch is missing', 'experiment epoch is missing']\n",
      "WARNING:root:sweep 8: ['stim epoch is missing', 'experiment epoch is missing']\n",
      "WARNING:root:sweep 9: ['stim epoch is missing', 'experiment epoch is missing']\n",
      "WARNING:root:sweep 12: ['stim epoch is missing', 'experiment epoch is missing']\n",
      "WARNING:root:sweep 14: ['stim epoch is missing', 'experiment epoch is missing']\n",
      "WARNING:root:sweep 21: ['stim epoch is missing', 'experiment epoch is missing']\n"
     ]
    },
    {
     "name": "stdout",
     "output_type": "stream",
     "text": [
      " 338 Specimen ID: 760821319 | VISp6a | Sst-MET-10 | Sweep ID: 9 | Init. freq.: 36.74 Hz\n"
     ]
    },
    {
     "name": "stderr",
     "output_type": "stream",
     "text": [
      "WARNING:root:sweep 5: ['stim epoch is missing', 'experiment epoch is missing']\n",
      "WARNING:root:sweep 14: ['stim epoch is missing', 'experiment epoch is missing']\n",
      "WARNING:root:sweep 32: ['Recording stopped before completing the experiment epoch']\n"
     ]
    },
    {
     "name": "stdout",
     "output_type": "stream",
     "text": [
      " 339 Specimen ID: 760832993 | VISp6a | Sst-MET-12 | Sweep ID: 8 | Init. freq.: 41.32 Hz\n"
     ]
    },
    {
     "name": "stderr",
     "output_type": "stream",
     "text": [
      "WARNING:root:sweep 30: ['Recording stopped before completing the experiment epoch']\n",
      "WARNING:root:sweep 31: ['Recording stopped before completing the experiment epoch']\n",
      "WARNING:root:sweep 32: ['Recording stopped before completing the experiment epoch']\n",
      "WARNING:root:sweep 33: ['Recording stopped before completing the experiment epoch']\n",
      "WARNING:root:sweep 34: ['Recording stopped before completing the experiment epoch']\n",
      "WARNING:root:sweep 35: ['Recording stopped before completing the experiment epoch']\n",
      "WARNING:root:sweep 36: ['Recording stopped before completing the experiment epoch']\n"
     ]
    },
    {
     "name": "stdout",
     "output_type": "stream",
     "text": [
      " 340 Specimen ID: 760834631 | VISp4 | Sst-MET-3 | Sweep ID: 7 | Init. freq.: 51.33 Hz\n"
     ]
    },
    {
     "name": "stderr",
     "output_type": "stream",
     "text": [
      "WARNING:root:sweep 15: ['stim epoch is missing', 'experiment epoch is missing']\n",
      "WARNING:root:sweep 20: ['stim epoch is missing', 'experiment epoch is missing']\n"
     ]
    },
    {
     "name": "stdout",
     "output_type": "stream",
     "text": [
      " 341 Specimen ID: 760890074 | VISp2/3 | Vip-MET-1 | Sweep ID: 9 | Init. freq.: 86.66 Hz\n"
     ]
    },
    {
     "name": "stderr",
     "output_type": "stream",
     "text": [
      "WARNING:root:sweep 6: ['stim epoch is missing', 'experiment epoch is missing']\n",
      "WARNING:root:sweep 13: ['stim epoch is missing', 'experiment epoch is missing']\n",
      "WARNING:root:sweep 15: ['stim epoch is missing', 'experiment epoch is missing']\n",
      "WARNING:root:sweep 17: ['stim epoch is missing', 'experiment epoch is missing']\n",
      "WARNING:root:sweep 18: ['stim epoch is missing', 'experiment epoch is missing']\n",
      "WARNING:root:sweep 19: ['stim epoch is missing', 'experiment epoch is missing']\n",
      "WARNING:root:sweep 21: ['stim epoch is missing', 'experiment epoch is missing']\n",
      "WARNING:root:sweep 22: ['stim epoch is missing', 'experiment epoch is missing']\n",
      "WARNING:root:sweep 25: ['stim epoch is missing', 'experiment epoch is missing']\n",
      "WARNING:root:sweep 42: ['Recording stopped before completing the experiment epoch']\n",
      "WARNING:root:sweep 44: ['Recording stopped before completing the experiment epoch']\n"
     ]
    },
    {
     "name": "stdout",
     "output_type": "stream",
     "text": [
      " 342 Specimen ID: 760961855 | VISli4 | Sst-MET-3 | Sweep ID: 13 | Init. freq.: 49.31 Hz\n"
     ]
    },
    {
     "name": "stderr",
     "output_type": "stream",
     "text": [
      "WARNING:root:sweep 5: ['stim epoch is missing', 'experiment epoch is missing']\n",
      "WARNING:root:sweep 6: ['stim epoch is missing', 'experiment epoch is missing']\n",
      "WARNING:root:sweep 8: ['stim epoch is missing', 'experiment epoch is missing']\n",
      "WARNING:root:sweep 17: ['stim epoch is missing', 'experiment epoch is missing']\n",
      "WARNING:root:sweep 29: ['Recording stopped before completing the experiment epoch']\n",
      "WARNING:root:sweep 37: ['Recording stopped before completing the experiment epoch']\n",
      "WARNING:root:sweep 38: ['Recording stopped before completing the experiment epoch']\n",
      "WARNING:root:sweep 39: ['Recording stopped before completing the experiment epoch']\n",
      "WARNING:root:sweep 40: ['Recording stopped before completing the experiment epoch']\n",
      "WARNING:root:sweep 41: ['Recording stopped before completing the experiment epoch']\n"
     ]
    },
    {
     "name": "stdout",
     "output_type": "stream",
     "text": [
      " 343 Specimen ID: 761297232 | VISp4 | Vip-MET-2 | Sweep ID: 7 | Init. freq.: 41.74 Hz\n"
     ]
    },
    {
     "name": "stderr",
     "output_type": "stream",
     "text": [
      "WARNING:root:sweep 6: ['stim epoch is missing', 'experiment epoch is missing']\n",
      "WARNING:root:sweep 7: ['stim epoch is missing', 'experiment epoch is missing']\n",
      "WARNING:root:sweep 10: ['stim epoch is missing', 'experiment epoch is missing']\n",
      "WARNING:root:sweep 12: ['stim epoch is missing', 'experiment epoch is missing']\n",
      "WARNING:root:sweep 44: ['Recording stopped before completing the experiment epoch']\n",
      "WARNING:root:sweep 45: ['Recording stopped before completing the experiment epoch']\n",
      "WARNING:root:sweep 46: ['Recording stopped before completing the experiment epoch']\n",
      "WARNING:root:sweep 47: ['Recording stopped before completing the experiment epoch']\n",
      "WARNING:root:sweep 48: ['Recording stopped before completing the experiment epoch']\n"
     ]
    },
    {
     "name": "stdout",
     "output_type": "stream",
     "text": [
      " 344 Specimen ID: 761304075 | VISp4 | Vip-MET-1 | Sweep ID: 10 | Init. freq.: 58.07 Hz\n"
     ]
    },
    {
     "name": "stderr",
     "output_type": "stream",
     "text": [
      "WARNING:root:sweep 15: ['stim epoch is missing', 'experiment epoch is missing']\n"
     ]
    },
    {
     "name": "stdout",
     "output_type": "stream",
     "text": [
      " 345 Specimen ID: 761344650 | VISpm2/3 | Vip-MET-4 | Sweep ID: 8 | Init. freq.: 114.42 Hz\n"
     ]
    },
    {
     "name": "stderr",
     "output_type": "stream",
     "text": [
      "WARNING:root:sweep 16: ['stim epoch is missing', 'experiment epoch is missing']\n"
     ]
    },
    {
     "name": "stdout",
     "output_type": "stream",
     "text": [
      " 346 Specimen ID: 761409397 | VISl2/3 | Pvalb-MET-4 | Sweep ID: 8 | Init. freq.: 45.62 Hz\n"
     ]
    },
    {
     "name": "stderr",
     "output_type": "stream",
     "text": [
      "WARNING:root:sweep 17: ['stim epoch is missing', 'experiment epoch is missing']\n"
     ]
    },
    {
     "name": "stdout",
     "output_type": "stream",
     "text": [
      " 347 Specimen ID: 761429710 | VISp2/3 | Pvalb-MET-4 | Sweep ID: 9 | Init. freq.: 53.53 Hz\n"
     ]
    },
    {
     "name": "stderr",
     "output_type": "stream",
     "text": [
      "WARNING:root:sweep 4: ['stim epoch is missing', 'experiment epoch is missing']\n"
     ]
    },
    {
     "name": "stdout",
     "output_type": "stream",
     "text": [
      " 348 Specimen ID: 761820827 | VISal4 | Vip-MET-4 | Sweep ID: 8 | Init. freq.: 47.21 Hz\n"
     ]
    },
    {
     "name": "stderr",
     "output_type": "stream",
     "text": [
      "WARNING:root:sweep 6: ['stim epoch is missing', 'experiment epoch is missing']\n",
      "WARNING:root:sweep 7: ['stim epoch is missing', 'experiment epoch is missing']\n",
      "WARNING:root:sweep 13: ['stim epoch is missing', 'experiment epoch is missing']\n",
      "WARNING:root:sweep 15: ['stim epoch is missing', 'experiment epoch is missing']\n",
      "WARNING:root:sweep 31: ['Recording stopped before completing the experiment epoch']\n",
      "WARNING:root:sweep 32: ['Recording stopped before completing the experiment epoch']\n"
     ]
    },
    {
     "name": "stdout",
     "output_type": "stream",
     "text": [
      " 349 Specimen ID: 761822060 | VISp2/3 | Vip-MET-5 | Sweep ID: 3 | Init. freq.: 112.87 Hz\n",
      " 350 Specimen ID: 762590075 | VISp2/3 | Pvalb-MET-4 | Sweep ID: 8 | Init. freq.: 46.64 Hz\n",
      " 351 Specimen ID: 762757594 | VISp2/3 | Pvalb-MET-4 | Sweep ID: 8 | Init. freq.: 60.75 Hz\n"
     ]
    },
    {
     "name": "stderr",
     "output_type": "stream",
     "text": [
      "WARNING:root:sweep 40: ['Recording stopped before completing the experiment epoch']\n",
      "WARNING:root:sweep 49: ['Recording stopped before completing the experiment epoch']\n",
      "WARNING:root:sweep 50: ['Recording stopped before completing the experiment epoch']\n",
      "WARNING:root:sweep 51: ['Recording stopped before completing the experiment epoch']\n",
      "WARNING:root:sweep 52: ['Recording stopped before completing the experiment epoch']\n",
      "WARNING:root:sweep 53: ['Recording stopped before completing the experiment epoch']\n"
     ]
    },
    {
     "name": "stdout",
     "output_type": "stream",
     "text": [
      " 352 Specimen ID: 763378303 | VISpm5 | Pvalb-MET-3 | Sweep ID: 6 | Init. freq.: 130.55 Hz\n"
     ]
    },
    {
     "name": "stderr",
     "output_type": "stream",
     "text": [
      "WARNING:root:sweep 12: ['stim epoch is missing', 'experiment epoch is missing']\n",
      "WARNING:root:sweep 34: ['Recording stopped before completing the experiment epoch']\n",
      "WARNING:root:sweep 35: ['Recording stopped before completing the experiment epoch']\n",
      "WARNING:root:sweep 36: ['Recording stopped before completing the experiment epoch']\n",
      "WARNING:root:sweep 37: ['Recording stopped before completing the experiment epoch']\n",
      "WARNING:root:sweep 38: ['Recording stopped before completing the experiment epoch']\n"
     ]
    },
    {
     "name": "stdout",
     "output_type": "stream",
     "text": [
      " 353 Specimen ID: 763912380 | VISp5 | Sncg-MET-1 | Sweep ID: 5 | Init. freq.: 122.25 Hz\n"
     ]
    },
    {
     "name": "stderr",
     "output_type": "stream",
     "text": [
      "WARNING:root:sweep 10: ['stim epoch is missing', 'experiment epoch is missing']\n",
      "WARNING:root:sweep 16: ['stim epoch is missing', 'experiment epoch is missing']\n",
      "WARNING:root:sweep 17: ['stim epoch is missing', 'experiment epoch is missing']\n"
     ]
    },
    {
     "name": "stdout",
     "output_type": "stream",
     "text": [
      " 354 Specimen ID: 763952780 | VISp2/3 | Vip-MET-5 | Sweep ID: 8 | Init. freq.: 55.93 Hz\n"
     ]
    },
    {
     "name": "stderr",
     "output_type": "stream",
     "text": [
      "WARNING:root:sweep 9: ['stim epoch is missing', 'experiment epoch is missing']\n",
      "WARNING:root:sweep 38: ['Recording stopped before completing the experiment epoch']\n",
      "WARNING:root:sweep 39: ['Recording stopped before completing the experiment epoch']\n",
      "WARNING:root:sweep 40: ['Recording stopped before completing the experiment epoch']\n",
      "WARNING:root:sweep 41: ['Recording stopped before completing the experiment epoch']\n",
      "WARNING:root:sweep 42: ['Recording stopped before completing the experiment epoch']\n",
      "WARNING:root:sweep 47: ['Recording stopped before completing the experiment epoch']\n",
      "WARNING:root:sweep 64: ['Recording stopped before completing the experiment epoch']\n"
     ]
    },
    {
     "name": "stdout",
     "output_type": "stream",
     "text": [
      " 355 Specimen ID: 764341238 | VISp1 | Lamp5-MET-1 | Sweep ID: 10 | Init. freq.: 47.80 Hz\n",
      " 356 Specimen ID: 764391439 | VISli1 | Lamp5-MET-1 | Sweep ID: 7 | Init. freq.: 47.13 Hz\n"
     ]
    },
    {
     "name": "stderr",
     "output_type": "stream",
     "text": [
      "WARNING:root:sweep 36: ['Recording stopped before completing the experiment epoch']\n",
      "WARNING:root:sweep 37: ['Recording stopped before completing the experiment epoch']\n",
      "WARNING:root:sweep 38: ['Recording stopped before completing the experiment epoch']\n",
      "WARNING:root:sweep 39: ['Recording stopped before completing the experiment epoch']\n",
      "WARNING:root:sweep 40: ['Recording stopped before completing the experiment epoch']\n",
      "WARNING:root:sweep 44: ['Recording stopped before completing the experiment epoch']\n"
     ]
    },
    {
     "name": "stdout",
     "output_type": "stream",
     "text": [
      " 357 Specimen ID: 764726542 | VISp5 | Pvalb-MET-4 | Sweep ID: 7 | Init. freq.: 99.21 Hz\n"
     ]
    },
    {
     "name": "stderr",
     "output_type": "stream",
     "text": [
      "WARNING:root:sweep 115: ['Recording stopped before completing the experiment epoch']\n",
      "WARNING:root:sweep 116: ['Recording stopped before completing the experiment epoch']\n",
      "WARNING:root:sweep 117: ['Recording stopped before completing the experiment epoch']\n",
      "WARNING:root:sweep 118: ['Recording stopped before completing the experiment epoch']\n",
      "WARNING:root:sweep 119: ['Recording stopped before completing the experiment epoch']\n"
     ]
    },
    {
     "name": "stdout",
     "output_type": "stream",
     "text": [
      " 358 Specimen ID: 764872932 | VISp2/3 | Pvalb-MET-4 | Sweep ID: 28 | Init. freq.: 101.21 Hz\n"
     ]
    },
    {
     "name": "stderr",
     "output_type": "stream",
     "text": [
      "WARNING:root:sweep 4: ['stim epoch is missing', 'experiment epoch is missing']\n",
      "WARNING:root:sweep 6: ['stim epoch is missing', 'experiment epoch is missing']\n",
      "WARNING:root:sweep 9: ['stim epoch is missing', 'experiment epoch is missing']\n",
      "WARNING:root:sweep 18: ['stim epoch is missing', 'experiment epoch is missing']\n",
      "WARNING:root:sweep 26: ['stim epoch is missing', 'experiment epoch is missing']\n",
      "WARNING:root:sweep 37: ['Recording stopped before completing the experiment epoch']\n",
      "WARNING:root:sweep 39: ['Recording stopped before completing the experiment epoch']\n",
      "WARNING:root:sweep 40: ['Recording stopped before completing the experiment epoch']\n"
     ]
    },
    {
     "name": "stdout",
     "output_type": "stream",
     "text": [
      " 359 Specimen ID: 764879591 | VISp2/3 | Vip-MET-1 | Sweep ID: 12 | Init. freq.: 100.81 Hz\n"
     ]
    },
    {
     "name": "stderr",
     "output_type": "stream",
     "text": [
      "WARNING:root:sweep 20: ['stim epoch is missing', 'experiment epoch is missing']\n",
      "WARNING:root:sweep 29: ['stim epoch is missing', 'experiment epoch is missing']\n",
      "WARNING:root:sweep 47: ['Recording stopped before completing the experiment epoch']\n"
     ]
    },
    {
     "name": "stdout",
     "output_type": "stream",
     "text": [
      " 360 Specimen ID: 764896381 | VISp1 | Lamp5-MET-1 | Sweep ID: 12 | Init. freq.: 26.48 Hz\n"
     ]
    },
    {
     "name": "stderr",
     "output_type": "stream",
     "text": [
      "WARNING:root:sweep 43: ['Recording stopped before completing the experiment epoch']\n",
      "WARNING:root:sweep 44: ['Recording stopped before completing the experiment epoch']\n",
      "WARNING:root:sweep 45: ['Recording stopped before completing the experiment epoch']\n",
      "WARNING:root:sweep 46: ['Recording stopped before completing the experiment epoch']\n",
      "WARNING:root:sweep 47: ['Recording stopped before completing the experiment epoch']\n",
      "WARNING:root:sweep 50: ['Recording stopped before completing the experiment epoch']\n",
      "WARNING:root:sweep 52: ['Recording stopped before completing the experiment epoch']\n",
      "WARNING:root:sweep 53: ['Recording stopped before completing the experiment epoch']\n"
     ]
    },
    {
     "name": "stdout",
     "output_type": "stream",
     "text": [
      " 361 Specimen ID: 764897253 | VISp2/3 | Lamp5-MET-1 | Sweep ID: 9 | Init. freq.: 20.06 Hz\n"
     ]
    },
    {
     "name": "stderr",
     "output_type": "stream",
     "text": [
      "WARNING:root:sweep 27: ['stim epoch is missing', 'experiment epoch is missing']\n",
      "WARNING:root:sweep 44: ['Recording stopped before completing the experiment epoch']\n",
      "WARNING:root:sweep 52: ['Recording stopped before completing the experiment epoch']\n",
      "WARNING:root:sweep 53: ['Recording stopped before completing the experiment epoch']\n",
      "WARNING:root:sweep 54: ['Recording stopped before completing the experiment epoch']\n",
      "WARNING:root:sweep 55: ['Recording stopped before completing the experiment epoch']\n",
      "WARNING:root:sweep 56: ['Recording stopped before completing the experiment epoch']\n"
     ]
    },
    {
     "name": "stdout",
     "output_type": "stream",
     "text": [
      " 362 Specimen ID: 764901187 | VISpm4 | Lamp5-MET-1 | Sweep ID: 12 | Init. freq.: 101.42 Hz\n",
      " 363 Specimen ID: 764902677 | VISp1 | Lamp5-MET-1 | Sweep ID: 8 | Init. freq.: 43.59 Hz\n"
     ]
    },
    {
     "name": "stderr",
     "output_type": "stream",
     "text": [
      "WARNING:root:sweep 33: ['Recording stopped before completing the experiment epoch']\n"
     ]
    },
    {
     "name": "stdout",
     "output_type": "stream",
     "text": [
      " 364 Specimen ID: 764902707 | VISp2/3 | Lamp5-MET-1 | Sweep ID: 8 | Init. freq.: 16.87 Hz\n"
     ]
    },
    {
     "name": "stderr",
     "output_type": "stream",
     "text": [
      "WARNING:root:sweep 6: ['stim epoch is missing', 'experiment epoch is missing']\n",
      "WARNING:root:sweep 33: ['Recording stopped before completing the experiment epoch']\n"
     ]
    },
    {
     "name": "stdout",
     "output_type": "stream",
     "text": [
      " 365 Specimen ID: 766097293 | VISp5 | Pvalb-MET-3 | Sweep ID: 7 | Init. freq.: 91.24 Hz\n"
     ]
    },
    {
     "name": "stderr",
     "output_type": "stream",
     "text": [
      "WARNING:root:sweep 14: ['stim epoch is missing', 'experiment epoch is missing']\n",
      "WARNING:root:sweep 18: ['stim epoch is missing', 'experiment epoch is missing']\n",
      "WARNING:root:sweep 20: ['stim epoch is missing', 'experiment epoch is missing']\n",
      "WARNING:root:sweep 21: ['stim epoch is missing', 'experiment epoch is missing']\n",
      "WARNING:root:sweep 35: ['Recording stopped before completing the experiment epoch']\n",
      "WARNING:root:sweep 38: ['Recording stopped before completing the experiment epoch']\n",
      "WARNING:root:sweep 39: ['Recording stopped before completing the experiment epoch']\n"
     ]
    },
    {
     "name": "stdout",
     "output_type": "stream",
     "text": [
      " 366 Specimen ID: 766591236 | VISal5 | Sst-MET-9 | Sweep ID: 8 | Init. freq.: 29.53 Hz\n"
     ]
    },
    {
     "name": "stderr",
     "output_type": "stream",
     "text": [
      "WARNING:root:sweep 6: ['stim epoch is missing', 'experiment epoch is missing']\n",
      "WARNING:root:sweep 43: ['Recording stopped before completing the experiment epoch']\n",
      "WARNING:root:sweep 44: ['Recording stopped before completing the experiment epoch']\n",
      "WARNING:root:sweep 45: ['Recording stopped before completing the experiment epoch']\n",
      "WARNING:root:sweep 46: ['Recording stopped before completing the experiment epoch']\n",
      "WARNING:root:sweep 47: ['Recording stopped before completing the experiment epoch']\n"
     ]
    },
    {
     "name": "stdout",
     "output_type": "stream",
     "text": [
      " 367 Specimen ID: 768763533 | VISp6a | Sst-MET-12 | Sweep ID: 9 | Init. freq.: 44.84 Hz\n",
      " 368 Specimen ID: 770216620 | VISp4 | Sst-MET-8 | Sweep ID: 7 | Init. freq.: 42.52 Hz\n"
     ]
    },
    {
     "name": "stderr",
     "output_type": "stream",
     "text": [
      "WARNING:root:sweep 14: ['stim epoch is missing', 'experiment epoch is missing']\n",
      "WARNING:root:sweep 23: ['stim epoch is missing', 'experiment epoch is missing']\n",
      "WARNING:root:sweep 27: ['stim epoch is missing', 'experiment epoch is missing']\n",
      "WARNING:root:sweep 29: ['stim epoch is missing', 'experiment epoch is missing']\n"
     ]
    },
    {
     "name": "stdout",
     "output_type": "stream",
     "text": [
      " 369 Specimen ID: 770238836 | VISp5 | Sst-MET-5 | Sweep ID: 12 | Init. freq.: 100.60 Hz\n"
     ]
    },
    {
     "name": "stderr",
     "output_type": "stream",
     "text": [
      "WARNING:root:sweep 7: ['stim epoch is missing', 'experiment epoch is missing']\n",
      "WARNING:root:sweep 31: ['Recording stopped before completing the experiment epoch']\n",
      "WARNING:root:sweep 38: ['Recording stopped before completing the experiment epoch']\n",
      "WARNING:root:sweep 39: ['Recording stopped before completing the experiment epoch']\n",
      "WARNING:root:sweep 40: ['Recording stopped before completing the experiment epoch']\n",
      "WARNING:root:sweep 41: ['Recording stopped before completing the experiment epoch']\n",
      "WARNING:root:sweep 42: ['Recording stopped before completing the experiment epoch']\n"
     ]
    },
    {
     "name": "stdout",
     "output_type": "stream",
     "text": [
      " 370 Specimen ID: 778327002 | VISp4 | Vip-MET-1 | Sweep ID: 11 | Init. freq.: 63.05 Hz\n"
     ]
    },
    {
     "name": "stderr",
     "output_type": "stream",
     "text": [
      "WARNING:root:sweep 8: ['stim epoch is missing', 'experiment epoch is missing']\n",
      "WARNING:root:sweep 10: ['stim epoch is missing', 'experiment epoch is missing']\n",
      "WARNING:root:sweep 43: ['Recording stopped before completing the experiment epoch']\n",
      "WARNING:root:sweep 44: ['Recording stopped before completing the experiment epoch']\n",
      "WARNING:root:sweep 45: ['Recording stopped before completing the experiment epoch']\n",
      "WARNING:root:sweep 46: ['Recording stopped before completing the experiment epoch']\n",
      "WARNING:root:sweep 47: ['Recording stopped before completing the experiment epoch']\n"
     ]
    },
    {
     "name": "stdout",
     "output_type": "stream",
     "text": [
      " 371 Specimen ID: 779708399 | VISp5 | Sst-MET-12 | Sweep ID: 10 | Init. freq.: 60.17 Hz\n"
     ]
    },
    {
     "name": "stderr",
     "output_type": "stream",
     "text": [
      "WARNING:root:sweep 15: ['stim epoch is missing', 'experiment epoch is missing']\n",
      "WARNING:root:sweep 17: ['stim epoch is missing', 'experiment epoch is missing']\n",
      "WARNING:root:sweep 26: ['stim epoch is missing', 'experiment epoch is missing']\n",
      "WARNING:root:sweep 29: ['stim epoch is missing', 'experiment epoch is missing']\n",
      "WARNING:root:sweep 48: ['Recording stopped before completing the experiment epoch']\n"
     ]
    },
    {
     "name": "stdout",
     "output_type": "stream",
     "text": [
      " 372 Specimen ID: 780005520 | VISl4 | Sst-MET-7 | Sweep ID: 16 | Init. freq.: 76.69 Hz\n"
     ]
    },
    {
     "name": "stderr",
     "output_type": "stream",
     "text": [
      "WARNING:root:sweep 4: ['stim epoch is missing', 'experiment epoch is missing']\n",
      "WARNING:root:sweep 5: ['stim epoch is missing', 'experiment epoch is missing']\n",
      "WARNING:root:sweep 6: ['stim epoch is missing', 'experiment epoch is missing']\n",
      "WARNING:root:sweep 7: ['stim epoch is missing', 'experiment epoch is missing']\n",
      "WARNING:root:sweep 40: ['Recording stopped before completing the experiment epoch']\n",
      "WARNING:root:sweep 41: ['Recording stopped before completing the experiment epoch']\n",
      "WARNING:root:sweep 42: ['Recording stopped before completing the experiment epoch']\n",
      "WARNING:root:sweep 43: ['Recording stopped before completing the experiment epoch']\n",
      "WARNING:root:sweep 44: ['Recording stopped before completing the experiment epoch']\n"
     ]
    },
    {
     "name": "stdout",
     "output_type": "stream",
     "text": [
      " 373 Specimen ID: 786135798 | VISp5 | Sst-MET-1 | Sweep ID: 10 | Init. freq.: 31.85 Hz\n"
     ]
    },
    {
     "name": "stderr",
     "output_type": "stream",
     "text": [
      "WARNING:root:sweep 4: ['stim epoch is missing', 'experiment epoch is missing']\n",
      "WARNING:root:sweep 5: ['stim epoch is missing', 'experiment epoch is missing']\n",
      "WARNING:root:sweep 7: ['stim epoch is missing', 'experiment epoch is missing']\n",
      "WARNING:root:sweep 11: ['stim epoch is missing', 'experiment epoch is missing']\n",
      "WARNING:root:sweep 22: ['stim epoch is missing', 'experiment epoch is missing']\n",
      "WARNING:root:sweep 24: ['stim epoch is missing', 'experiment epoch is missing']\n",
      "WARNING:root:sweep 26: ['stim epoch is missing', 'experiment epoch is missing']\n",
      "WARNING:root:sweep 41: ['Recording stopped before completing the experiment epoch']\n",
      "WARNING:root:sweep 48: ['Recording stopped before completing the experiment epoch']\n",
      "WARNING:root:sweep 49: ['Recording stopped before completing the experiment epoch']\n",
      "WARNING:root:sweep 59: ['Recording stopped before completing the experiment epoch']\n",
      "WARNING:root:sweep 60: ['Recording stopped before completing the experiment epoch']\n",
      "WARNING:root:sweep 61: ['Recording stopped before completing the experiment epoch']\n",
      "WARNING:root:sweep 62: ['Recording stopped before completing the experiment epoch']\n",
      "WARNING:root:sweep 63: ['Recording stopped before completing the experiment epoch']\n",
      "WARNING:root:sweep 67: ['Recording stopped before completing the experiment epoch']\n"
     ]
    },
    {
     "name": "stdout",
     "output_type": "stream",
     "text": [
      " 374 Specimen ID: 786176775 | VISp5 | Sst-MET-1 | Sweep ID: 15 | Init. freq.: 43.59 Hz\n"
     ]
    },
    {
     "name": "stderr",
     "output_type": "stream",
     "text": [
      "WARNING:root:sweep 45: ['Recording stopped before completing the experiment epoch']\n",
      "WARNING:root:sweep 46: ['Recording stopped before completing the experiment epoch']\n",
      "WARNING:root:sweep 47: ['Recording stopped before completing the experiment epoch']\n",
      "WARNING:root:sweep 48: ['Recording stopped before completing the experiment epoch']\n",
      "WARNING:root:sweep 49: ['Recording stopped before completing the experiment epoch']\n",
      "WARNING:root:sweep 53: ['Recording stopped before completing the experiment epoch']\n",
      "WARNING:root:sweep 54: ['Recording stopped before completing the experiment epoch']\n",
      "WARNING:root:sweep 55: ['Recording stopped before completing the experiment epoch']\n",
      "WARNING:root:sweep 56: ['Recording stopped before completing the experiment epoch']\n",
      "WARNING:root:sweep 57: ['Recording stopped before completing the experiment epoch']\n",
      "WARNING:root:sweep 58: ['Recording stopped before completing the experiment epoch']\n",
      "WARNING:root:sweep 59: ['Recording stopped before completing the experiment epoch']\n",
      "WARNING:root:sweep 60: ['Recording stopped before completing the experiment epoch']\n",
      "WARNING:root:sweep 61: ['Recording stopped before completing the experiment epoch']\n",
      "WARNING:root:sweep 62: ['Recording stopped before completing the experiment epoch']\n"
     ]
    },
    {
     "name": "stdout",
     "output_type": "stream",
     "text": [
      " 375 Specimen ID: 786228558 | VISp2/3 | Pvalb-MET-4 | Sweep ID: 10 | Init. freq.: 51.76 Hz\n"
     ]
    },
    {
     "name": "stderr",
     "output_type": "stream",
     "text": [
      "WARNING:root:sweep 5: ['stim epoch is missing', 'experiment epoch is missing']\n",
      "WARNING:root:sweep 11: ['stim epoch is missing', 'experiment epoch is missing']\n",
      "WARNING:root:sweep 38: ['Recording stopped before completing the experiment epoch']\n",
      "WARNING:root:sweep 39: ['Recording stopped before completing the experiment epoch']\n",
      "WARNING:root:sweep 45: ['Recording stopped before completing the experiment epoch']\n",
      "WARNING:root:sweep 46: ['Recording stopped before completing the experiment epoch']\n",
      "WARNING:root:sweep 47: ['Recording stopped before completing the experiment epoch']\n",
      "WARNING:root:sweep 48: ['Recording stopped before completing the experiment epoch']\n",
      "WARNING:root:sweep 49: ['Recording stopped before completing the experiment epoch']\n"
     ]
    },
    {
     "name": "stdout",
     "output_type": "stream",
     "text": [
      " 376 Specimen ID: 788296224 | VISp4 | Sst-MET-3 | Sweep ID: 11 | Init. freq.: 48.83 Hz\n",
      " 377 Specimen ID: 795530674 | VISp5 | Sst-MET-13 | Sweep ID: 10 | Init. freq.: 35.16 Hz\n"
     ]
    },
    {
     "name": "stderr",
     "output_type": "stream",
     "text": [
      "WARNING:root:sweep 4: ['stim epoch is missing', 'experiment epoch is missing']\n",
      "WARNING:root:sweep 33: ['Recording stopped before completing the experiment epoch']\n",
      "WARNING:root:sweep 34: ['Recording stopped before completing the experiment epoch']\n",
      "WARNING:root:sweep 35: ['Recording stopped before completing the experiment epoch']\n",
      "WARNING:root:sweep 36: ['Recording stopped before completing the experiment epoch']\n",
      "WARNING:root:sweep 38: ['Recording stopped before completing the experiment epoch']\n",
      "WARNING:root:sweep 41: ['Recording stopped before completing the experiment epoch']\n",
      "WARNING:root:sweep 42: ['Recording stopped before completing the experiment epoch']\n",
      "WARNING:root:sweep 43: ['Recording stopped before completing the experiment epoch']\n",
      "WARNING:root:sweep 44: ['Recording stopped before completing the experiment epoch']\n",
      "WARNING:root:sweep 46: ['Recording stopped before completing the experiment epoch']\n",
      "WARNING:root:sweep 47: ['Recording stopped before completing the experiment epoch']\n",
      "WARNING:root:sweep 49: ['Recording stopped before completing the experiment epoch']\n",
      "WARNING:root:sweep 50: ['Recording stopped before completing the experiment epoch']\n",
      "WARNING:root:sweep 52: ['Recording stopped before completing the experiment epoch']\n",
      "WARNING:root:sweep 53: ['Recording stopped before completing the experiment epoch']\n",
      "WARNING:root:sweep 54: ['Recording stopped before completing the experiment epoch']\n",
      "WARNING:root:sweep 55: ['Recording stopped before completing the experiment epoch']\n",
      "WARNING:root:sweep 56: ['Recording stopped before completing the experiment epoch']\n",
      "WARNING:root:sweep 65: ['Recording stopped before completing the experiment epoch']\n",
      "WARNING:root:sweep 66: ['Recording stopped before completing the experiment epoch']\n",
      "WARNING:root:sweep 67: ['Recording stopped before completing the experiment epoch']\n",
      "WARNING:root:sweep 68: ['Recording stopped before completing the experiment epoch']\n",
      "WARNING:root:sweep 69: ['Recording stopped before completing the experiment epoch']\n",
      "WARNING:root:sweep 74: ['Recording stopped before completing the experiment epoch']\n",
      "WARNING:root:sweep 75: ['Recording stopped before completing the experiment epoch']\n"
     ]
    },
    {
     "name": "stdout",
     "output_type": "stream",
     "text": [
      " 378 Specimen ID: 795563325 | VISp2/3 | Sst-MET-2 | Sweep ID: 9 | Init. freq.: 41.60 Hz\n"
     ]
    },
    {
     "name": "stderr",
     "output_type": "stream",
     "text": [
      "WARNING:root:sweep 34: ['Recording stopped before completing the experiment epoch']\n",
      "WARNING:root:sweep 35: ['Recording stopped before completing the experiment epoch']\n",
      "WARNING:root:sweep 36: ['Recording stopped before completing the experiment epoch']\n",
      "WARNING:root:sweep 37: ['Recording stopped before completing the experiment epoch']\n",
      "WARNING:root:sweep 38: ['Recording stopped before completing the experiment epoch']\n"
     ]
    },
    {
     "name": "stdout",
     "output_type": "stream",
     "text": [
      " 379 Specimen ID: 795572082 | VISp6a | Sst-MET-12 | Sweep ID: 9 | Init. freq.: 52.36 Hz\n"
     ]
    },
    {
     "name": "stderr",
     "output_type": "stream",
     "text": [
      "WARNING:root:sweep 36: ['Recording stopped before completing the experiment epoch']\n",
      "WARNING:root:sweep 37: ['Recording stopped before completing the experiment epoch']\n",
      "WARNING:root:sweep 38: ['Recording stopped before completing the experiment epoch']\n",
      "WARNING:root:sweep 39: ['Recording stopped before completing the experiment epoch']\n",
      "WARNING:root:sweep 40: ['Recording stopped before completing the experiment epoch']\n",
      "WARNING:root:sweep 44: ['Recording stopped before completing the experiment epoch']\n",
      "WARNING:root:sweep 45: ['Recording stopped before completing the experiment epoch']\n",
      "WARNING:root:sweep 47: ['Recording stopped before completing the experiment epoch']\n",
      "WARNING:root:sweep 53: ['Recording stopped before completing the experiment epoch']\n"
     ]
    },
    {
     "name": "stdout",
     "output_type": "stream",
     "text": [
      " 380 Specimen ID: 795844214 | VISpm6a | Sst-MET-13 | Sweep ID: 10 | Init. freq.: 50.76 Hz\n"
     ]
    },
    {
     "name": "stderr",
     "output_type": "stream",
     "text": [
      "WARNING:root:sweep 34: ['Recording stopped before completing the experiment epoch']\n",
      "WARNING:root:sweep 35: ['Recording stopped before completing the experiment epoch']\n",
      "WARNING:root:sweep 36: ['Recording stopped before completing the experiment epoch']\n",
      "WARNING:root:sweep 37: ['Recording stopped before completing the experiment epoch']\n",
      "WARNING:root:sweep 38: ['Recording stopped before completing the experiment epoch']\n",
      "WARNING:root:sweep 43: ['Recording stopped before completing the experiment epoch']\n"
     ]
    },
    {
     "name": "stdout",
     "output_type": "stream",
     "text": [
      " 381 Specimen ID: 796666943 | VISp2/3 | Vip-MET-1 | Sweep ID: 11 | Init. freq.: 111.86 Hz\n"
     ]
    },
    {
     "name": "stderr",
     "output_type": "stream",
     "text": [
      "WARNING:root:sweep 4: ['stim epoch is missing', 'experiment epoch is missing']\n",
      "WARNING:root:sweep 6: ['stim epoch is missing', 'experiment epoch is missing']\n",
      "WARNING:root:sweep 16: ['stim epoch is missing', 'experiment epoch is missing']\n",
      "WARNING:root:sweep 18: ['stim epoch is missing', 'experiment epoch is missing']\n",
      "WARNING:root:sweep 19: ['stim epoch is missing', 'experiment epoch is missing']\n",
      "WARNING:root:sweep 22: ['stim epoch is missing', 'experiment epoch is missing']\n"
     ]
    },
    {
     "name": "stdout",
     "output_type": "stream",
     "text": [
      " 382 Specimen ID: 797664123 | VISl2/3 | Vip-MET-1 | Sweep ID: 13 | Init. freq.: 94.16 Hz\n"
     ]
    },
    {
     "name": "stderr",
     "output_type": "stream",
     "text": [
      "WARNING:root:sweep 43: ['stim epoch is missing', 'experiment epoch is missing']\n",
      "WARNING:root:sweep 78: ['stim epoch is missing', 'experiment epoch is missing']\n",
      "WARNING:root:sweep 111: ['stim epoch is missing', 'experiment epoch is missing']\n",
      "WARNING:root:sweep 127: ['stim epoch is missing', 'experiment epoch is missing']\n",
      "WARNING:root:sweep 161: ['Recording stopped before completing the experiment epoch']\n",
      "WARNING:root:sweep 162: ['Recording stopped before completing the experiment epoch']\n",
      "WARNING:root:sweep 163: ['Recording stopped before completing the experiment epoch']\n",
      "WARNING:root:sweep 164: ['Recording stopped before completing the experiment epoch']\n",
      "WARNING:root:sweep 165: ['Recording stopped before completing the experiment epoch']\n",
      "WARNING:root:sweep 169: ['Recording stopped before completing the experiment epoch']\n",
      "WARNING:root:sweep 170: ['Recording stopped before completing the experiment epoch']\n"
     ]
    },
    {
     "name": "stdout",
     "output_type": "stream",
     "text": [
      " 383 Specimen ID: 797722932 | VISp2/3 | Vip-MET-5 | Sweep ID: 8 | Init. freq.: 107.53 Hz\n"
     ]
    },
    {
     "name": "stderr",
     "output_type": "stream",
     "text": [
      "WARNING:root:sweep 4: ['stim epoch is missing', 'experiment epoch is missing']\n",
      "WARNING:root:sweep 5: ['stim epoch is missing', 'experiment epoch is missing']\n",
      "WARNING:root:sweep 16: ['stim epoch is missing', 'experiment epoch is missing']\n",
      "WARNING:root:sweep 20: ['stim epoch is missing', 'experiment epoch is missing']\n",
      "WARNING:root:sweep 26: ['stim epoch is missing', 'experiment epoch is missing']\n",
      "WARNING:root:sweep 28: ['stim epoch is missing', 'experiment epoch is missing']\n",
      "WARNING:root:sweep 29: ['stim epoch is missing', 'experiment epoch is missing']\n",
      "WARNING:root:sweep 30: ['stim epoch is missing', 'experiment epoch is missing']\n",
      "WARNING:root:sweep 33: ['stim epoch is missing', 'experiment epoch is missing']\n",
      "WARNING:root:sweep 35: ['stim epoch is missing', 'experiment epoch is missing']\n",
      "WARNING:root:sweep 37: ['stim epoch is missing', 'experiment epoch is missing']\n",
      "WARNING:root:sweep 41: ['stim epoch is missing', 'experiment epoch is missing']\n",
      "WARNING:root:sweep 43: ['stim epoch is missing', 'experiment epoch is missing']\n",
      "WARNING:root:sweep 44: ['stim epoch is missing', 'experiment epoch is missing']\n",
      "WARNING:root:sweep 45: ['stim epoch is missing', 'experiment epoch is missing']\n",
      "WARNING:root:sweep 46: ['stim epoch is missing', 'experiment epoch is missing']\n",
      "WARNING:root:sweep 47: ['stim epoch is missing', 'experiment epoch is missing']\n",
      "WARNING:root:sweep 48: ['stim epoch is missing', 'experiment epoch is missing']\n",
      "WARNING:root:sweep 49: ['stim epoch is missing', 'experiment epoch is missing']\n",
      "WARNING:root:sweep 52: ['stim epoch is missing', 'experiment epoch is missing']\n",
      "WARNING:root:sweep 53: ['stim epoch is missing', 'experiment epoch is missing']\n",
      "WARNING:root:sweep 66: ['Recording stopped before completing the experiment epoch']\n"
     ]
    },
    {
     "name": "stdout",
     "output_type": "stream",
     "text": [
      " 384 Specimen ID: 799776604 | VISp2/3 | Sncg-MET-2 | Sweep ID: 7 | Init. freq.: 98.43 Hz\n"
     ]
    },
    {
     "name": "stderr",
     "output_type": "stream",
     "text": [
      "WARNING:root:sweep 5: ['stim epoch is missing', 'experiment epoch is missing']\n",
      "WARNING:root:sweep 43: ['Recording stopped before completing the experiment epoch']\n",
      "WARNING:root:sweep 44: ['Recording stopped before completing the experiment epoch']\n",
      "WARNING:root:sweep 45: ['Recording stopped before completing the experiment epoch']\n",
      "WARNING:root:sweep 46: ['Recording stopped before completing the experiment epoch']\n",
      "WARNING:root:sweep 47: ['Recording stopped before completing the experiment epoch']\n",
      "WARNING:root:sweep 52: ['Recording stopped before completing the experiment epoch']\n"
     ]
    },
    {
     "name": "stdout",
     "output_type": "stream",
     "text": [
      " 385 Specimen ID: 803605276 | VISp6a | Sst-MET-12 | Sweep ID: 11 | Init. freq.: 65.96 Hz\n"
     ]
    },
    {
     "name": "stderr",
     "output_type": "stream",
     "text": [
      "WARNING:root:sweep 18: ['stim epoch is missing', 'experiment epoch is missing']\n",
      "WARNING:root:sweep 45: ['Recording stopped before completing the experiment epoch']\n",
      "WARNING:root:sweep 46: ['Recording stopped before completing the experiment epoch']\n",
      "WARNING:root:sweep 47: ['Recording stopped before completing the experiment epoch']\n",
      "WARNING:root:sweep 48: ['Recording stopped before completing the experiment epoch']\n",
      "WARNING:root:sweep 49: ['Recording stopped before completing the experiment epoch']\n"
     ]
    },
    {
     "name": "stdout",
     "output_type": "stream",
     "text": [
      " 386 Specimen ID: 804968066 | VISp2/3 | Sst-MET-8 | Sweep ID: 10 | Init. freq.: 40.68 Hz\n"
     ]
    },
    {
     "name": "stderr",
     "output_type": "stream",
     "text": [
      "WARNING:root:sweep 5: ['stim epoch is missing', 'experiment epoch is missing']\n",
      "WARNING:root:sweep 16: ['stim epoch is missing', 'experiment epoch is missing']\n",
      "WARNING:root:sweep 31: ['Recording stopped before completing the experiment epoch']\n",
      "WARNING:root:sweep 38: ['Recording stopped before completing the experiment epoch']\n",
      "WARNING:root:sweep 39: ['Recording stopped before completing the experiment epoch']\n",
      "WARNING:root:sweep 40: ['Recording stopped before completing the experiment epoch']\n",
      "WARNING:root:sweep 41: ['Recording stopped before completing the experiment epoch']\n",
      "WARNING:root:sweep 42: ['Recording stopped before completing the experiment epoch']\n"
     ]
    },
    {
     "name": "stdout",
     "output_type": "stream",
     "text": [
      " 387 Specimen ID: 804977071 | VISp2/3 | Vip-MET-2 | Sweep ID: 9 | Init. freq.: 42.96 Hz\n"
     ]
    },
    {
     "name": "stderr",
     "output_type": "stream",
     "text": [
      "WARNING:root:sweep 19: ['stim epoch is missing', 'experiment epoch is missing']\n",
      "WARNING:root:sweep 22: ['stim epoch is missing', 'experiment epoch is missing']\n",
      "WARNING:root:sweep 25: ['stim epoch is missing', 'experiment epoch is missing']\n",
      "WARNING:root:sweep 26: ['stim epoch is missing', 'experiment epoch is missing']\n",
      "WARNING:root:sweep 27: ['stim epoch is missing', 'experiment epoch is missing']\n",
      "WARNING:root:sweep 28: ['stim epoch is missing', 'experiment epoch is missing']\n",
      "WARNING:root:sweep 31: ['stim epoch is missing', 'experiment epoch is missing']\n",
      "WARNING:root:sweep 32: ['stim epoch is missing', 'experiment epoch is missing']\n",
      "WARNING:root:sweep 35: ['stim epoch is missing', 'experiment epoch is missing']\n",
      "WARNING:root:sweep 36: ['stim epoch is missing', 'experiment epoch is missing']\n",
      "WARNING:root:sweep 38: ['stim epoch is missing', 'experiment epoch is missing']\n",
      "WARNING:root:sweep 39: ['stim epoch is missing', 'experiment epoch is missing']\n",
      "WARNING:root:sweep 41: ['stim epoch is missing', 'experiment epoch is missing']\n",
      "WARNING:root:sweep 54: ['Recording stopped before completing the experiment epoch']\n",
      "WARNING:root:sweep 56: ['Recording stopped before completing the experiment epoch']\n",
      "WARNING:root:sweep 57: ['Recording stopped before completing the experiment epoch']\n",
      "WARNING:root:sweep 74: ['Recording stopped before completing the experiment epoch']\n",
      "WARNING:root:sweep 75: ['Recording stopped before completing the experiment epoch']\n",
      "WARNING:root:sweep 83: ['Recording stopped before completing the experiment epoch']\n",
      "WARNING:root:sweep 84: ['Recording stopped before completing the experiment epoch']\n",
      "WARNING:root:sweep 85: ['Recording stopped before completing the experiment epoch']\n",
      "WARNING:root:sweep 86: ['Recording stopped before completing the experiment epoch']\n",
      "WARNING:root:sweep 87: ['Recording stopped before completing the experiment epoch']\n",
      "WARNING:root:sweep 92: ['Recording stopped before completing the experiment epoch']\n",
      "WARNING:root:sweep 93: ['Recording stopped before completing the experiment epoch']\n",
      "WARNING:root:sweep 94: ['Recording stopped before completing the experiment epoch']\n"
     ]
    },
    {
     "name": "stdout",
     "output_type": "stream",
     "text": [
      " 388 Specimen ID: 805584825 | VISp5 | Sst-MET-4 | Sweep ID: 20 | Init. freq.: 50.51 Hz\n"
     ]
    },
    {
     "name": "stderr",
     "output_type": "stream",
     "text": [
      "WARNING:root:sweep 54: ['stim epoch is missing', 'experiment epoch is missing']\n"
     ]
    },
    {
     "name": "stdout",
     "output_type": "stream",
     "text": [
      " 389 Specimen ID: 808285808 | VISp6a | Sst-MET-12 | Sweep ID: 9 | Init. freq.: 34.60 Hz\n",
      " 390 Specimen ID: 808475329 | VISp5 | Pvalb-MET-4 | Sweep ID: 9 | Init. freq.: 95.42 Hz\n"
     ]
    },
    {
     "name": "stderr",
     "output_type": "stream",
     "text": [
      "WARNING:root:sweep 6: ['stim epoch is missing', 'experiment epoch is missing']\n",
      "WARNING:root:sweep 13: ['stim epoch is missing', 'experiment epoch is missing']\n",
      "WARNING:root:sweep 18: ['stim epoch is missing', 'experiment epoch is missing']\n",
      "WARNING:root:sweep 31: ['Recording stopped before completing the experiment epoch']\n",
      "WARNING:root:sweep 39: ['Recording stopped before completing the experiment epoch']\n",
      "WARNING:root:sweep 40: ['Recording stopped before completing the experiment epoch']\n",
      "WARNING:root:sweep 41: ['Recording stopped before completing the experiment epoch']\n",
      "WARNING:root:sweep 42: ['Recording stopped before completing the experiment epoch']\n",
      "WARNING:root:sweep 43: ['Recording stopped before completing the experiment epoch']\n",
      "WARNING:root:sweep 44: ['Recording stopped before completing the experiment epoch']\n",
      "WARNING:root:sweep 45: ['Recording stopped before completing the experiment epoch']\n"
     ]
    },
    {
     "name": "stdout",
     "output_type": "stream",
     "text": [
      " 391 Specimen ID: 808537562 | VISl5 | Sst-MET-4 | Sweep ID: 9 | Init. freq.: 54.53 Hz\n"
     ]
    },
    {
     "name": "stderr",
     "output_type": "stream",
     "text": [
      "WARNING:root:sweep 36: ['stim epoch is missing', 'experiment epoch is missing']\n"
     ]
    },
    {
     "name": "stdout",
     "output_type": "stream",
     "text": [
      " 392 Specimen ID: 808824183 | VISp5 | Sst-MET-9 | Sweep ID: 20 | Init. freq.: 64.94 Hz\n"
     ]
    },
    {
     "name": "stderr",
     "output_type": "stream",
     "text": [
      "WARNING:root:sweep 8: ['stim epoch is missing', 'experiment epoch is missing']\n",
      "WARNING:root:sweep 12: ['stim epoch is missing', 'experiment epoch is missing']\n",
      "WARNING:root:sweep 20: ['stim epoch is missing', 'experiment epoch is missing']\n",
      "WARNING:root:sweep 23: ['stim epoch is missing', 'experiment epoch is missing']\n",
      "WARNING:root:sweep 24: ['stim epoch is missing', 'experiment epoch is missing']\n",
      "WARNING:root:sweep 41: ['stim epoch is missing', 'experiment epoch is missing']\n",
      "WARNING:root:sweep 43: ['stim epoch is missing', 'experiment epoch is missing']\n",
      "WARNING:root:sweep 53: ['Recording stopped before completing the experiment epoch']\n",
      "WARNING:root:sweep 54: ['Recording stopped before completing the experiment epoch']\n",
      "WARNING:root:sweep 55: ['Recording stopped before completing the experiment epoch']\n",
      "WARNING:root:sweep 56: ['Recording stopped before completing the experiment epoch']\n",
      "WARNING:root:sweep 57: ['Recording stopped before completing the experiment epoch']\n",
      "WARNING:root:sweep 62: ['Recording stopped before completing the experiment epoch']\n",
      "WARNING:root:sweep 63: ['Recording stopped before completing the experiment epoch']\n"
     ]
    },
    {
     "name": "stdout",
     "output_type": "stream",
     "text": [
      " 393 Specimen ID: 808875776 | VISp5 | Sst-MET-7 | Sweep ID: 20 | Init. freq.: 57.14 Hz\n"
     ]
    },
    {
     "name": "stderr",
     "output_type": "stream",
     "text": [
      "WARNING:root:sweep 8: ['stim epoch is missing', 'experiment epoch is missing']\n",
      "WARNING:root:sweep 44: ['Recording stopped before completing the experiment epoch']\n",
      "WARNING:root:sweep 45: ['Recording stopped before completing the experiment epoch']\n",
      "WARNING:root:sweep 46: ['Recording stopped before completing the experiment epoch']\n",
      "WARNING:root:sweep 47: ['Recording stopped before completing the experiment epoch']\n",
      "WARNING:root:sweep 48: ['Recording stopped before completing the experiment epoch']\n"
     ]
    },
    {
     "name": "stdout",
     "output_type": "stream",
     "text": [
      " 394 Specimen ID: 808882292 | VISp6a | Sst-MET-13 | Sweep ID: 11 | Init. freq.: 29.53 Hz\n"
     ]
    },
    {
     "name": "stderr",
     "output_type": "stream",
     "text": [
      "WARNING:root:sweep 40: ['Recording stopped before completing the experiment epoch']\n",
      "WARNING:root:sweep 41: ['Recording stopped before completing the experiment epoch']\n",
      "WARNING:root:sweep 42: ['Recording stopped before completing the experiment epoch']\n",
      "WARNING:root:sweep 43: ['Recording stopped before completing the experiment epoch']\n",
      "WARNING:root:sweep 44: ['Recording stopped before completing the experiment epoch']\n",
      "WARNING:root:sweep 48: ['Recording stopped before completing the experiment epoch']\n"
     ]
    },
    {
     "name": "stdout",
     "output_type": "stream",
     "text": [
      " 395 Specimen ID: 809006343 | VISp2/3 | Pvalb-MET-4 | Sweep ID: 11 | Init. freq.: 55.62 Hz\n"
     ]
    },
    {
     "name": "stderr",
     "output_type": "stream",
     "text": [
      "WARNING:root:sweep 7: ['stim epoch is missing', 'experiment epoch is missing']\n",
      "WARNING:root:sweep 13: ['stim epoch is missing', 'experiment epoch is missing']\n",
      "WARNING:root:sweep 35: ['Recording stopped before completing the experiment epoch']\n",
      "WARNING:root:sweep 36: ['Recording stopped before completing the experiment epoch']\n",
      "WARNING:root:sweep 37: ['Recording stopped before completing the experiment epoch']\n",
      "WARNING:root:sweep 38: ['Recording stopped before completing the experiment epoch']\n",
      "WARNING:root:sweep 39: ['Recording stopped before completing the experiment epoch']\n"
     ]
    },
    {
     "name": "stdout",
     "output_type": "stream",
     "text": [
      " 396 Specimen ID: 809113087 | VISp5 | Sst-MET-5 | Sweep ID: 6 | Init. freq.: 121.95 Hz\n"
     ]
    },
    {
     "name": "stderr",
     "output_type": "stream",
     "text": [
      "WARNING:root:sweep 16: ['stim epoch is missing', 'experiment epoch is missing']\n",
      "WARNING:root:sweep 41: ['Recording stopped before completing the experiment epoch']\n",
      "WARNING:root:sweep 42: ['Recording stopped before completing the experiment epoch']\n",
      "WARNING:root:sweep 43: ['Recording stopped before completing the experiment epoch']\n",
      "WARNING:root:sweep 44: ['Recording stopped before completing the experiment epoch']\n",
      "WARNING:root:sweep 45: ['Recording stopped before completing the experiment epoch']\n",
      "WARNING:root:sweep 50: ['Recording stopped before completing the experiment epoch']\n",
      "WARNING:root:sweep 51: ['Recording stopped before completing the experiment epoch']\n"
     ]
    },
    {
     "name": "stdout",
     "output_type": "stream",
     "text": [
      " 397 Specimen ID: 809338969 | VISp4 | Sst-MET-3 | Sweep ID: 9 | Init. freq.: 46.34 Hz\n"
     ]
    },
    {
     "name": "stderr",
     "output_type": "stream",
     "text": [
      "WARNING:root:sweep 7: ['stim epoch is missing', 'experiment epoch is missing']\n",
      "WARNING:root:sweep 21: ['stim epoch is missing', 'experiment epoch is missing']\n",
      "WARNING:root:sweep 33: ['stim epoch is missing', 'experiment epoch is missing']\n",
      "WARNING:root:sweep 62: ['Recording stopped before completing the experiment epoch']\n",
      "WARNING:root:sweep 63: ['Recording stopped before completing the experiment epoch']\n",
      "WARNING:root:sweep 64: ['Recording stopped before completing the experiment epoch']\n",
      "WARNING:root:sweep 65: ['Recording stopped before completing the experiment epoch']\n",
      "WARNING:root:sweep 66: ['Recording stopped before completing the experiment epoch']\n"
     ]
    },
    {
     "name": "stdout",
     "output_type": "stream",
     "text": [
      " 398 Specimen ID: 809649556 | VISp2/3 | Pvalb-MET-4 | Sweep ID: 15 | Init. freq.: 45.54 Hz\n"
     ]
    },
    {
     "name": "stderr",
     "output_type": "stream",
     "text": [
      "WARNING:root:sweep 4: ['stim epoch is missing', 'experiment epoch is missing']\n",
      "WARNING:root:sweep 5: ['stim epoch is missing', 'experiment epoch is missing']\n",
      "WARNING:root:sweep 6: ['stim epoch is missing', 'experiment epoch is missing']\n",
      "WARNING:root:sweep 7: ['stim epoch is missing', 'experiment epoch is missing']\n",
      "WARNING:root:sweep 8: ['stim epoch is missing', 'experiment epoch is missing']\n",
      "WARNING:root:sweep 10: ['stim epoch is missing', 'experiment epoch is missing']\n",
      "WARNING:root:sweep 11: ['stim epoch is missing', 'experiment epoch is missing']\n",
      "WARNING:root:sweep 15: ['stim epoch is missing', 'experiment epoch is missing']\n",
      "WARNING:root:sweep 24: ['stim epoch is missing', 'experiment epoch is missing']\n",
      "WARNING:root:sweep 30: ['stim epoch is missing', 'experiment epoch is missing']\n",
      "WARNING:root:sweep 43: ['Recording stopped before completing the experiment epoch']\n"
     ]
    },
    {
     "name": "stdout",
     "output_type": "stream",
     "text": [
      " 399 Specimen ID: 809688289 | VISp2/3 | Vip-MET-5 | Sweep ID: 6 | Init. freq.: 143.27 Hz\n"
     ]
    },
    {
     "name": "stderr",
     "output_type": "stream",
     "text": [
      "WARNING:root:sweep 14: ['stim epoch is missing', 'experiment epoch is missing']\n"
     ]
    },
    {
     "name": "stdout",
     "output_type": "stream",
     "text": [
      " 400 Specimen ID: 810317285 | VISp5 | Sst-MET-9 | Sweep ID: 10 | Init. freq.: 54.23 Hz\n"
     ]
    },
    {
     "name": "stderr",
     "output_type": "stream",
     "text": [
      "WARNING:root:sweep 5: ['stim epoch is missing', 'experiment epoch is missing']\n",
      "WARNING:root:sweep 7: ['stim epoch is missing', 'experiment epoch is missing']\n",
      "WARNING:root:sweep 18: ['stim epoch is missing', 'experiment epoch is missing']\n",
      "WARNING:root:sweep 20: ['stim epoch is missing', 'experiment epoch is missing']\n",
      "WARNING:root:sweep 23: ['stim epoch is missing', 'experiment epoch is missing']\n",
      "WARNING:root:sweep 26: ['stim epoch is missing', 'experiment epoch is missing']\n"
     ]
    },
    {
     "name": "stdout",
     "output_type": "stream",
     "text": [
      " 401 Specimen ID: 812996960 | VISl5 | Sst-MET-11 | Sweep ID: 15 | Init. freq.: 47.57 Hz\n"
     ]
    },
    {
     "name": "stderr",
     "output_type": "stream",
     "text": [
      "WARNING:root:sweep 16: ['stim epoch is missing', 'experiment epoch is missing']\n"
     ]
    },
    {
     "name": "stdout",
     "output_type": "stream",
     "text": [
      " 402 Specimen ID: 813500978 | VISp2/3 | Vip-MET-1 | Sweep ID: 10 | Init. freq.: 89.45 Hz\n"
     ]
    },
    {
     "name": "stderr",
     "output_type": "stream",
     "text": [
      "WARNING:root:sweep 7: ['stim epoch is missing', 'experiment epoch is missing']\n",
      "WARNING:root:sweep 8: ['stim epoch is missing', 'experiment epoch is missing']\n",
      "WARNING:root:sweep 9: ['stim epoch is missing', 'experiment epoch is missing']\n",
      "WARNING:root:sweep 10: ['stim epoch is missing', 'experiment epoch is missing']\n",
      "WARNING:root:sweep 11: ['stim epoch is missing', 'experiment epoch is missing']\n",
      "WARNING:root:sweep 12: ['stim epoch is missing', 'experiment epoch is missing']\n",
      "WARNING:root:sweep 13: ['stim epoch is missing', 'experiment epoch is missing']\n",
      "WARNING:root:sweep 14: ['stim epoch is missing', 'experiment epoch is missing']\n",
      "WARNING:root:sweep 15: ['stim epoch is missing', 'experiment epoch is missing']\n",
      "WARNING:root:sweep 16: ['stim epoch is missing', 'experiment epoch is missing']\n"
     ]
    },
    {
     "name": "stdout",
     "output_type": "stream",
     "text": [
      " 403 Specimen ID: 816012073 | VISp6a | Sst-MET-12 | Sweep ID: 10 | Init. freq.: 36.42 Hz\n"
     ]
    },
    {
     "name": "stderr",
     "output_type": "stream",
     "text": [
      "WARNING:root:sweep 18: ['stim epoch is missing', 'experiment epoch is missing']\n",
      "WARNING:root:sweep 38: ['Recording stopped before completing the experiment epoch']\n",
      "WARNING:root:sweep 39: ['Recording stopped before completing the experiment epoch']\n",
      "WARNING:root:sweep 40: ['Recording stopped before completing the experiment epoch']\n",
      "WARNING:root:sweep 41: ['Recording stopped before completing the experiment epoch']\n",
      "WARNING:root:sweep 42: ['Recording stopped before completing the experiment epoch']\n"
     ]
    },
    {
     "name": "stdout",
     "output_type": "stream",
     "text": [
      " 404 Specimen ID: 816434177 | VISl6a | Sst-MET-1 | Sweep ID: 11 | Init. freq.: 38.26 Hz\n"
     ]
    },
    {
     "name": "stderr",
     "output_type": "stream",
     "text": [
      "WARNING:root:sweep 8: ['stim epoch is missing', 'experiment epoch is missing']\n",
      "WARNING:root:sweep 13: ['test epoch is missing']\n",
      "WARNING:root:sweep 14: ['test epoch is missing']\n",
      "WARNING:root:sweep 15: ['test epoch is missing']\n",
      "WARNING:root:sweep 16: ['test epoch is missing']\n",
      "WARNING:root:sweep 17: ['test epoch is missing']\n",
      "WARNING:root:sweep 18: ['test epoch is missing']\n",
      "WARNING:root:sweep 32: ['stim epoch is missing', 'experiment epoch is missing']\n"
     ]
    },
    {
     "name": "stdout",
     "output_type": "stream",
     "text": [
      " 405 Specimen ID: 817935092 | VISp5 | Pvalb-MET-3 | Sweep ID: 11 | Init. freq.: 65.96 Hz\n"
     ]
    },
    {
     "name": "stderr",
     "output_type": "stream",
     "text": [
      "WARNING:root:sweep 42: ['Recording stopped before completing the experiment epoch']\n",
      "WARNING:root:sweep 43: ['Recording stopped before completing the experiment epoch']\n",
      "WARNING:root:sweep 44: ['Recording stopped before completing the experiment epoch']\n",
      "WARNING:root:sweep 45: ['Recording stopped before completing the experiment epoch']\n",
      "WARNING:root:sweep 46: ['Recording stopped before completing the experiment epoch']\n",
      "WARNING:root:sweep 50: ['Recording stopped before completing the experiment epoch']\n",
      "WARNING:root:sweep 51: ['Recording stopped before completing the experiment epoch']\n",
      "WARNING:root:sweep 52: ['Recording stopped before completing the experiment epoch']\n"
     ]
    },
    {
     "name": "stdout",
     "output_type": "stream",
     "text": [
      " 406 Specimen ID: 818792182 | VISp6a | Pvalb-MET-4 | Sweep ID: 9 | Init. freq.: 105.71 Hz\n"
     ]
    },
    {
     "name": "stderr",
     "output_type": "stream",
     "text": [
      "WARNING:root:sweep 15: ['stim epoch is missing', 'experiment epoch is missing']\n"
     ]
    },
    {
     "name": "stdout",
     "output_type": "stream",
     "text": [
      " 407 Specimen ID: 820754704 | VISp2/3 | Sst-MET-2 | Sweep ID: 13 | Init. freq.: 66.76 Hz\n",
      " 408 Specimen ID: 820897104 | VISp5 | Pvalb-MET-3 | Sweep ID: 10 | Init. freq.: 57.34 Hz\n"
     ]
    },
    {
     "name": "stderr",
     "output_type": "stream",
     "text": [
      "WARNING:root:sweep 13: ['stim epoch is missing', 'experiment epoch is missing']\n",
      "WARNING:root:sweep 14: ['stim epoch is missing', 'experiment epoch is missing']\n",
      "WARNING:root:sweep 19: ['stim epoch is missing', 'experiment epoch is missing']\n",
      "WARNING:root:sweep 33: ['Recording stopped before completing the experiment epoch']\n",
      "WARNING:root:sweep 34: ['Recording stopped before completing the experiment epoch']\n",
      "WARNING:root:sweep 35: ['Recording stopped before completing the experiment epoch']\n",
      "WARNING:root:sweep 36: ['Recording stopped before completing the experiment epoch']\n",
      "WARNING:root:sweep 37: ['Recording stopped before completing the experiment epoch']\n",
      "WARNING:root:sweep 38: ['Recording stopped before completing the experiment epoch']\n"
     ]
    },
    {
     "name": "stdout",
     "output_type": "stream",
     "text": [
      " 409 Specimen ID: 821563005 | VISp6a | Pvalb-MET-2 | Sweep ID: 8 | Init. freq.: 97.66 Hz\n"
     ]
    },
    {
     "name": "stderr",
     "output_type": "stream",
     "text": [
      "WARNING:root:sweep 7: ['stim epoch is missing', 'experiment epoch is missing']\n",
      "WARNING:root:sweep 8: ['stim epoch is missing', 'experiment epoch is missing']\n",
      "WARNING:root:sweep 10: ['stim epoch is missing', 'experiment epoch is missing']\n",
      "WARNING:root:sweep 11: ['stim epoch is missing', 'experiment epoch is missing']\n",
      "WARNING:root:sweep 12: ['stim epoch is missing', 'experiment epoch is missing']\n",
      "WARNING:root:sweep 13: ['stim epoch is missing', 'experiment epoch is missing']\n",
      "WARNING:root:sweep 14: ['stim epoch is missing', 'experiment epoch is missing']\n",
      "WARNING:root:sweep 15: ['stim epoch is missing', 'experiment epoch is missing']\n",
      "WARNING:root:sweep 17: ['stim epoch is missing', 'experiment epoch is missing']\n",
      "WARNING:root:sweep 18: ['stim epoch is missing', 'experiment epoch is missing']\n",
      "WARNING:root:sweep 19: ['stim epoch is missing', 'experiment epoch is missing']\n",
      "WARNING:root:sweep 20: ['stim epoch is missing', 'experiment epoch is missing']\n",
      "WARNING:root:sweep 21: ['stim epoch is missing', 'experiment epoch is missing']\n",
      "WARNING:root:sweep 22: ['stim epoch is missing', 'experiment epoch is missing']\n",
      "WARNING:root:sweep 28: ['stim epoch is missing', 'experiment epoch is missing']\n",
      "WARNING:root:sweep 29: ['stim epoch is missing', 'experiment epoch is missing']\n",
      "WARNING:root:sweep 30: ['stim epoch is missing', 'experiment epoch is missing']\n",
      "WARNING:root:sweep 32: ['stim epoch is missing', 'experiment epoch is missing']\n",
      "WARNING:root:sweep 34: ['stim epoch is missing', 'experiment epoch is missing']\n",
      "WARNING:root:sweep 36: ['stim epoch is missing', 'experiment epoch is missing']\n",
      "WARNING:root:sweep 38: ['stim epoch is missing', 'experiment epoch is missing']\n",
      "WARNING:root:sweep 40: ['stim epoch is missing', 'experiment epoch is missing']\n",
      "WARNING:root:sweep 42: ['stim epoch is missing', 'experiment epoch is missing']\n",
      "WARNING:root:sweep 45: ['stim epoch is missing', 'experiment epoch is missing']\n",
      "WARNING:root:sweep 47: ['stim epoch is missing', 'experiment epoch is missing']\n",
      "WARNING:root:sweep 52: ['stim epoch is missing', 'experiment epoch is missing']\n",
      "WARNING:root:sweep 54: ['stim epoch is missing', 'experiment epoch is missing']\n",
      "WARNING:root:sweep 70: ['stim epoch is missing', 'experiment epoch is missing']\n",
      "WARNING:root:sweep 71: ['stim epoch is missing', 'experiment epoch is missing']\n"
     ]
    },
    {
     "name": "stdout",
     "output_type": "stream",
     "text": [
      " 410 Specimen ID: 821771315 | VISl5 | Sst-MET-6 | Sweep ID: 35 | Init. freq.: 93.11 Hz\n"
     ]
    },
    {
     "name": "stderr",
     "output_type": "stream",
     "text": [
      "WARNING:root:sweep 6: ['stim epoch is missing', 'experiment epoch is missing']\n",
      "WARNING:root:sweep 7: ['stim epoch is missing', 'experiment epoch is missing']\n",
      "WARNING:root:sweep 8: ['stim epoch is missing', 'experiment epoch is missing']\n",
      "WARNING:root:sweep 9: ['stim epoch is missing', 'experiment epoch is missing']\n",
      "WARNING:root:sweep 11: ['stim epoch is missing', 'experiment epoch is missing']\n",
      "WARNING:root:sweep 13: ['stim epoch is missing', 'experiment epoch is missing']\n",
      "WARNING:root:sweep 14: ['stim epoch is missing', 'experiment epoch is missing']\n",
      "WARNING:root:sweep 15: ['stim epoch is missing', 'experiment epoch is missing']\n",
      "WARNING:root:sweep 18: ['stim epoch is missing', 'experiment epoch is missing']\n",
      "WARNING:root:sweep 20: ['stim epoch is missing', 'experiment epoch is missing']\n",
      "WARNING:root:sweep 30: ['stim epoch is missing', 'experiment epoch is missing']\n",
      "WARNING:root:sweep 45: ['Recording stopped before completing the experiment epoch']\n",
      "WARNING:root:sweep 55: ['Recording stopped before completing the experiment epoch']\n",
      "WARNING:root:sweep 56: ['Recording stopped before completing the experiment epoch']\n",
      "WARNING:root:sweep 57: ['Recording stopped before completing the experiment epoch']\n",
      "WARNING:root:sweep 58: ['Recording stopped before completing the experiment epoch']\n",
      "WARNING:root:sweep 59: ['Recording stopped before completing the experiment epoch']\n"
     ]
    },
    {
     "name": "stdout",
     "output_type": "stream",
     "text": [
      " 411 Specimen ID: 821774757 | VISl5 | Sst-MET-5 | Sweep ID: 8 | Init. freq.: 145.35 Hz\n"
     ]
    },
    {
     "name": "stderr",
     "output_type": "stream",
     "text": [
      "WARNING:root:sweep 16: ['stim epoch is missing', 'experiment epoch is missing']\n",
      "WARNING:root:sweep 35: ['Recording stopped before completing the experiment epoch']\n"
     ]
    },
    {
     "name": "stdout",
     "output_type": "stream",
     "text": [
      " 412 Specimen ID: 821788449 | VISp5 | Sst-MET-5 | Sweep ID: 7 | Init. freq.: 93.63 Hz\n"
     ]
    },
    {
     "name": "stderr",
     "output_type": "stream",
     "text": [
      "WARNING:root:sweep 5: ['stim epoch is missing', 'experiment epoch is missing']\n",
      "WARNING:root:sweep 17: ['stim epoch is missing', 'experiment epoch is missing']\n",
      "WARNING:root:sweep 25: ['stim epoch is missing', 'experiment epoch is missing']\n"
     ]
    },
    {
     "name": "stdout",
     "output_type": "stream",
     "text": [
      " 413 Specimen ID: 821907565 | VISp5 | Pvalb-MET-4 | Sweep ID: 11 | Init. freq.: 65.02 Hz\n"
     ]
    },
    {
     "name": "stderr",
     "output_type": "stream",
     "text": [
      "WARNING:root:sweep 18: ['stim epoch is missing', 'experiment epoch is missing']\n",
      "WARNING:root:sweep 35: ['stim epoch is missing', 'experiment epoch is missing']\n",
      "WARNING:root:sweep 41: ['stim epoch is missing', 'experiment epoch is missing']\n",
      "WARNING:root:sweep 58: ['Recording stopped before completing the experiment epoch']\n",
      "WARNING:root:sweep 67: ['Recording stopped before completing the experiment epoch']\n",
      "WARNING:root:sweep 68: ['Recording stopped before completing the experiment epoch']\n",
      "WARNING:root:sweep 69: ['Recording stopped before completing the experiment epoch']\n"
     ]
    },
    {
     "name": "stdout",
     "output_type": "stream",
     "text": [
      " 414 Specimen ID: 823253200 | VISp2/3 | Sst-MET-2 | Sweep ID: 15 | Init. freq.: 91.24 Hz\n"
     ]
    },
    {
     "name": "stderr",
     "output_type": "stream",
     "text": [
      "WARNING:root:sweep 8: ['stim epoch is missing', 'experiment epoch is missing']\n",
      "WARNING:root:sweep 15: ['stim epoch is missing', 'experiment epoch is missing']\n"
     ]
    },
    {
     "name": "stdout",
     "output_type": "stream",
     "text": [
      " 415 Specimen ID: 823681740 | VISp2/3 | Lamp5-MET-1 | Sweep ID: 11 | Init. freq.: 14.18 Hz\n"
     ]
    },
    {
     "name": "stderr",
     "output_type": "stream",
     "text": [
      "WARNING:root:sweep 6: ['stim epoch is missing', 'experiment epoch is missing']\n",
      "WARNING:root:sweep 7: ['stim epoch is missing', 'experiment epoch is missing']\n",
      "WARNING:root:sweep 21: ['stim epoch is missing', 'experiment epoch is missing']\n",
      "WARNING:root:sweep 26: ['stim epoch is missing', 'experiment epoch is missing']\n",
      "WARNING:root:sweep 40: ['Recording stopped before completing the experiment epoch']\n"
     ]
    },
    {
     "name": "stdout",
     "output_type": "stream",
     "text": [
      " 416 Specimen ID: 823702943 | VISp2/3 | Pvalb-MET-5 | Sweep ID: 12 | Init. freq.: 67.39 Hz\n"
     ]
    },
    {
     "name": "stderr",
     "output_type": "stream",
     "text": [
      "WARNING:root:sweep 8: ['stim epoch is missing', 'experiment epoch is missing']\n"
     ]
    },
    {
     "name": "stdout",
     "output_type": "stream",
     "text": [
      " 417 Specimen ID: 823719680 | VISp1 | Lamp5-MET-1 | Sweep ID: 11 | Init. freq.: 81.57 Hz\n"
     ]
    },
    {
     "name": "stderr",
     "output_type": "stream",
     "text": [
      "WARNING:root:sweep 17: ['stim epoch is missing', 'experiment epoch is missing']\n",
      "WARNING:root:sweep 24: ['stim epoch is missing', 'experiment epoch is missing']\n",
      "WARNING:root:sweep 45: ['Recording stopped before completing the experiment epoch']\n",
      "WARNING:root:sweep 46: ['Recording stopped before completing the experiment epoch']\n",
      "WARNING:root:sweep 47: ['Recording stopped before completing the experiment epoch']\n",
      "WARNING:root:sweep 48: ['Recording stopped before completing the experiment epoch']\n",
      "WARNING:root:sweep 49: ['Recording stopped before completing the experiment epoch']\n"
     ]
    },
    {
     "name": "stdout",
     "output_type": "stream",
     "text": [
      " 418 Specimen ID: 823830483 | VISp2/3 | Pvalb-MET-4 | Sweep ID: 12 | Init. freq.: 64.02 Hz\n"
     ]
    },
    {
     "name": "stderr",
     "output_type": "stream",
     "text": [
      "WARNING:root:sweep 43: ['Recording stopped before completing the experiment epoch']\n",
      "WARNING:root:sweep 44: ['Recording stopped before completing the experiment epoch']\n",
      "WARNING:root:sweep 45: ['Recording stopped before completing the experiment epoch']\n",
      "WARNING:root:sweep 46: ['Recording stopped before completing the experiment epoch']\n",
      "WARNING:root:sweep 47: ['Recording stopped before completing the experiment epoch']\n"
     ]
    },
    {
     "name": "stdout",
     "output_type": "stream",
     "text": [
      " 419 Specimen ID: 825269133 | VISp5 | Pvalb-MET-3 | Sweep ID: 8 | Init. freq.: 88.81 Hz\n",
      " 420 Specimen ID: 825522397 | VISp4 | Lamp5-MET-1 | Sweep ID: 9 | Init. freq.: 23.79 Hz\n"
     ]
    },
    {
     "name": "stderr",
     "output_type": "stream",
     "text": [
      "WARNING:root:sweep 7: ['stim epoch is missing', 'experiment epoch is missing']\n",
      "WARNING:root:sweep 39: ['Recording stopped before completing the experiment epoch']\n",
      "WARNING:root:sweep 40: ['Recording stopped before completing the experiment epoch']\n",
      "WARNING:root:sweep 41: ['Recording stopped before completing the experiment epoch']\n",
      "WARNING:root:sweep 42: ['Recording stopped before completing the experiment epoch']\n",
      "WARNING:root:sweep 43: ['Recording stopped before completing the experiment epoch']\n",
      "WARNING:root:sweep 44: ['Recording stopped before completing the experiment epoch']\n",
      "WARNING:root:sweep 45: ['Recording stopped before completing the experiment epoch']\n"
     ]
    },
    {
     "name": "stdout",
     "output_type": "stream",
     "text": [
      " 421 Specimen ID: 825549510 | VISp1 | Lamp5-MET-1 | Sweep ID: 10 | Init. freq.: 22.97 Hz\n"
     ]
    },
    {
     "name": "stderr",
     "output_type": "stream",
     "text": [
      "WARNING:root:sweep 15: ['stim epoch is missing', 'experiment epoch is missing']\n",
      "WARNING:root:sweep 22: ['stim epoch is missing', 'experiment epoch is missing']\n",
      "WARNING:root:sweep 26: ['stim epoch is missing', 'experiment epoch is missing']\n",
      "WARNING:root:sweep 39: ['Recording stopped before completing the experiment epoch']\n"
     ]
    },
    {
     "name": "stdout",
     "output_type": "stream",
     "text": [
      " 422 Specimen ID: 826712572 | VISp1 | Lamp5-MET-1 | Sweep ID: 13 | Init. freq.: 45.09 Hz\n"
     ]
    },
    {
     "name": "stderr",
     "output_type": "stream",
     "text": [
      "WARNING:root:sweep 7: ['stim epoch is missing', 'experiment epoch is missing']\n",
      "WARNING:root:sweep 49: ['Recording stopped before completing the experiment epoch']\n",
      "WARNING:root:sweep 50: ['Recording stopped before completing the experiment epoch']\n",
      "WARNING:root:sweep 51: ['Recording stopped before completing the experiment epoch']\n",
      "WARNING:root:sweep 52: ['Recording stopped before completing the experiment epoch']\n",
      "WARNING:root:sweep 53: ['Recording stopped before completing the experiment epoch']\n",
      "WARNING:root:sweep 58: ['Recording stopped before completing the experiment epoch']\n",
      "WARNING:root:sweep 59: ['Recording stopped before completing the experiment epoch']\n"
     ]
    },
    {
     "name": "stdout",
     "output_type": "stream",
     "text": [
      " 423 Specimen ID: 827347629 | VISp2/3 | Lamp5-MET-1 | Sweep ID: 10 | Init. freq.: 22.07 Hz\n"
     ]
    },
    {
     "name": "stderr",
     "output_type": "stream",
     "text": [
      "WARNING:root:sweep 40: ['Recording stopped before completing the experiment epoch']\n",
      "WARNING:root:sweep 41: ['Recording stopped before completing the experiment epoch']\n",
      "WARNING:root:sweep 42: ['stim epoch is missing', 'experiment epoch is missing']\n"
     ]
    },
    {
     "name": "stdout",
     "output_type": "stream",
     "text": [
      " 424 Specimen ID: 827447865 | VISl2/3 | Lamp5-MET-1 | Sweep ID: 10 | Init. freq.: 28.79 Hz\n"
     ]
    },
    {
     "name": "stderr",
     "output_type": "stream",
     "text": [
      "WARNING:root:sweep 4: ['stim epoch is missing', 'experiment epoch is missing']\n",
      "WARNING:root:sweep 5: ['stim epoch is missing', 'experiment epoch is missing']\n"
     ]
    },
    {
     "name": "stdout",
     "output_type": "stream",
     "text": [
      " 425 Specimen ID: 827524052 | VISp1 | Lamp5-MET-1 | Sweep ID: 10 | Init. freq.: 33.56 Hz\n"
     ]
    },
    {
     "name": "stderr",
     "output_type": "stream",
     "text": [
      "WARNING:root:sweep 36: ['Recording stopped before completing the experiment epoch']\n",
      "WARNING:root:sweep 37: ['Recording stopped before completing the experiment epoch']\n",
      "WARNING:root:sweep 38: ['Recording stopped before completing the experiment epoch']\n",
      "WARNING:root:sweep 39: ['Recording stopped before completing the experiment epoch']\n",
      "WARNING:root:sweep 40: ['Recording stopped before completing the experiment epoch']\n",
      "WARNING:root:sweep 41: ['Recording stopped before completing the experiment epoch']\n"
     ]
    },
    {
     "name": "stdout",
     "output_type": "stream",
     "text": [
      " 426 Specimen ID: 827573535 | VISp1 | Lamp5-MET-1 | Sweep ID: 9 | Init. freq.: 49.75 Hz\n"
     ]
    },
    {
     "name": "stderr",
     "output_type": "stream",
     "text": [
      "WARNING:root:sweep 38: ['Recording stopped before completing the experiment epoch']\n",
      "WARNING:root:sweep 39: ['Recording stopped before completing the experiment epoch']\n",
      "WARNING:root:sweep 40: ['Recording stopped before completing the experiment epoch']\n",
      "WARNING:root:sweep 41: ['Recording stopped before completing the experiment epoch']\n",
      "WARNING:root:sweep 42: ['Recording stopped before completing the experiment epoch']\n",
      "WARNING:root:sweep 43: ['Recording stopped before completing the experiment epoch']\n"
     ]
    },
    {
     "name": "stdout",
     "output_type": "stream",
     "text": [
      " 427 Specimen ID: 828803869 | VISp1 | Lamp5-MET-1 | Sweep ID: 9 | Init. freq.: 28.95 Hz\n"
     ]
    },
    {
     "name": "stderr",
     "output_type": "stream",
     "text": [
      "WARNING:root:sweep 15: ['stim epoch is missing', 'experiment epoch is missing']\n",
      "WARNING:root:sweep 19: ['stim epoch is missing', 'experiment epoch is missing']\n",
      "WARNING:root:sweep 24: ['stim epoch is missing', 'experiment epoch is missing']\n"
     ]
    },
    {
     "name": "stdout",
     "output_type": "stream",
     "text": [
      " 428 Specimen ID: 829185764 | VISp5 | Vip-MET-4 | Sweep ID: 12 | Init. freq.: 56.95 Hz\n"
     ]
    },
    {
     "name": "stderr",
     "output_type": "stream",
     "text": [
      "WARNING:root:sweep 14: ['stim epoch is missing', 'experiment epoch is missing']\n",
      "WARNING:root:sweep 34: ['Recording stopped before completing the experiment epoch']\n",
      "WARNING:root:sweep 35: ['Recording stopped before completing the experiment epoch']\n",
      "WARNING:root:sweep 36: ['Recording stopped before completing the experiment epoch']\n",
      "WARNING:root:sweep 37: ['Recording stopped before completing the experiment epoch']\n",
      "WARNING:root:sweep 38: ['Recording stopped before completing the experiment epoch']\n"
     ]
    },
    {
     "name": "stdout",
     "output_type": "stream",
     "text": [
      " 429 Specimen ID: 829195312 | VISpm2/3 | Vip-MET-5 | Sweep ID: 8 | Init. freq.: 95.60 Hz\n"
     ]
    },
    {
     "name": "stderr",
     "output_type": "stream",
     "text": [
      "WARNING:root:sweep 14: ['stim epoch is missing', 'experiment epoch is missing']\n",
      "WARNING:root:sweep 16: ['stim epoch is missing', 'experiment epoch is missing']\n",
      "WARNING:root:sweep 23: ['stim epoch is missing', 'experiment epoch is missing']\n",
      "WARNING:root:sweep 25: ['stim epoch is missing', 'experiment epoch is missing']\n"
     ]
    },
    {
     "name": "stdout",
     "output_type": "stream",
     "text": [
      " 430 Specimen ID: 830434392 | VISp4 | Sncg-MET-1 | Sweep ID: 10 | Init. freq.: 46.99 Hz\n"
     ]
    },
    {
     "name": "stderr",
     "output_type": "stream",
     "text": [
      "WARNING:root:sweep 5: ['stim epoch is missing', 'experiment epoch is missing']\n",
      "WARNING:root:sweep 8: ['stim epoch is missing', 'experiment epoch is missing']\n",
      "WARNING:root:sweep 10: ['stim epoch is missing', 'experiment epoch is missing']\n",
      "WARNING:root:sweep 13: ['stim epoch is missing', 'experiment epoch is missing']\n"
     ]
    },
    {
     "name": "stdout",
     "output_type": "stream",
     "text": [
      " 431 Specimen ID: 836844418 | VISp2/3 | Vip-MET-1 | Sweep ID: 12 | Init. freq.: 97.66 Hz\n"
     ]
    },
    {
     "name": "stderr",
     "output_type": "stream",
     "text": [
      "WARNING:root:sweep 41: ['Recording stopped before completing the experiment epoch']\n"
     ]
    },
    {
     "name": "stdout",
     "output_type": "stream",
     "text": [
      " 432 Specimen ID: 837594867 | VISp4 | Pvalb-MET-4 | Sweep ID: 11 | Init. freq.: 56.50 Hz\n"
     ]
    },
    {
     "name": "stderr",
     "output_type": "stream",
     "text": [
      "WARNING:root:sweep 8: ['stim epoch is missing', 'experiment epoch is missing']\n",
      "WARNING:root:sweep 15: ['stim epoch is missing', 'experiment epoch is missing']\n",
      "WARNING:root:sweep 16: ['stim epoch is missing', 'experiment epoch is missing']\n",
      "WARNING:root:sweep 34: ['Recording stopped before completing the experiment epoch']\n",
      "WARNING:root:sweep 35: ['Recording stopped before completing the experiment epoch']\n",
      "WARNING:root:sweep 47: ['Recording stopped before completing the experiment epoch']\n",
      "WARNING:root:sweep 48: ['Recording stopped before completing the experiment epoch']\n",
      "WARNING:root:sweep 49: ['Recording stopped before completing the experiment epoch']\n",
      "WARNING:root:sweep 50: ['Recording stopped before completing the experiment epoch']\n",
      "WARNING:root:sweep 51: ['Recording stopped before completing the experiment epoch']\n",
      "WARNING:root:sweep 56: ['Recording stopped before completing the experiment epoch']\n",
      "WARNING:root:sweep 57: ['Recording stopped before completing the experiment epoch']\n",
      "WARNING:root:sweep 58: ['Recording stopped before completing the experiment epoch']\n"
     ]
    },
    {
     "name": "stdout",
     "output_type": "stream",
     "text": [
      " 433 Specimen ID: 841718359 | VISpm4 | Sst-MET-3 | Sweep ID: 11 | Init. freq.: 27.47 Hz\n"
     ]
    },
    {
     "name": "stderr",
     "output_type": "stream",
     "text": [
      "WARNING:root:sweep 5: ['Recording stopped before completing the experiment epoch']\n",
      "WARNING:root:sweep 20: ['stim epoch is missing', 'experiment epoch is missing']\n",
      "WARNING:root:sweep 21: ['stim epoch is missing', 'experiment epoch is missing']\n",
      "WARNING:root:sweep 23: ['stim epoch is missing', 'experiment epoch is missing']\n",
      "WARNING:root:sweep 31: ['stim epoch is missing', 'experiment epoch is missing']\n",
      "WARNING:root:sweep 37: ['stim epoch is missing', 'experiment epoch is missing']\n",
      "WARNING:root:sweep 39: ['stim epoch is missing', 'experiment epoch is missing']\n"
     ]
    },
    {
     "name": "stdout",
     "output_type": "stream",
     "text": [
      " 434 Specimen ID: 841834394 | VISl2/3 | Sst-MET-3 | Sweep ID: 10 | Init. freq.: 31.21 Hz\n"
     ]
    },
    {
     "name": "stderr",
     "output_type": "stream",
     "text": [
      "WARNING:root:sweep 19: ['stim epoch is missing', 'experiment epoch is missing']\n",
      "WARNING:root:sweep 48: ['Recording stopped before completing the experiment epoch']\n",
      "WARNING:root:sweep 49: ['Recording stopped before completing the experiment epoch']\n",
      "WARNING:root:sweep 50: ['Recording stopped before completing the experiment epoch']\n",
      "WARNING:root:sweep 51: ['Recording stopped before completing the experiment epoch']\n",
      "WARNING:root:sweep 52: ['Recording stopped before completing the experiment epoch']\n",
      "WARNING:root:sweep 56: ['Recording stopped before completing the experiment epoch']\n",
      "WARNING:root:sweep 58: ['Recording stopped before completing the experiment epoch']\n",
      "WARNING:root:sweep 59: ['Recording stopped before completing the experiment epoch']\n"
     ]
    },
    {
     "name": "stdout",
     "output_type": "stream",
     "text": [
      " 435 Specimen ID: 842841654 | VISp1 | Sst-MET-2 | Sweep ID: 12 | Init. freq.: 42.41 Hz\n"
     ]
    },
    {
     "name": "stderr",
     "output_type": "stream",
     "text": [
      "WARNING:root:sweep 42: ['Recording stopped before completing the experiment epoch']\n",
      "WARNING:root:sweep 43: ['Recording stopped before completing the experiment epoch']\n",
      "WARNING:root:sweep 44: ['Recording stopped before completing the experiment epoch']\n",
      "WARNING:root:sweep 45: ['Recording stopped before completing the experiment epoch']\n",
      "WARNING:root:sweep 46: ['Recording stopped before completing the experiment epoch']\n"
     ]
    },
    {
     "name": "stdout",
     "output_type": "stream",
     "text": [
      " 436 Specimen ID: 842844583 | VISp4 | Sst-MET-3 | Sweep ID: 10 | Init. freq.: 32.18 Hz\n"
     ]
    },
    {
     "name": "stderr",
     "output_type": "stream",
     "text": [
      "WARNING:root:sweep 14: ['stim epoch is missing', 'experiment epoch is missing']\n",
      "WARNING:root:sweep 20: ['stim epoch is missing', 'experiment epoch is missing']\n",
      "WARNING:root:sweep 22: ['test epoch is missing', 'stim epoch is missing', 'experiment epoch is missing']\n",
      "WARNING:root:sweep 23: ['test epoch is missing', 'stim epoch is missing', 'experiment epoch is missing']\n",
      "WARNING:root:sweep 24: ['test epoch is missing', 'stim epoch is missing', 'experiment epoch is missing']\n",
      "WARNING:root:sweep 25: ['test epoch is missing']\n",
      "WARNING:root:sweep 26: ['test epoch is missing']\n",
      "WARNING:root:sweep 27: ['test epoch is missing']\n",
      "WARNING:root:sweep 28: ['test epoch is missing']\n",
      "WARNING:root:sweep 29: ['test epoch is missing']\n",
      "WARNING:root:sweep 30: ['test epoch is missing', 'stim epoch is missing', 'experiment epoch is missing']\n",
      "WARNING:root:sweep 31: ['test epoch is missing', 'stim epoch is missing', 'experiment epoch is missing']\n",
      "WARNING:root:sweep 32: ['test epoch is missing', 'stim epoch is missing', 'experiment epoch is missing']\n",
      "WARNING:root:sweep 33: ['test epoch is missing', 'stim epoch is missing', 'experiment epoch is missing']\n",
      "WARNING:root:sweep 34: ['test epoch is missing', 'stim epoch is missing', 'experiment epoch is missing']\n",
      "WARNING:root:sweep 35: ['test epoch is missing']\n",
      "WARNING:root:sweep 36: ['test epoch is missing']\n",
      "WARNING:root:sweep 37: ['test epoch is missing']\n",
      "WARNING:root:sweep 38: ['test epoch is missing']\n",
      "WARNING:root:sweep 39: ['test epoch is missing']\n",
      "WARNING:root:sweep 45: ['stim epoch is missing', 'experiment epoch is missing']\n",
      "WARNING:root:sweep 46: ['stim epoch is missing', 'experiment epoch is missing']\n",
      "WARNING:root:sweep 48: ['stim epoch is missing', 'experiment epoch is missing']\n",
      "WARNING:root:sweep 49: ['stim epoch is missing', 'experiment epoch is missing']\n",
      "WARNING:root:sweep 51: ['stim epoch is missing', 'experiment epoch is missing']\n",
      "WARNING:root:sweep 52: ['stim epoch is missing', 'experiment epoch is missing']\n",
      "WARNING:root:sweep 53: ['stim epoch is missing', 'experiment epoch is missing']\n",
      "WARNING:root:sweep 54: ['stim epoch is missing', 'experiment epoch is missing']\n",
      "WARNING:root:sweep 55: ['stim epoch is missing', 'experiment epoch is missing']\n",
      "WARNING:root:sweep 61: ['stim epoch is missing', 'experiment epoch is missing']\n",
      "WARNING:root:sweep 64: ['stim epoch is missing', 'experiment epoch is missing']\n",
      "WARNING:root:sweep 65: ['stim epoch is missing', 'experiment epoch is missing']\n"
     ]
    },
    {
     "name": "stdout",
     "output_type": "stream",
     "text": [
      " 437 Specimen ID: 843366621 | VISp1 | Sst-MET-1 | Sweep ID: 12 | Init. freq.: 65.27 Hz\n"
     ]
    },
    {
     "name": "stderr",
     "output_type": "stream",
     "text": [
      "WARNING:root:sweep 7: ['stim epoch is missing', 'experiment epoch is missing']\n",
      "WARNING:root:sweep 8: ['stim epoch is missing', 'experiment epoch is missing']\n",
      "WARNING:root:sweep 9: ['stim epoch is missing', 'experiment epoch is missing']\n",
      "WARNING:root:sweep 10: ['stim epoch is missing', 'experiment epoch is missing']\n",
      "WARNING:root:sweep 44: ['Recording stopped before completing the experiment epoch']\n",
      "WARNING:root:sweep 45: ['Recording stopped before completing the experiment epoch']\n",
      "WARNING:root:sweep 46: ['Recording stopped before completing the experiment epoch']\n",
      "WARNING:root:sweep 47: ['Recording stopped before completing the experiment epoch']\n",
      "WARNING:root:sweep 48: ['Recording stopped before completing the experiment epoch']\n",
      "WARNING:root:sweep 52: ['Recording stopped before completing the experiment epoch']\n"
     ]
    },
    {
     "name": "stdout",
     "output_type": "stream",
     "text": [
      " 438 Specimen ID: 844757902 | VISp5 | Sst-MET-2 | Sweep ID: 9 | Init. freq.: 60.90 Hz\n"
     ]
    },
    {
     "name": "stderr",
     "output_type": "stream",
     "text": [
      "WARNING:root:sweep 5: ['stim epoch is missing', 'experiment epoch is missing']\n",
      "WARNING:root:sweep 9: ['stim epoch is missing', 'experiment epoch is missing']\n"
     ]
    },
    {
     "name": "stdout",
     "output_type": "stream",
     "text": [
      " 439 Specimen ID: 844870606 | VISp4 | Vip-MET-1 | Sweep ID: 9 | Init. freq.: 63.13 Hz\n"
     ]
    },
    {
     "name": "stderr",
     "output_type": "stream",
     "text": [
      "WARNING:root:sweep 36: ['Recording stopped before completing the experiment epoch']\n",
      "WARNING:root:sweep 37: ['Recording stopped before completing the experiment epoch']\n",
      "WARNING:root:sweep 38: ['Recording stopped before completing the experiment epoch']\n",
      "WARNING:root:sweep 39: ['Recording stopped before completing the experiment epoch']\n",
      "WARNING:root:sweep 40: ['Recording stopped before completing the experiment epoch']\n"
     ]
    },
    {
     "name": "stdout",
     "output_type": "stream",
     "text": [
      " 440 Specimen ID: 844908436 | VISpm2/3 | Vip-MET-1 | Sweep ID: 9 | Init. freq.: 113.12 Hz\n"
     ]
    },
    {
     "name": "stderr",
     "output_type": "stream",
     "text": [
      "WARNING:root:sweep 4: ['stim epoch is missing', 'experiment epoch is missing']\n",
      "WARNING:root:sweep 14: ['stim epoch is missing', 'experiment epoch is missing']\n",
      "WARNING:root:sweep 17: ['stim epoch is missing', 'experiment epoch is missing']\n",
      "WARNING:root:sweep 19: ['Recording stopped before completing the experiment epoch']\n",
      "WARNING:root:sweep 21: ['stim epoch is missing', 'experiment epoch is missing']\n",
      "WARNING:root:sweep 23: ['stim epoch is missing', 'experiment epoch is missing']\n",
      "WARNING:root:sweep 25: ['stim epoch is missing', 'experiment epoch is missing']\n",
      "WARNING:root:sweep 35: ['stim epoch is missing', 'experiment epoch is missing']\n",
      "WARNING:root:sweep 39: ['stim epoch is missing', 'experiment epoch is missing']\n",
      "WARNING:root:sweep 41: ['stim epoch is missing', 'experiment epoch is missing']\n",
      "WARNING:root:sweep 43: ['stim epoch is missing', 'experiment epoch is missing']\n",
      "WARNING:root:sweep 59: ['Recording stopped before completing the experiment epoch']\n",
      "WARNING:root:sweep 61: ['Recording stopped before completing the experiment epoch']\n",
      "WARNING:root:sweep 64: ['Recording stopped before completing the experiment epoch']\n",
      "WARNING:root:sweep 78: ['Recording stopped before completing the experiment epoch']\n",
      "WARNING:root:sweep 79: ['Recording stopped before completing the experiment epoch']\n",
      "WARNING:root:sweep 81: ['Recording stopped before completing the experiment epoch']\n",
      "WARNING:root:sweep 82: ['Recording stopped before completing the experiment epoch']\n",
      "WARNING:root:sweep 83: ['Recording stopped before completing the experiment epoch']\n",
      "WARNING:root:sweep 98: ['Recording stopped before completing the experiment epoch']\n",
      "WARNING:root:sweep 99: ['Recording stopped before completing the experiment epoch']\n",
      "WARNING:root:sweep 100: ['Recording stopped before completing the experiment epoch']\n",
      "WARNING:root:sweep 101: ['Recording stopped before completing the experiment epoch']\n",
      "WARNING:root:sweep 102: ['Recording stopped before completing the experiment epoch']\n",
      "WARNING:root:sweep 104: ['Recording stopped before completing the experiment epoch']\n",
      "WARNING:root:sweep 105: ['Recording stopped before completing the experiment epoch']\n"
     ]
    },
    {
     "name": "stdout",
     "output_type": "stream",
     "text": [
      " 441 Specimen ID: 844965212 | VISpor5 | Sst-MET-10 | Sweep ID: 20 | Init. freq.: 40.29 Hz\n"
     ]
    },
    {
     "name": "stderr",
     "output_type": "stream",
     "text": [
      "WARNING:root:sweep 15: ['stim epoch is missing', 'experiment epoch is missing']\n"
     ]
    },
    {
     "name": "stdout",
     "output_type": "stream",
     "text": [
      " 442 Specimen ID: 846902552 | VISp6a | Sst-MET-12 | Sweep ID: 9 | Init. freq.: 62.19 Hz\n"
     ]
    },
    {
     "name": "stderr",
     "output_type": "stream",
     "text": [
      "WARNING:root:sweep 10: ['stim epoch is missing', 'experiment epoch is missing']\n",
      "WARNING:root:sweep 20: ['stim epoch is missing', 'experiment epoch is missing']\n",
      "WARNING:root:sweep 38: ['Recording stopped before completing the experiment epoch']\n"
     ]
    },
    {
     "name": "stdout",
     "output_type": "stream",
     "text": [
      " 443 Specimen ID: 847083836 | VISl5 | Sst-MET-4 | Sweep ID: 11 | Init. freq.: 47.89 Hz\n"
     ]
    },
    {
     "name": "stderr",
     "output_type": "stream",
     "text": [
      "WARNING:root:sweep 4: ['stim epoch is missing', 'experiment epoch is missing']\n",
      "WARNING:root:sweep 10: ['stim epoch is missing', 'experiment epoch is missing']\n",
      "WARNING:root:sweep 19: ['stim epoch is missing', 'experiment epoch is missing']\n",
      "WARNING:root:sweep 35: ['Recording stopped before completing the experiment epoch']\n",
      "WARNING:root:sweep 37: ['Recording stopped before completing the experiment epoch']\n",
      "WARNING:root:sweep 38: ['Recording stopped before completing the experiment epoch']\n",
      "WARNING:root:sweep 42: ['Recording stopped before completing the experiment epoch']\n",
      "WARNING:root:sweep 43: ['Recording stopped before completing the experiment epoch']\n",
      "WARNING:root:sweep 47: ['Recording stopped before completing the experiment epoch']\n"
     ]
    },
    {
     "name": "stdout",
     "output_type": "stream",
     "text": [
      " 444 Specimen ID: 849535368 | VISpm5 | Sst-MET-13 | Sweep ID: 12 | Init. freq.: 32.20 Hz\n"
     ]
    },
    {
     "name": "stderr",
     "output_type": "stream",
     "text": [
      "WARNING:root:sweep 12: ['stim epoch is missing', 'experiment epoch is missing']\n"
     ]
    },
    {
     "name": "stdout",
     "output_type": "stream",
     "text": [
      " 445 Specimen ID: 849607183 | VISl5 | Sst-MET-7 | Sweep ID: 11 | Init. freq.: 95.60 Hz\n",
      " 446 Specimen ID: 851016910 | VISp2/3 | Sst-MET-3 | Sweep ID: 10 | Init. freq.: 53.36 Hz\n"
     ]
    },
    {
     "name": "stderr",
     "output_type": "stream",
     "text": [
      "WARNING:root:sweep 6: ['stim epoch is missing', 'experiment epoch is missing']\n",
      "WARNING:root:sweep 18: ['stim epoch is missing', 'experiment epoch is missing']\n"
     ]
    },
    {
     "name": "stdout",
     "output_type": "stream",
     "text": [
      " 447 Specimen ID: 853882442 | VISp6a | Pvalb-MET-2 | Sweep ID: 16 | Init. freq.: 99.21 Hz\n"
     ]
    },
    {
     "name": "stderr",
     "output_type": "stream",
     "text": [
      "WARNING:root:sweep 14: ['stim epoch is missing', 'experiment epoch is missing']\n",
      "WARNING:root:sweep 16: ['stim epoch is missing', 'experiment epoch is missing']\n",
      "WARNING:root:sweep 18: ['stim epoch is missing', 'experiment epoch is missing']\n",
      "WARNING:root:sweep 19: ['stim epoch is missing', 'experiment epoch is missing']\n",
      "WARNING:root:sweep 26: ['stim epoch is missing', 'experiment epoch is missing']\n",
      "WARNING:root:sweep 29: ['stim epoch is missing', 'experiment epoch is missing']\n"
     ]
    },
    {
     "name": "stdout",
     "output_type": "stream",
     "text": [
      " 448 Specimen ID: 855357345 | VISp1 | Sncg-MET-2 | Sweep ID: 7 | Init. freq.: 163.40 Hz\n"
     ]
    },
    {
     "name": "stderr",
     "output_type": "stream",
     "text": [
      "WARNING:root:sweep 13: ['stim epoch is missing', 'experiment epoch is missing']\n",
      "WARNING:root:sweep 34: ['Recording stopped before completing the experiment epoch']\n",
      "WARNING:root:sweep 35: ['Recording stopped before completing the experiment epoch']\n",
      "WARNING:root:sweep 36: ['Recording stopped before completing the experiment epoch']\n",
      "WARNING:root:sweep 37: ['Recording stopped before completing the experiment epoch']\n",
      "WARNING:root:sweep 38: ['Recording stopped before completing the experiment epoch']\n"
     ]
    },
    {
     "name": "stdout",
     "output_type": "stream",
     "text": [
      " 449 Specimen ID: 855791035 | VISp2/3 | Sncg-MET-1 | Sweep ID: 10 | Init. freq.: 69.06 Hz\n"
     ]
    },
    {
     "name": "stderr",
     "output_type": "stream",
     "text": [
      "WARNING:root:sweep 41: ['Recording stopped before completing the experiment epoch']\n",
      "WARNING:root:sweep 42: ['Recording stopped before completing the experiment epoch']\n",
      "WARNING:root:sweep 43: ['Recording stopped before completing the experiment epoch']\n",
      "WARNING:root:sweep 44: ['Recording stopped before completing the experiment epoch']\n",
      "WARNING:root:sweep 45: ['Recording stopped before completing the experiment epoch']\n"
     ]
    },
    {
     "name": "stdout",
     "output_type": "stream",
     "text": [
      " 450 Specimen ID: 855995114 | VISp1 | Sncg-MET-1 | Sweep ID: 9 | Init. freq.: 104.17 Hz\n"
     ]
    },
    {
     "name": "stderr",
     "output_type": "stream",
     "text": [
      "WARNING:root:sweep 7: ['stim epoch is missing', 'experiment epoch is missing']\n",
      "WARNING:root:sweep 16: ['stim epoch is missing', 'experiment epoch is missing']\n",
      "WARNING:root:sweep 19: ['stim epoch is missing', 'experiment epoch is missing']\n",
      "WARNING:root:sweep 33: ['Recording stopped before completing the experiment epoch']\n"
     ]
    },
    {
     "name": "stdout",
     "output_type": "stream",
     "text": [
      " 451 Specimen ID: 857223181 | VISp6a | Sncg-MET-1 | Sweep ID: 9 | Init. freq.: 62.74 Hz\n"
     ]
    },
    {
     "name": "stderr",
     "output_type": "stream",
     "text": [
      "WARNING:root:sweep 15: ['stim epoch is missing', 'experiment epoch is missing']\n"
     ]
    },
    {
     "name": "stdout",
     "output_type": "stream",
     "text": [
      " 452 Specimen ID: 857296784 | VISp4 | Sncg-MET-1 | Sweep ID: 9 | Init. freq.: 59.81 Hz\n"
     ]
    },
    {
     "name": "stderr",
     "output_type": "stream",
     "text": [
      "WARNING:root:sweep 13: ['stim epoch is missing', 'experiment epoch is missing']\n"
     ]
    },
    {
     "name": "stdout",
     "output_type": "stream",
     "text": [
      " 453 Specimen ID: 858255768 | VISl2/3 | Sncg-MET-1 | Sweep ID: 5 | Init. freq.: 177.30 Hz\n"
     ]
    },
    {
     "name": "stderr",
     "output_type": "stream",
     "text": [
      "WARNING:root:sweep 21: ['stim epoch is missing', 'experiment epoch is missing']\n",
      "WARNING:root:sweep 36: ['stim epoch is missing', 'experiment epoch is missing']\n"
     ]
    },
    {
     "name": "stdout",
     "output_type": "stream",
     "text": [
      " 454 Specimen ID: 859655391 | VISp2/3 | Sncg-MET-1 | Sweep ID: 9 | Init. freq.: 66.23 Hz\n"
     ]
    },
    {
     "name": "stderr",
     "output_type": "stream",
     "text": [
      "WARNING:root:sweep 4: ['stim epoch is missing', 'experiment epoch is missing']\n",
      "WARNING:root:sweep 5: ['stim epoch is missing', 'experiment epoch is missing']\n",
      "WARNING:root:sweep 6: ['stim epoch is missing', 'experiment epoch is missing']\n",
      "WARNING:root:sweep 7: ['stim epoch is missing', 'experiment epoch is missing']\n",
      "WARNING:root:sweep 15: ['stim epoch is missing', 'experiment epoch is missing']\n",
      "WARNING:root:sweep 26: ['stim epoch is missing', 'experiment epoch is missing']\n",
      "WARNING:root:sweep 31: ['stim epoch is missing', 'experiment epoch is missing']\n",
      "WARNING:root:sweep 42: ['Recording stopped before completing the experiment epoch']\n"
     ]
    },
    {
     "name": "stdout",
     "output_type": "stream",
     "text": [
      " 455 Specimen ID: 861736319 | VISp2/3 | Sncg-MET-1 | Sweep ID: 13 | Init. freq.: 116.55 Hz\n",
      " 456 Specimen ID: 861765455 | VISp2/3 | Sncg-MET-1 | Sweep ID: 9 | Init. freq.: 98.43 Hz\n",
      " 457 Specimen ID: 861769605 | VISp2/3 | Sncg-MET-1 | Sweep ID: 11 | Init. freq.: 48.22 Hz\n"
     ]
    },
    {
     "name": "stderr",
     "output_type": "stream",
     "text": [
      "WARNING:root:sweep 14: ['stim epoch is missing', 'experiment epoch is missing']\n",
      "WARNING:root:sweep 22: ['stim epoch is missing', 'experiment epoch is missing']\n"
     ]
    },
    {
     "name": "stdout",
     "output_type": "stream",
     "text": [
      " 458 Specimen ID: 862596299 | VISp5 | Sncg-MET-1 | Sweep ID: 11 | Init. freq.: 61.50 Hz\n"
     ]
    },
    {
     "name": "stderr",
     "output_type": "stream",
     "text": [
      "WARNING:root:sweep 32: ['Recording stopped before completing the experiment epoch']\n",
      "WARNING:root:sweep 44: ['Recording stopped before completing the experiment epoch']\n",
      "WARNING:root:sweep 46: ['Recording stopped before completing the experiment epoch']\n",
      "WARNING:root:sweep 47: ['Recording stopped before completing the experiment epoch']\n",
      "WARNING:root:sweep 48: ['Recording stopped before completing the experiment epoch']\n",
      "WARNING:root:sweep 49: ['Recording stopped before completing the experiment epoch']\n",
      "WARNING:root:sweep 50: ['Recording stopped before completing the experiment epoch']\n",
      "WARNING:root:sweep 51: ['Recording stopped before completing the experiment epoch']\n",
      "WARNING:root:sweep 52: ['Recording stopped before completing the experiment epoch']\n",
      "WARNING:root:sweep 53: ['Recording stopped before completing the experiment epoch']\n",
      "WARNING:root:sweep 65: ['Recording stopped before completing the experiment epoch']\n",
      "WARNING:root:sweep 66: ['Recording stopped before completing the experiment epoch']\n",
      "WARNING:root:sweep 67: ['Recording stopped before completing the experiment epoch']\n",
      "WARNING:root:sweep 68: ['Recording stopped before completing the experiment epoch']\n",
      "WARNING:root:sweep 69: ['Recording stopped before completing the experiment epoch']\n",
      "WARNING:root:sweep 90: ['Recording stopped before completing the experiment epoch']\n",
      "WARNING:root:sweep 92: ['Recording stopped before completing the experiment epoch']\n",
      "WARNING:root:sweep 93: ['Recording stopped before completing the experiment epoch']\n",
      "WARNING:root:sweep 95: ['Recording stopped before completing the experiment epoch']\n",
      "WARNING:root:sweep 97: ['Recording stopped before completing the experiment epoch']\n",
      "WARNING:root:sweep 111: ['Recording stopped before completing the experiment epoch']\n",
      "WARNING:root:sweep 112: ['Recording stopped before completing the experiment epoch']\n",
      "WARNING:root:sweep 113: ['Recording stopped before completing the experiment epoch']\n",
      "WARNING:root:sweep 114: ['Recording stopped before completing the experiment epoch']\n",
      "WARNING:root:sweep 115: ['Recording stopped before completing the experiment epoch']\n",
      "WARNING:root:sweep 116: ['Recording stopped before completing the experiment epoch']\n",
      "WARNING:root:sweep 117: ['Recording stopped before completing the experiment epoch']\n",
      "WARNING:root:sweep 118: ['Recording stopped before completing the experiment epoch']\n",
      "WARNING:root:sweep 119: ['Recording stopped before completing the experiment epoch']\n",
      "WARNING:root:sweep 120: ['Recording stopped before completing the experiment epoch']\n",
      "WARNING:root:sweep 132: ['Recording stopped before completing the experiment epoch']\n",
      "WARNING:root:sweep 133: ['Recording stopped before completing the experiment epoch']\n",
      "WARNING:root:sweep 134: ['Recording stopped before completing the experiment epoch']\n",
      "WARNING:root:sweep 155: ['stim epoch is missing', 'experiment epoch is missing']\n",
      "WARNING:root:sweep 156: ['stim epoch is missing', 'experiment epoch is missing']\n",
      "WARNING:root:sweep 183: ['Recording stopped before completing the experiment epoch']\n",
      "WARNING:root:sweep 186: ['Recording stopped before completing the experiment epoch']\n"
     ]
    },
    {
     "name": "stdout",
     "output_type": "stream",
     "text": [
      " 459 Specimen ID: 863585604 | VISp5 | Sst-MET-6 | Sweep ID: 9 | Init. freq.: 155.28 Hz\n"
     ]
    },
    {
     "name": "stderr",
     "output_type": "stream",
     "text": [
      "WARNING:root:sweep 18: ['Recording stopped before completing the experiment epoch']\n",
      "WARNING:root:sweep 61: ['Recording stopped before completing the experiment epoch']\n",
      "WARNING:root:sweep 62: ['Recording stopped before completing the experiment epoch']\n",
      "WARNING:root:sweep 63: ['Recording stopped before completing the experiment epoch']\n",
      "WARNING:root:sweep 64: ['Recording stopped before completing the experiment epoch']\n",
      "WARNING:root:sweep 65: ['Recording stopped before completing the experiment epoch']\n",
      "WARNING:root:sweep 70: ['Recording stopped before completing the experiment epoch']\n",
      "WARNING:root:sweep 123: ['Recording stopped before completing the experiment epoch']\n"
     ]
    },
    {
     "name": "stdout",
     "output_type": "stream",
     "text": [
      " 460 Specimen ID: 863604233 | VISp6a | Sst-MET-13 | Sweep ID: 11 | Init. freq.: 64.85 Hz\n"
     ]
    },
    {
     "name": "stderr",
     "output_type": "stream",
     "text": [
      "WARNING:root:sweep 27: ['Recording stopped before completing the experiment epoch']\n",
      "WARNING:root:sweep 29: ['Recording stopped before completing the experiment epoch']\n",
      "WARNING:root:sweep 30: ['Recording stopped before completing the experiment epoch']\n",
      "WARNING:root:sweep 31: ['Recording stopped before completing the experiment epoch']\n",
      "WARNING:root:sweep 33: ['Recording stopped before completing the experiment epoch']\n",
      "WARNING:root:sweep 105: ['Recording stopped before completing the experiment epoch']\n",
      "WARNING:root:sweep 106: ['Recording stopped before completing the experiment epoch']\n",
      "WARNING:root:sweep 108: ['Recording stopped before completing the experiment epoch']\n",
      "WARNING:root:sweep 110: ['Recording stopped before completing the experiment epoch']\n",
      "WARNING:root:sweep 134: ['Recording stopped before completing the experiment epoch']\n",
      "WARNING:root:sweep 135: ['Recording stopped before completing the experiment epoch']\n",
      "WARNING:root:sweep 136: ['Recording stopped before completing the experiment epoch']\n",
      "WARNING:root:sweep 137: ['Recording stopped before completing the experiment epoch']\n",
      "WARNING:root:sweep 138: ['Recording stopped before completing the experiment epoch']\n",
      "WARNING:root:sweep 142: ['Recording stopped before completing the experiment epoch']\n"
     ]
    },
    {
     "name": "stdout",
     "output_type": "stream",
     "text": [
      " 461 Specimen ID: 863631899 | VISp5 | Sst-MET-13 | Sweep ID: 10 | Init. freq.: 49.21 Hz\n"
     ]
    },
    {
     "name": "stderr",
     "output_type": "stream",
     "text": [
      "WARNING:root:sweep 51: ['Recording stopped before completing the experiment epoch']\n",
      "WARNING:root:sweep 52: ['Recording stopped before completing the experiment epoch']\n",
      "WARNING:root:sweep 53: ['Recording stopped before completing the experiment epoch']\n",
      "WARNING:root:sweep 54: ['Recording stopped before completing the experiment epoch']\n",
      "WARNING:root:sweep 55: ['Recording stopped before completing the experiment epoch']\n",
      "WARNING:root:sweep 56: ['Recording stopped before completing the experiment epoch']\n",
      "WARNING:root:sweep 63: ['stim epoch is missing', 'experiment epoch is missing']\n",
      "WARNING:root:sweep 104: ['stim epoch is missing', 'experiment epoch is missing']\n"
     ]
    },
    {
     "name": "stdout",
     "output_type": "stream",
     "text": [
      " 462 Specimen ID: 866267921 | VISp2/3 | Lamp5-MET-1 | Sweep ID: 9 | Init. freq.: 58.28 Hz\n",
      " 463 Specimen ID: 870661094 | VISp5 | Lamp5-MET-2 | Sweep ID: 11 | Init. freq.: 16.44 Hz\n",
      " 464 Specimen ID: 871782504 | VISpm5 | Pvalb-MET-3 | Sweep ID: 9 | Init. freq.: 82.51 Hz\n"
     ]
    },
    {
     "name": "stderr",
     "output_type": "stream",
     "text": [
      "WARNING:root:sweep 19: ['stim epoch is missing', 'experiment epoch is missing']\n"
     ]
    },
    {
     "name": "stdout",
     "output_type": "stream",
     "text": [
      " 465 Specimen ID: 872026690 | VISp6a | Pvalb-MET-2 | Sweep ID: 8 | Init. freq.: 88.34 Hz\n"
     ]
    },
    {
     "name": "stderr",
     "output_type": "stream",
     "text": [
      "WARNING:root:sweep 5: ['stim epoch is missing', 'experiment epoch is missing']\n",
      "WARNING:root:sweep 21: ['stim epoch is missing', 'experiment epoch is missing']\n",
      "WARNING:root:sweep 22: ['stim epoch is missing', 'experiment epoch is missing']\n",
      "WARNING:root:sweep 37: ['Recording stopped before completing the experiment epoch']\n",
      "WARNING:root:sweep 51: ['stim epoch is missing', 'experiment epoch is missing']\n"
     ]
    },
    {
     "name": "stdout",
     "output_type": "stream",
     "text": [
      " 466 Specimen ID: 872248529 | VISli2/3 | Sst-MET-2 | Sweep ID: 9 | Init. freq.: 41.88 Hz\n"
     ]
    },
    {
     "name": "stderr",
     "output_type": "stream",
     "text": [
      "WARNING:root:sweep 46: ['test epoch is missing']\n",
      "WARNING:root:sweep 47: ['test epoch is missing']\n",
      "WARNING:root:sweep 48: ['test epoch is missing']\n",
      "WARNING:root:sweep 49: ['test epoch is missing']\n",
      "WARNING:root:sweep 50: ['test epoch is missing']\n",
      "WARNING:root:sweep 59: ['stim epoch is missing', 'experiment epoch is missing']\n",
      "WARNING:root:sweep 118: ['stim epoch is missing', 'experiment epoch is missing']\n",
      "WARNING:root:sweep 136: ['Recording stopped before completing the experiment epoch']\n",
      "WARNING:root:sweep 137: ['Recording stopped before completing the experiment epoch']\n",
      "WARNING:root:sweep 138: ['Recording stopped before completing the experiment epoch']\n",
      "WARNING:root:sweep 139: ['Recording stopped before completing the experiment epoch']\n",
      "WARNING:root:sweep 140: ['Recording stopped before completing the experiment epoch']\n",
      "WARNING:root:sweep 144: ['Recording stopped before completing the experiment epoch']\n"
     ]
    },
    {
     "name": "stdout",
     "output_type": "stream",
     "text": [
      " 467 Specimen ID: 873854264 | VISp1 | Sst-MET-1 | Sweep ID: 5 | Init. freq.: 35.34 Hz\n"
     ]
    },
    {
     "name": "stderr",
     "output_type": "stream",
     "text": [
      "WARNING:root:sweep 9: ['stim epoch is missing', 'experiment epoch is missing']\n",
      "WARNING:root:sweep 18: ['stim epoch is missing', 'experiment epoch is missing']\n",
      "WARNING:root:sweep 24: ['stim epoch is missing', 'experiment epoch is missing']\n",
      "WARNING:root:sweep 25: ['stim epoch is missing', 'experiment epoch is missing']\n",
      "WARNING:root:sweep 38: ['Recording stopped before completing the experiment epoch']\n",
      "WARNING:root:sweep 39: ['Recording stopped before completing the experiment epoch']\n",
      "WARNING:root:sweep 42: ['Recording stopped before completing the experiment epoch']\n",
      "WARNING:root:sweep 58: ['Recording stopped before completing the experiment epoch']\n",
      "WARNING:root:sweep 59: ['Recording stopped before completing the experiment epoch']\n"
     ]
    },
    {
     "name": "stdout",
     "output_type": "stream",
     "text": [
      " 468 Specimen ID: 886335606 | VISp4 | Pvalb-MET-4 | Sweep ID: 12 | Init. freq.: 40.32 Hz\n"
     ]
    },
    {
     "name": "stderr",
     "output_type": "stream",
     "text": [
      "WARNING:root:sweep 33: ['stim epoch is missing', 'experiment epoch is missing']\n",
      "WARNING:root:sweep 34: ['Recording stopped before completing the experiment epoch']\n",
      "WARNING:root:sweep 66: ['Recording stopped before completing the experiment epoch']\n",
      "WARNING:root:sweep 67: ['Recording stopped before completing the experiment epoch']\n",
      "WARNING:root:sweep 68: ['Recording stopped before completing the experiment epoch']\n",
      "WARNING:root:sweep 69: ['Recording stopped before completing the experiment epoch']\n",
      "WARNING:root:sweep 70: ['Recording stopped before completing the experiment epoch']\n",
      "WARNING:root:sweep 71: ['Recording stopped before completing the experiment epoch']\n",
      "WARNING:root:sweep 75: ['Recording stopped before completing the experiment epoch']\n",
      "WARNING:root:sweep 76: ['Recording stopped before completing the experiment epoch']\n"
     ]
    },
    {
     "name": "stdout",
     "output_type": "stream",
     "text": [
      " 469 Specimen ID: 887048277 | VISp6a | Pvalb-MET-2 | Sweep ID: 17 | Init. freq.: 99.40 Hz\n"
     ]
    },
    {
     "name": "stderr",
     "output_type": "stream",
     "text": [
      "WARNING:root:sweep 5: ['stim epoch is missing', 'experiment epoch is missing']\n"
     ]
    },
    {
     "name": "stdout",
     "output_type": "stream",
     "text": [
      " 470 Specimen ID: 887156236 | VISp2/3 | Lamp5-MET-1 | Sweep ID: 9 | Init. freq.: 17.99 Hz\n"
     ]
    },
    {
     "name": "stderr",
     "output_type": "stream",
     "text": [
      "WARNING:root:sweep 35: ['Recording stopped before completing the experiment epoch']\n",
      "WARNING:root:sweep 36: ['Recording stopped before completing the experiment epoch']\n",
      "WARNING:root:sweep 37: ['Recording stopped before completing the experiment epoch']\n",
      "WARNING:root:sweep 38: ['Recording stopped before completing the experiment epoch']\n",
      "WARNING:root:sweep 39: ['Recording stopped before completing the experiment epoch']\n"
     ]
    },
    {
     "name": "stdout",
     "output_type": "stream",
     "text": [
      " 471 Specimen ID: 887288382 | VISp5 | Vip-MET-1 | Sweep ID: 9 | Init. freq.: 64.18 Hz\n"
     ]
    },
    {
     "name": "stderr",
     "output_type": "stream",
     "text": [
      "WARNING:root:sweep 16: ['stim epoch is missing', 'experiment epoch is missing']\n",
      "WARNING:root:sweep 36: ['Recording stopped before completing the experiment epoch']\n",
      "WARNING:root:sweep 37: ['Recording stopped before completing the experiment epoch']\n",
      "WARNING:root:sweep 38: ['Recording stopped before completing the experiment epoch']\n",
      "WARNING:root:sweep 39: ['Recording stopped before completing the experiment epoch']\n",
      "WARNING:root:sweep 40: ['Recording stopped before completing the experiment epoch']\n",
      "WARNING:root:sweep 41: ['Recording stopped before completing the experiment epoch']\n",
      "WARNING:root:sweep 42: ['Recording stopped before completing the experiment epoch']\n",
      "WARNING:root:sweep 43: ['Recording stopped before completing the experiment epoch']\n",
      "WARNING:root:sweep 44: ['Recording stopped before completing the experiment epoch']\n",
      "WARNING:root:sweep 45: ['Recording stopped before completing the experiment epoch']\n"
     ]
    },
    {
     "name": "stdout",
     "output_type": "stream",
     "text": [
      " 472 Specimen ID: 888108541 | VISp2/3 | Lamp5-MET-1 | Sweep ID: 7 | Init. freq.: 47.76 Hz\n",
      " 473 Specimen ID: 889183564 | VISp1 | Lamp5-MET-1 | Sweep ID: 9 | Init. freq.: 23.12 Hz\n",
      " 474 Specimen ID: 889235347 | VISp1 | Lamp5-MET-1 | Sweep ID: 9 | Init. freq.: 19.45 Hz\n",
      " 475 Specimen ID: 892547707 | VISp4 | Pvalb-MET-4 | Sweep ID: 10 | Init. freq.: 46.64 Hz\n"
     ]
    },
    {
     "name": "stderr",
     "output_type": "stream",
     "text": [
      "WARNING:root:sweep 21: ['stim epoch is missing', 'experiment epoch is missing']\n",
      "WARNING:root:sweep 46: ['Recording stopped before completing the experiment epoch']\n",
      "WARNING:root:sweep 50: ['Recording stopped before completing the experiment epoch']\n",
      "WARNING:root:sweep 71: ['Recording stopped before completing the experiment epoch']\n"
     ]
    },
    {
     "name": "stdout",
     "output_type": "stream",
     "text": [
      " 476 Specimen ID: 894308422 | VISp5 | Pvalb-MET-4 | Sweep ID: 13 | Init. freq.: 72.15 Hz\n",
      " 477 Specimen ID: 898697809 | VISp4 | Vip-MET-4 | Sweep ID: 8 | Init. freq.: 109.89 Hz\n",
      " 478 Specimen ID: 898703349 | VISp4 | Vip-MET-4 | Sweep ID: 9 | Init. freq.: 62.74 Hz\n"
     ]
    },
    {
     "name": "stderr",
     "output_type": "stream",
     "text": [
      "WARNING:root:sweep 36: ['Recording stopped before completing the experiment epoch']\n",
      "WARNING:root:sweep 37: ['Recording stopped before completing the experiment epoch']\n",
      "WARNING:root:sweep 38: ['Recording stopped before completing the experiment epoch']\n",
      "WARNING:root:sweep 39: ['Recording stopped before completing the experiment epoch']\n",
      "WARNING:root:sweep 40: ['Recording stopped before completing the experiment epoch']\n",
      "WARNING:root:sweep 44: ['Recording stopped before completing the experiment epoch']\n",
      "WARNING:root:sweep 46: ['Recording stopped before completing the experiment epoch']\n",
      "WARNING:root:sweep 47: ['Recording stopped before completing the experiment epoch']\n"
     ]
    },
    {
     "name": "stdout",
     "output_type": "stream",
     "text": [
      " 479 Specimen ID: 904023586 | VISp6a | Pvalb-MET-2 | Sweep ID: 8 | Init. freq.: 99.21 Hz\n"
     ]
    },
    {
     "name": "stderr",
     "output_type": "stream",
     "text": [
      "WARNING:root:sweep 5: ['stim epoch is missing', 'experiment epoch is missing']\n",
      "WARNING:root:sweep 11: ['stim epoch is missing', 'experiment epoch is missing']\n",
      "WARNING:root:sweep 12: ['stim epoch is missing', 'experiment epoch is missing']\n",
      "WARNING:root:sweep 25: ['stim epoch is missing', 'experiment epoch is missing']\n",
      "WARNING:root:sweep 35: ['Recording stopped before completing the experiment epoch']\n"
     ]
    },
    {
     "name": "stdout",
     "output_type": "stream",
     "text": [
      " 480 Specimen ID: 913928092 | VISl5 | Sncg-MET-1 | Sweep ID: 11 | Init. freq.: 47.39 Hz\n"
     ]
    },
    {
     "name": "stderr",
     "output_type": "stream",
     "text": [
      "WARNING:root:sweep 23: ['stim epoch is missing', 'experiment epoch is missing']\n",
      "WARNING:root:sweep 24: ['stim epoch is missing', 'experiment epoch is missing']\n"
     ]
    },
    {
     "name": "stdout",
     "output_type": "stream",
     "text": [
      " 481 Specimen ID: 935032340 | VISp5 | Sncg-MET-1 | Sweep ID: 11 | Init. freq.: 98.43 Hz\n"
     ]
    },
    {
     "name": "stderr",
     "output_type": "stream",
     "text": [
      "WARNING:root:sweep 19: ['stim epoch is missing', 'experiment epoch is missing']\n",
      "WARNING:root:sweep 42: ['Recording stopped before completing the experiment epoch']\n",
      "WARNING:root:sweep 43: ['Recording stopped before completing the experiment epoch']\n",
      "WARNING:root:sweep 44: ['Recording stopped before completing the experiment epoch']\n",
      "WARNING:root:sweep 45: ['Recording stopped before completing the experiment epoch']\n",
      "WARNING:root:sweep 46: ['Recording stopped before completing the experiment epoch']\n",
      "WARNING:root:sweep 50: ['Recording stopped before completing the experiment epoch']\n"
     ]
    },
    {
     "name": "stdout",
     "output_type": "stream",
     "text": [
      " 482 Specimen ID: 941794256 | VISp1 | Sncg-MET-1 | Sweep ID: 13 | Init. freq.: 64.52 Hz\n"
     ]
    },
    {
     "name": "stderr",
     "output_type": "stream",
     "text": [
      "WARNING:root:sweep 4: ['stim epoch is missing', 'experiment epoch is missing']\n",
      "WARNING:root:sweep 16: ['stim epoch is missing', 'experiment epoch is missing']\n",
      "WARNING:root:sweep 19: ['stim epoch is missing', 'experiment epoch is missing']\n",
      "WARNING:root:sweep 36: ['Recording stopped before completing the experiment epoch']\n"
     ]
    },
    {
     "name": "stdout",
     "output_type": "stream",
     "text": [
      " 483 Specimen ID: 941802910 | VISp6a | Sncg-MET-1 | Sweep ID: 13 | Init. freq.: 57.54 Hz\n"
     ]
    },
    {
     "name": "stderr",
     "output_type": "stream",
     "text": [
      "WARNING:root:sweep 6: ['stim epoch is missing', 'experiment epoch is missing']\n",
      "WARNING:root:sweep 16: ['stim epoch is missing', 'experiment epoch is missing']\n",
      "WARNING:root:sweep 18: ['stim epoch is missing', 'experiment epoch is missing']\n"
     ]
    },
    {
     "name": "stdout",
     "output_type": "stream",
     "text": [
      " 484 Specimen ID: 941824942 | VISp5 | Sncg-MET-3 | Sweep ID: 10 | Init. freq.: 61.35 Hz\n"
     ]
    },
    {
     "name": "stderr",
     "output_type": "stream",
     "text": [
      "WARNING:root:sweep 16: ['stim epoch is missing', 'experiment epoch is missing']\n"
     ]
    },
    {
     "name": "stdout",
     "output_type": "stream",
     "text": [
      " 485 Specimen ID: 941846857 | VISp2/3 | Sncg-MET-1 | Sweep ID: 5 | Init. freq.: 82.37 Hz\n"
     ]
    },
    {
     "name": "stderr",
     "output_type": "stream",
     "text": [
      "WARNING:root:sweep 7: ['stim epoch is missing', 'experiment epoch is missing']\n",
      "WARNING:root:sweep 26: ['stim epoch is missing', 'experiment epoch is missing']\n",
      "WARNING:root:sweep 37: ['Recording stopped before completing the experiment epoch']\n"
     ]
    },
    {
     "name": "stdout",
     "output_type": "stream",
     "text": [
      " 486 Specimen ID: 941868688 | VISp1 | Sncg-MET-1 | Sweep ID: 12 | Init. freq.: 108.46 Hz\n",
      " 487 Specimen ID: 941935110 | VISp2/3 | Sncg-MET-1 | Sweep ID: 14 | Init. freq.: 100.81 Hz\n"
     ]
    },
    {
     "name": "stderr",
     "output_type": "stream",
     "text": [
      "WARNING:root:sweep 16: ['stim epoch is missing', 'experiment epoch is missing']\n",
      "WARNING:root:sweep 55: ['Recording stopped before completing the experiment epoch']\n"
     ]
    },
    {
     "name": "stdout",
     "output_type": "stream",
     "text": [
      " 488 Specimen ID: 946190769 | VISp2/3 | Sncg-MET-1 | Sweep ID: 16 | Init. freq.: 39.68 Hz\n"
     ]
    },
    {
     "name": "stderr",
     "output_type": "stream",
     "text": [
      "WARNING:root:sweep 8: ['stim epoch is missing', 'experiment epoch is missing']\n",
      "WARNING:root:sweep 10: ['stim epoch is missing', 'experiment epoch is missing']\n",
      "WARNING:root:sweep 21: ['stim epoch is missing', 'experiment epoch is missing']\n",
      "WARNING:root:sweep 23: ['stim epoch is missing', 'experiment epoch is missing']\n",
      "WARNING:root:sweep 30: ['stim epoch is missing', 'experiment epoch is missing']\n"
     ]
    },
    {
     "name": "stdout",
     "output_type": "stream",
     "text": [
      " 489 Specimen ID: 958930508 | VISp6a | Pvalb-MET-2 | Sweep ID: 17 | Init. freq.: 100.60 Hz\n"
     ]
    },
    {
     "name": "stderr",
     "output_type": "stream",
     "text": [
      "WARNING:root:sweep 19: ['stim epoch is missing', 'experiment epoch is missing']\n",
      "WARNING:root:sweep 20: ['stim epoch is missing', 'experiment epoch is missing']\n",
      "WARNING:root:sweep 21: ['stim epoch is missing', 'experiment epoch is missing']\n",
      "WARNING:root:sweep 22: ['stim epoch is missing', 'experiment epoch is missing']\n",
      "WARNING:root:sweep 45: ['Recording stopped before completing the experiment epoch']\n",
      "WARNING:root:sweep 46: ['Recording stopped before completing the experiment epoch']\n",
      "WARNING:root:sweep 47: ['Recording stopped before completing the experiment epoch']\n",
      "WARNING:root:sweep 48: ['Recording stopped before completing the experiment epoch']\n",
      "WARNING:root:sweep 49: ['Recording stopped before completing the experiment epoch']\n"
     ]
    },
    {
     "name": "stdout",
     "output_type": "stream",
     "text": [
      " 490 Specimen ID: 992268582 | VISp2/3 | Pvalb-MET-5 | Sweep ID: 11 | Init. freq.: 94.88 Hz\n"
     ]
    },
    {
     "name": "stderr",
     "output_type": "stream",
     "text": [
      "WARNING:root:sweep 13: ['stim epoch is missing', 'experiment epoch is missing']\n",
      "WARNING:root:sweep 18: ['stim epoch is missing', 'experiment epoch is missing']\n",
      "WARNING:root:sweep 21: ['stim epoch is missing', 'experiment epoch is missing']\n",
      "WARNING:root:sweep 24: ['stim epoch is missing', 'experiment epoch is missing']\n",
      "WARNING:root:sweep 26: ['stim epoch is missing', 'experiment epoch is missing']\n",
      "WARNING:root:sweep 44: ['Recording stopped before completing the experiment epoch']\n",
      "WARNING:root:sweep 45: ['Recording stopped before completing the experiment epoch']\n",
      "WARNING:root:sweep 46: ['Recording stopped before completing the experiment epoch']\n",
      "WARNING:root:sweep 47: ['Recording stopped before completing the experiment epoch']\n",
      "WARNING:root:sweep 48: ['Recording stopped before completing the experiment epoch']\n"
     ]
    },
    {
     "name": "stdout",
     "output_type": "stream",
     "text": [
      " 491 Specimen ID: 992386952 | VISl1 | Sncg-MET-1 | Sweep ID: 8 | Init. freq.: 94.88 Hz\n"
     ]
    },
    {
     "name": "stderr",
     "output_type": "stream",
     "text": [
      "WARNING:root:sweep 15: ['stim epoch is missing', 'experiment epoch is missing']\n"
     ]
    },
    {
     "name": "stdout",
     "output_type": "stream",
     "text": [
      " 492 Specimen ID: 992830261 | VISp5 | Sncg-MET-3 | Sweep ID: 10 | Init. freq.: 45.17 Hz\n"
     ]
    },
    {
     "name": "stderr",
     "output_type": "stream",
     "text": [
      "WARNING:root:sweep 4: ['stim epoch is missing', 'experiment epoch is missing']\n",
      "WARNING:root:sweep 5: ['stim epoch is missing', 'experiment epoch is missing']\n",
      "WARNING:root:sweep 7: ['stim epoch is missing', 'experiment epoch is missing']\n",
      "WARNING:root:sweep 22: ['stim epoch is missing', 'experiment epoch is missing']\n",
      "WARNING:root:sweep 25: ['stim epoch is missing', 'experiment epoch is missing']\n",
      "WARNING:root:sweep 55: ['Recording stopped before completing the experiment epoch']\n"
     ]
    },
    {
     "name": "stdout",
     "output_type": "stream",
     "text": [
      " 493 Specimen ID: 993245688 | VISp2/3 | Sncg-MET-1 | Sweep ID: 20 | Init. freq.: 47.76 Hz\n"
     ]
    },
    {
     "name": "stderr",
     "output_type": "stream",
     "text": [
      "WARNING:root:sweep 5: ['stim epoch is missing', 'experiment epoch is missing']\n",
      "WARNING:root:sweep 7: ['stim epoch is missing', 'experiment epoch is missing']\n",
      "WARNING:root:sweep 9: ['stim epoch is missing', 'experiment epoch is missing']\n",
      "WARNING:root:sweep 14: ['stim epoch is missing', 'experiment epoch is missing']\n",
      "WARNING:root:sweep 16: ['stim epoch is missing', 'experiment epoch is missing']\n",
      "WARNING:root:sweep 25: ['stim epoch is missing', 'experiment epoch is missing']\n",
      "WARNING:root:sweep 26: ['stim epoch is missing', 'experiment epoch is missing']\n",
      "WARNING:root:sweep 30: ['stim epoch is missing', 'experiment epoch is missing']\n",
      "WARNING:root:sweep 32: ['stim epoch is missing', 'experiment epoch is missing']\n",
      "WARNING:root:sweep 49: ['Recording stopped before completing the experiment epoch']\n",
      "WARNING:root:sweep 50: ['Recording stopped before completing the experiment epoch']\n",
      "WARNING:root:sweep 51: ['Recording stopped before completing the experiment epoch']\n",
      "WARNING:root:sweep 52: ['Recording stopped before completing the experiment epoch']\n",
      "WARNING:root:sweep 53: ['Recording stopped before completing the experiment epoch']\n"
     ]
    },
    {
     "name": "stdout",
     "output_type": "stream",
     "text": [
      " 494 Specimen ID: 993283588 | VISp2/3 | Sncg-MET-1 | Sweep ID: 17 | Init. freq.: 80.78 Hz\n"
     ]
    }
   ],
   "source": [
    "# Set variables to save\n",
    "all_ephys_features = pd.DataFrame()\n",
    "V, specimen_id, structure, t_type, met_type = [], [], [], [], []\n",
    "\n",
    "# Set stimulus duration (500 ms as in our data)\n",
    "stim_duration = 0.5 \n",
    "\n",
    "# Set time window before and after stimulus (100 ms as in our data)\n",
    "t_no_stim = 0.1\n",
    "\n",
    "# Define standardized number samples, make sure that sampling freq is above Nyquist (> 20kHz works)\n",
    "t_standardized = np.arange(0, 0.7, 1/30000)\n",
    "\n",
    "for cell_id in np.arange(len(metadata)):\n",
    "    \n",
    "    # Initialize variable to know if cell should be saved\n",
    "    valid_cell = False\n",
    "        \n",
    "    # Get current specimen id\n",
    "    specimen_id_now = metadata.iloc[cell_id, :][\"cell_specimen_id\"]\n",
    "    \n",
    "    # Get ephys file name\n",
    "    nbw_idx = (file_manifest[\"file_type\"]==\"nwb\") & (\n",
    "        file_manifest[\"cell_specimen_id\"]==float(specimen_id_now))\n",
    "    nbw_file = file_manifest.loc[nbw_idx,:][\"file_name\"].values[0]\n",
    "\n",
    "    # Load experiment for current specimen\n",
    "    path_to_file = data_path + nbw_file.split(\"_\")[0] + \"/\" + nbw_file\n",
    "    data_set = create_ephys_data_set(nwb_file=path_to_file)\n",
    "    \n",
    "    # Check if current file is valid\n",
    "    try:\n",
    "        # Refine current data\n",
    "        drop_failed_sweeps(data_set)\n",
    "    except TypeError:\n",
    "        print(\"%4.f TypeError\" % cell_id)\n",
    "        continue\n",
    "\n",
    "    # get sweep table of Long Square sweeps\n",
    "    long_square_table = data_set.filtered_sweep_table(\n",
    "        stimuli=data_set.ontology.long_square_names\n",
    "    )\n",
    "    long_square_sweeps = data_set.sweep_set(long_square_table.sweep_number)\n",
    "    \n",
    "    # Initialize 100 Hz variable\n",
    "    best_init_freq = np.inf\n",
    "\n",
    "    for sweep_id in np.arange(len(long_square_sweeps.sweep_number)):\n",
    "\n",
    "        # Compute variables in tVI format (s,mV,mA)\n",
    "        t = long_square_sweeps.t[sweep_id]\n",
    "        v = long_square_sweeps.v[sweep_id]\n",
    "        i = long_square_sweeps.i[sweep_id]\n",
    "\n",
    "        # Get current stim onset\n",
    "        stim_onset_index, stim_offset_index = get_stim_epoch(i)\n",
    "        t_stim_onset = t[stim_onset_index]\n",
    "        t_stim_offset = t_stim_onset + stim_duration\n",
    "\n",
    "        # Detect spikes\n",
    "        putative_spikes = spkd.detect_putative_spikes(v, t, t_stim_onset, t_stim_offset)\n",
    "        peaks = spkd.find_peak_indexes(v, t, putative_spikes, t_stim_offset)\n",
    "        peak_indexes, spike_indexes = spkd.filter_putative_spikes(v, t, putative_spikes, peaks)\n",
    "\n",
    "        # Check if it's a valid sweep (Freq>5Hz) and that V and I aren't missing\n",
    "        if (len(spike_indexes) >= 2) & (len(v) == len(i)):\n",
    "\n",
    "            # Calculate initial firing frequency in Hz\n",
    "            init_freq = 1 / (t[spike_indexes[1]] - t[spike_indexes[0]])\n",
    "            \n",
    "            # Calculate the coefficient of variation of spike amplitudes\n",
    "            trough_indexes = spkd.find_trough_indexes(v, t, spike_indexes, peak_indexes)\n",
    "            spike_amp = v[spike_indexes] - v[trough_indexes.astype(int)]\n",
    "            CV_amp = np.std(spike_amp) / np.mean(spike_amp)\n",
    "\n",
    "            # Store the selected 100 Hz trace\n",
    "            if np.abs(100-init_freq)<=np.abs(100-best_init_freq):\n",
    "                \n",
    "                if init_freq==best_init_freq:\n",
    "                    if best_CV_amp >= CV_amp:\n",
    "                        # update saved CV of spike amplitudes\n",
    "                        best_CV_amp = CV_amp\n",
    "                        # update saved sweep\n",
    "                        best_sweep_id = sweep_id\n",
    "                else:\n",
    "                    # save initial firing rate\n",
    "                    best_init_freq = init_freq\n",
    "                    # save CV of spike amplitudes\n",
    "                    best_CV_amp = CV_amp\n",
    "                    # save corresponding sweep\n",
    "                    best_sweep_id = sweep_id\n",
    "                    \n",
    "                # get sampling rate\n",
    "                sampling_rate = long_square_sweeps.sampling_rate[sweep_id]\n",
    "                # get trace from 0ms to 500ms after stimulus onset\n",
    "                idx_start = int((t_stim_onset-t_no_stim)*sampling_rate)\n",
    "                idx_mid1  = int((t_stim_onset+stim_duration)*sampling_rate)\n",
    "                V_tmp1 = v[range(idx_start, idx_mid1)]\n",
    "                # set number of samples after stimulus, add delta of 0.5ms to   \n",
    "                # avoid unwanted fluctuations directly after end of stimulus\n",
    "                V_tmp2 = v[int(stim_offset_index + 0.5/1000*sampling_rate):] \n",
    "                # smooth decay \n",
    "                V_tmp2 = V_tmp2[v[idx_mid1] > V_tmp2]\n",
    "                # concatenate voltages (end of experiment determined during standardization)\n",
    "                V_crop = np.concatenate((V_tmp1, V_tmp2[:int(2*t_no_stim*sampling_rate)]))\n",
    "                \n",
    "                if int(0.7*sampling_rate)<=len(V_crop):\n",
    "                    # standardize voltage trace\n",
    "                    interp = interp1d(np.arange(0, len(V_crop))/sampling_rate, V_crop)\n",
    "                    best_sweep = interp(t_standardized)\n",
    "                    curr_best_sweep = np.array([i[idx_mid1]])\n",
    "                    # set cell as valid (note by definition all met cells are valid)\n",
    "                    valid_cell = True\n",
    "\n",
    "    if valid_cell:\n",
    "        \n",
    "        features_now = get_cell_features(specimen_id_now, t_standardized, curr_best_sweep, \n",
    "                                         np.expand_dims(best_sweep, axis=1), \n",
    "                                         start=t_no_stim, end=t_no_stim+stim_duration)\n",
    "        features_now.to_csv(save_path + 'features/' + str(specimen_id_now) + '.csv') \n",
    "        all_ephys_features = pd.concat([all_ephys_features, features_now], sort = True)\n",
    "            \n",
    "        structure_now = metadata.iloc[cell_id, :][\"structure\"]\n",
    "        met_type_now = metadata.iloc[cell_id, :][\"met_type\"]\n",
    "        t_type_now = metadata.iloc[cell_id, :][\"Unnamed: 21\"]\n",
    "        \n",
    "        specimen_id.append(specimen_id_now)\n",
    "        structure.append(structure_now)\n",
    "        met_type.append(met_type_now)\n",
    "        t_type.append(t_type_now)\n",
    "        V.append(best_sweep)\n",
    "\n",
    "        print(\"%4.f Specimen ID: %d | %s | %s | Sweep ID: %d | Init. freq.: %.2f Hz\" % \n",
    "              (cell_id, specimen_id_now, structure_now, met_type_now, best_sweep_id, best_init_freq))"
   ]
  },
  {
   "cell_type": "code",
   "execution_count": 7,
   "metadata": {},
   "outputs": [],
   "source": [
    "all_ephys_features.to_csv(save_path + 'v1_patchseq_ephys_features.csv') "
   ]
  },
  {
   "cell_type": "code",
   "execution_count": 8,
   "metadata": {},
   "outputs": [
    {
     "data": {
      "text/plain": [
       "(494, 21000)"
      ]
     },
     "execution_count": 8,
     "metadata": {},
     "output_type": "execute_result"
    }
   ],
   "source": [
    "V = np.vstack(V)\n",
    "V.shape"
   ]
  },
  {
   "cell_type": "code",
   "execution_count": 9,
   "metadata": {},
   "outputs": [],
   "source": [
    "with open(save_path + 'voltage_traces.pickle', 'wb') as f:\n",
    "    pickle.dump({\"V\": V, \"specimen_id\": specimen_id, \"structure\": structure, \n",
    "                 \"met_type\": met_type, \"t_type\": t_type}, f)"
   ]
  },
  {
   "cell_type": "code",
   "execution_count": null,
   "metadata": {},
   "outputs": [],
   "source": []
  }
 ],
 "metadata": {
  "kernelspec": {
   "display_name": "Python 3 (ipykernel)",
   "language": "python",
   "name": "python3"
  },
  "language_info": {
   "codemirror_mode": {
    "name": "ipython",
    "version": 3
   },
   "file_extension": ".py",
   "mimetype": "text/x-python",
   "name": "python",
   "nbconvert_exporter": "python",
   "pygments_lexer": "ipython3",
   "version": "3.10.4"
  },
  "toc": {
   "base_numbering": 1,
   "nav_menu": {},
   "number_sections": true,
   "sideBar": true,
   "skip_h1_title": false,
   "title_cell": "Table of Contents",
   "title_sidebar": "Contents",
   "toc_cell": false,
   "toc_position": {},
   "toc_section_display": true,
   "toc_window_display": false
  }
 },
 "nbformat": 4,
 "nbformat_minor": 4
}
